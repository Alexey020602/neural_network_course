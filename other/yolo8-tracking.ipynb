{
  "nbformat": 4,
  "nbformat_minor": 0,
  "metadata": {
    "colab": {
      "provenance": [],
      "authorship_tag": "ABX9TyMrmMTvIGV8oAtD3wnOc3Hy"
    },
    "kernelspec": {
      "name": "python3",
      "display_name": "Python 3"
    },
    "language_info": {
      "name": "python"
    }
  },
  "cells": [
    {
      "cell_type": "markdown",
      "source": [
        "# Практическое занятие по методам трекинга объектов на основе модели Yolo"
      ],
      "metadata": {
        "id": "FbYbzv5wzX78"
      }
    },
    {
      "cell_type": "markdown",
      "source": [
        "## Подготовка окружения для работы с Yolo\n",
        "\n",
        "Установка пакета Ultralytics для работы с моделью Yolo."
      ],
      "metadata": {
        "id": "Bbo5vmJ8zl09"
      }
    },
    {
      "cell_type": "code",
      "execution_count": null,
      "metadata": {
        "id": "8GJlkQeGgqqw"
      },
      "outputs": [],
      "source": [
        "!pip install ultralytics"
      ]
    },
    {
      "cell_type": "markdown",
      "source": [
        "Загрузка весовых коэффициентов предобученной модели."
      ],
      "metadata": {
        "id": "8_zD3LPgz4s-"
      }
    },
    {
      "cell_type": "code",
      "source": [
        "!wget https://github.com/ultralytics/assets/releases/download/v8.1.0/yolov8x.pt"
      ],
      "metadata": {
        "id": "5uGZWuOwguXr"
      },
      "execution_count": null,
      "outputs": []
    },
    {
      "cell_type": "code",
      "source": [
        "!ls"
      ],
      "metadata": {
        "id": "ajFpRTb3hHqg"
      },
      "execution_count": null,
      "outputs": []
    },
    {
      "cell_type": "markdown",
      "source": [
        "## Детекция объектов на изображении"
      ],
      "metadata": {
        "id": "GIKmULa31rmq"
      }
    },
    {
      "cell_type": "code",
      "source": [
        "%%writefile sources.csv\n",
        "url\n",
        "https://raw.githubusercontent.com/ant-nik/neural_network_course/main/practice_2_data/video_1_fixed/image_001.jpg\n",
        "https://raw.githubusercontent.com/ant-nik/neural_network_course/main/practice_2_data/video_1_fixed/image_002.jpg\n",
        "https://raw.githubusercontent.com/ant-nik/neural_network_course/main/practice_2_data/video_1_fixed/image_003.jpg\n",
        "https://raw.githubusercontent.com/ant-nik/neural_network_course/main/practice_2_data/video_2_fixed/image_005.jpg"
      ],
      "metadata": {
        "id": "sxdPFf6tnJXr"
      },
      "execution_count": null,
      "outputs": []
    },
    {
      "cell_type": "code",
      "source": [
        "!for line in `cat sources.csv`; do wget $line; done"
      ],
      "metadata": {
        "id": "WD6sN_7zpDWK"
      },
      "execution_count": null,
      "outputs": []
    },
    {
      "cell_type": "code",
      "source": [
        "%%writefile localfiles.csv\n",
        "image_001.jpg\n",
        "image_002.jpg\n",
        "image_003.jpg\n",
        "image_005.jpg"
      ],
      "metadata": {
        "id": "VARJmZgsnog5"
      },
      "execution_count": null,
      "outputs": []
    },
    {
      "cell_type": "code",
      "source": [
        "from ultralytics import YOLO\n",
        "import plotly.express as plte\n",
        "\n",
        "# Load a pretrained YOLOv8n model\n",
        "model = YOLO('yolov8x.pt')\n",
        "# Define remote image or video URL\n",
        "source = 'localfiles.csv'\n",
        "# Run inference on the source\n",
        "results = model(\".\")  # list of Results objects\n",
        "for res in results:\n",
        "    plte.imshow(res.plot()).show()"
      ],
      "metadata": {
        "id": "DOdjig7uhJSi"
      },
      "execution_count": null,
      "outputs": []
    },
    {
      "cell_type": "code",
      "source": [],
      "metadata": {
        "id": "T_W4nKJlzAF-"
      },
      "execution_count": null,
      "outputs": []
    }
  ]
}