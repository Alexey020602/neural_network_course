{
  "nbformat": 4,
  "nbformat_minor": 0,
  "metadata": {
    "colab": {
      "provenance": []
    },
    "kernelspec": {
      "name": "python3",
      "display_name": "Python 3"
    },
    "language_info": {
      "name": "python"
    },
    "widgets": {
      "application/vnd.jupyter.widget-state+json": {
        "95fedd56a11c4aa18aa26ed0876d074f": {
          "model_module": "qslwidgets",
          "model_name": "MediaLabelerModel",
          "model_module_version": "0.2.26",
          "state": {
            "_dom_classes": [],
            "_model_module": "qslwidgets",
            "_model_module_version": "0.2.26",
            "_model_name": "MediaLabelerModel",
            "_view_count": null,
            "_view_module": "qslwidgets",
            "_view_module_version": "0.2.26",
            "_view_name": "MediaLabelerView",
            "action": "",
            "base": {
              "serverRoot": "",
              "url": "https://localhost:8080/"
            },
            "buttons": {
              "prev": false,
              "next": true,
              "save": true,
              "config": true,
              "delete": false,
              "ignore": true,
              "unignore": false
            },
            "config": {
              "regions": [
                {
                  "name": "Object",
                  "multiple": true,
                  "options": [
                    {
                      "name": "bottle"
                    },
                    {
                      "name": "bug"
                    }
                  ]
                }
              ]
            },
            "idx": 0,
            "indexState": {
              "rows": [
                {
                  "qslId": 0,
                  "target": "https://github.com/ant-nik/neural_network_course/raw/main/practice_2_data/video_1/image_001.jpg",
                  "labeled": "No",
                  "ignored": "No",
                  "labels": ""
                },
                {
                  "qslId": 1,
                  "target": "https://github.com/ant-nik/neural_network_course/raw/main/practice_2_data/video_1/image_002.jpg",
                  "labeled": "No",
                  "ignored": "No",
                  "labels": ""
                },
                {
                  "qslId": 2,
                  "target": "https://github.com/ant-nik/neural_network_course/raw/main/practice_2_data/video_1/image_003.jpg",
                  "labeled": "No",
                  "ignored": "No",
                  "labels": ""
                },
                {
                  "qslId": 3,
                  "target": "https://github.com/ant-nik/neural_network_course/raw/main/practice_2_data/video_2/image_005.jpg",
                  "labeled": "No",
                  "ignored": "No",
                  "labels": ""
                },
                {
                  "qslId": 4,
                  "target": "https://github.com/ant-nik/neural_network_course/raw/main/practice_2_data/video_2/image_006.jpg",
                  "labeled": "No",
                  "ignored": "No",
                  "labels": ""
                },
                {
                  "qslId": 5,
                  "target": "https://github.com/ant-nik/neural_network_course/raw/main/practice_2_data/video_2/image_007.jpg",
                  "labeled": "No",
                  "ignored": "No",
                  "labels": ""
                },
                {
                  "qslId": 6,
                  "target": "https://github.com/ant-nik/neural_network_course/raw/main/practice_2_data/video_2/image_008.jpg",
                  "labeled": "No",
                  "ignored": "No",
                  "labels": ""
                }
              ],
              "columns": [
                {
                  "field": "target",
                  "type": "string",
                  "flex": 1,
                  "headerName": "Target"
                },
                {
                  "field": "labeled",
                  "type": "string",
                  "headerName": "Labeled"
                },
                {
                  "field": "ignored",
                  "type": "string",
                  "headerName": "Ignored"
                },
                {
                  "field": "labels",
                  "type": "string",
                  "headerName": "Labels"
                }
              ],
              "rowCount": 10,
              "page": 0,
              "rowsPerPage": 7,
              "sortModel": [],
              "filterModel": []
            },
            "labels": {},
            "layout": "IPY_MODEL_b81ab76b233c4127844e86cb727da56e",
            "maxCanvasSize": 512,
            "maxViewHeight": 512,
            "message": "",
            "mode": "dark",
            "preload": [],
            "progress": 0,
            "states": [
              {
                "idx": 0,
                "target": null,
                "type": "image",
                "metadata": {},
                "selected": true,
                "ignored": false,
                "labeled": false,
                "labels": {},
                "visible": true
              }
            ],
            "type": "image",
            "urls": [
              "https://github.com/ant-nik/neural_network_course/raw/main/practice_2_data/video_1/image_001.jpg"
            ],
            "viewState": "labeling"
          }
        },
        "b81ab76b233c4127844e86cb727da56e": {
          "model_module": "@jupyter-widgets/base",
          "model_name": "LayoutModel",
          "model_module_version": "1.2.0",
          "state": {
            "_model_module": "@jupyter-widgets/base",
            "_model_module_version": "1.2.0",
            "_model_name": "LayoutModel",
            "_view_count": null,
            "_view_module": "@jupyter-widgets/base",
            "_view_module_version": "1.2.0",
            "_view_name": "LayoutView",
            "align_content": null,
            "align_items": null,
            "align_self": null,
            "border": null,
            "bottom": null,
            "display": null,
            "flex": null,
            "flex_flow": null,
            "grid_area": null,
            "grid_auto_columns": null,
            "grid_auto_flow": null,
            "grid_auto_rows": null,
            "grid_column": null,
            "grid_gap": null,
            "grid_row": null,
            "grid_template_areas": null,
            "grid_template_columns": null,
            "grid_template_rows": null,
            "height": null,
            "justify_content": null,
            "justify_items": null,
            "left": null,
            "margin": null,
            "max_height": null,
            "max_width": null,
            "min_height": null,
            "min_width": null,
            "object_fit": null,
            "object_position": null,
            "order": null,
            "overflow": null,
            "overflow_x": null,
            "overflow_y": null,
            "padding": null,
            "right": null,
            "top": null,
            "visibility": null,
            "width": null
          }
        },
        "ca708d2e25f84518b2877a4c9b8059e2": {
          "model_module": "qslwidgets",
          "model_name": "MediaLabelerModel",
          "model_module_version": "0.2.26",
          "state": {
            "_dom_classes": [],
            "_model_module": "qslwidgets",
            "_model_module_version": "0.2.26",
            "_model_name": "MediaLabelerModel",
            "_view_count": null,
            "_view_module": "qslwidgets",
            "_view_module_version": "0.2.26",
            "_view_name": "MediaLabelerView",
            "action": "",
            "base": {
              "serverRoot": "",
              "url": "https://localhost:8080/"
            },
            "buttons": {
              "prev": false,
              "next": true,
              "save": true,
              "config": true,
              "delete": true,
              "ignore": false,
              "unignore": false
            },
            "config": {
              "regions": [
                {
                  "name": "Type",
                  "multiple": true,
                  "options": [
                    {
                      "name": "bottle"
                    },
                    {
                      "name": "bag"
                    }
                  ]
                }
              ]
            },
            "idx": 0,
            "indexState": {
              "rows": [
                {
                  "qslId": 0,
                  "target": "https://github.com/ant-nik/neural_network_course/raw/main/practice_2_data/video_1/image_001.jpg",
                  "labeled": "Yes",
                  "ignored": "No",
                  "labels": ""
                },
                {
                  "qslId": 1,
                  "target": "https://github.com/ant-nik/neural_network_course/raw/main/practice_2_data/video_1/image_002.jpg",
                  "labeled": "Yes",
                  "ignored": "No",
                  "labels": ""
                },
                {
                  "qslId": 2,
                  "target": "https://github.com/ant-nik/neural_network_course/raw/main/practice_2_data/video_1/image_003.jpg",
                  "labeled": "Yes",
                  "ignored": "No",
                  "labels": ""
                },
                {
                  "qslId": 3,
                  "target": "https://github.com/ant-nik/neural_network_course/raw/main/practice_2_data/video_2/image_005.jpg",
                  "labeled": "Yes",
                  "ignored": "No",
                  "labels": ""
                },
                {
                  "qslId": 4,
                  "target": "https://github.com/ant-nik/neural_network_course/raw/main/practice_2_data/video_2/image_006.jpg",
                  "labeled": "Yes",
                  "ignored": "No",
                  "labels": ""
                },
                {
                  "qslId": 5,
                  "target": "https://github.com/ant-nik/neural_network_course/raw/main/practice_2_data/video_2/image_007.jpg",
                  "labeled": "Yes",
                  "ignored": "No",
                  "labels": ""
                },
                {
                  "qslId": 6,
                  "target": "https://github.com/ant-nik/neural_network_course/raw/main/practice_2_data/video_2/image_008.jpg",
                  "labeled": "Yes",
                  "ignored": "No",
                  "labels": ""
                }
              ],
              "columns": [
                {
                  "field": "target",
                  "type": "string",
                  "flex": 1,
                  "headerName": "Target"
                },
                {
                  "field": "labeled",
                  "type": "string",
                  "headerName": "Labeled"
                },
                {
                  "field": "ignored",
                  "type": "string",
                  "headerName": "Ignored"
                },
                {
                  "field": "labels",
                  "type": "string",
                  "headerName": "Labels"
                }
              ],
              "rowCount": 10,
              "page": 0,
              "rowsPerPage": 7,
              "sortModel": [],
              "filterModel": []
            },
            "labels": {
              "boxes": [],
              "dimensions": {
                "height": 914,
                "width": 1628
              },
              "image": {},
              "masks": [],
              "polygons": [
                {
                  "labels": {
                    "Type": [
                      "bug"
                    ]
                  },
                  "points": [
                    {
                      "x": 0.642587170887295,
                      "y": 0.3516193884040677
                    },
                    {
                      "x": 0.6700005413571787,
                      "y": 0.3926353214413227
                    },
                    {
                      "x": 0.7643025357735784,
                      "y": 0.45122951149454404
                    },
                    {
                      "x": 0.8235154159885271,
                      "y": 0.5117768412162061
                    },
                    {
                      "x": 0.8728594828343176,
                      "y": 0.5723241709378682
                    },
                    {
                      "x": 0.9046589925793826,
                      "y": 0.5977149866275975
                    },
                    {
                      "x": 0.909045131854564,
                      "y": 0.6191995229804453
                    },
                    {
                      "x": 0.934265432686857,
                      "y": 0.6133401039751232
                    },
                    {
                      "x": 0.9638718727943313,
                      "y": 0.6367777799964117
                    },
                    {
                      "x": 0.9265896889552896,
                      "y": 0.7012313890549553
                    },
                    {
                      "x": 0.8893075051162478,
                      "y": 0.7656849981134988
                    },
                    {
                      "x": 0.8706664131967269,
                      "y": 0.8008415121454316
                    },
                    {
                      "x": 0.8114535329817782,
                      "y": 0.8027946518138723
                    },
                    {
                      "x": 0.7686886750487598,
                      "y": 0.785216394797906
                    },
                    {
                      "x": 0.7423718393976715,
                      "y": 0.7754506964557024
                    },
                    {
                      "x": 0.7335995608473087,
                      "y": 0.7344347634184474
                    },
                    {
                      "x": 0.7259238171157413,
                      "y": 0.7246690650762438
                    },
                    {
                      "x": 0.7204411430217645,
                      "y": 0.6973251097180738
                    },
                    {
                      "x": 0.671097076175974,
                      "y": 0.6816999923705481
                    },
                    {
                      "x": 0.6447802405248857,
                      "y": 0.6992782493865146
                    },
                    {
                      "x": 0.607498056685844,
                      "y": 0.730528484081566
                    },
                    {
                      "x": 0.5888569647663231,
                      "y": 0.7539661601028546
                    },
                    {
                      "x": 0.5735054773031882,
                      "y": 0.7539661601028546
                    },
                    {
                      "x": 0.5581539898400534,
                      "y": 0.6973251097180738
                    },
                    {
                      "x": 0.5844708254911417,
                      "y": 0.6367777799964117
                    },
                    {
                      "x": 0.6020153825918673,
                      "y": 0.6133401039751232
                    },
                    {
                      "x": 0.604208452229458,
                      "y": 0.5078705618793247
                    },
                    {
                      "x": 0.6228495441489789,
                      "y": 0.42583869580481476
                    },
                    {
                      "x": 0.642587170887295,
                      "y": 0.3516193884040677
                    }
                  ]
                },
                {
                  "labels": {
                    "Type": [
                      "bottle"
                    ]
                  },
                  "points": [
                    {
                      "x": 0.607498056685844,
                      "y": 0.7422473220922102
                    },
                    {
                      "x": 0.6667109369007926,
                      "y": 0.6914656907127518
                    },
                    {
                      "x": 0.6919312377330856,
                      "y": 0.6953719700496331
                    },
                    {
                      "x": 0.6985104466458577,
                      "y": 0.703184528723396
                    },
                    {
                      "x": 0.7050896555586298,
                      "y": 0.703184528723396
                    },
                    {
                      "x": 0.7149584689277878,
                      "y": 0.7227159254078032
                    },
                    {
                      "x": 0.7160550037465832,
                      "y": 0.7383410427553289
                    },
                    {
                      "x": 0.7270203519345366,
                      "y": 0.7481067410975324
                    },
                    {
                      "x": 0.7335995608473087,
                      "y": 0.7715444171188209
                    },
                    {
                      "x": 0.7335995608473087,
                      "y": 0.7813101154610246
                    },
                    {
                      "x": 0.7379857001224901,
                      "y": 0.8086540708191945
                    },
                    {
                      "x": 0.731406491209718,
                      "y": 0.8359980261773645
                    },
                    {
                      "x": 0.7292134215721273,
                      "y": 0.8535762831933309
                    },
                    {
                      "x": 0.6919312377330856,
                      "y": 0.9219361715887558
                    },
                    {
                      "x": 0.642587170887295,
                      "y": 0.9473269872784851
                    },
                    {
                      "x": 0.6261391486053649,
                      "y": 0.9356081492678409
                    },
                    {
                      "x": 0.6283322182429556,
                      "y": 0.9512332666153666
                    },
                    {
                      "x": 0.6151738004174114,
                      "y": 0.9649052442944516
                    },
                    {
                      "x": 0.5998223129542766,
                      "y": 0.9707646632997737
                    },
                    {
                      "x": 0.5954361736790952,
                      "y": 0.9863897806472994
                    },
                    {
                      "x": 0.5362232934641465,
                      "y": 0.9902960599841808
                    },
                    {
                      "x": 0.518678736363421,
                      "y": 0.9649052442944516
                    },
                    {
                      "x": 0.5044237837190815,
                      "y": 0.9590458252891294
                    },
                    {
                      "x": 0.49894110962510474,
                      "y": 0.9238893112571965
                    },
                    {
                      "x": 0.5066168533566722,
                      "y": 0.9121704732465523
                    },
                    {
                      "x": 0.5077133881754675,
                      "y": 0.8770139592146194
                    },
                    {
                      "x": 0.5230648756386024,
                      "y": 0.8164666294929573
                    },
                    {
                      "x": 0.578988151397165,
                      "y": 0.7695912774503803
                    },
                    {
                      "x": 0.5943396388602998,
                      "y": 0.7734975567872617
                    },
                    {
                      "x": 0.607498056685844,
                      "y": 0.7422473220922102
                    }
                  ]
                }
              ]
            },
            "layout": "IPY_MODEL_a62987e8b3ce400ab3509c274b190490",
            "maxCanvasSize": 512,
            "maxViewHeight": 512,
            "message": "",
            "mode": "dark",
            "preload": [],
            "progress": 100,
            "states": [
              {
                "idx": 0,
                "target": null,
                "type": "image",
                "metadata": {},
                "selected": true,
                "ignored": false,
                "labeled": true,
                "labels": {
                  "boxes": [],
                  "dimensions": {
                    "height": 914,
                    "width": 1628
                  },
                  "image": {},
                  "masks": [],
                  "polygons": [
                    {
                      "labels": {
                        "Type": [
                          "bug"
                        ]
                      },
                      "points": [
                        {
                          "x": 0.642587170887295,
                          "y": 0.3516193884040677
                        },
                        {
                          "x": 0.6700005413571787,
                          "y": 0.3926353214413227
                        },
                        {
                          "x": 0.7643025357735784,
                          "y": 0.45122951149454404
                        },
                        {
                          "x": 0.8235154159885271,
                          "y": 0.5117768412162061
                        },
                        {
                          "x": 0.8728594828343176,
                          "y": 0.5723241709378682
                        },
                        {
                          "x": 0.9046589925793826,
                          "y": 0.5977149866275975
                        },
                        {
                          "x": 0.909045131854564,
                          "y": 0.6191995229804453
                        },
                        {
                          "x": 0.934265432686857,
                          "y": 0.6133401039751232
                        },
                        {
                          "x": 0.9638718727943313,
                          "y": 0.6367777799964117
                        },
                        {
                          "x": 0.9265896889552896,
                          "y": 0.7012313890549553
                        },
                        {
                          "x": 0.8893075051162478,
                          "y": 0.7656849981134988
                        },
                        {
                          "x": 0.8706664131967269,
                          "y": 0.8008415121454316
                        },
                        {
                          "x": 0.8114535329817782,
                          "y": 0.8027946518138723
                        },
                        {
                          "x": 0.7686886750487598,
                          "y": 0.785216394797906
                        },
                        {
                          "x": 0.7423718393976715,
                          "y": 0.7754506964557024
                        },
                        {
                          "x": 0.7335995608473087,
                          "y": 0.7344347634184474
                        },
                        {
                          "x": 0.7259238171157413,
                          "y": 0.7246690650762438
                        },
                        {
                          "x": 0.7204411430217645,
                          "y": 0.6973251097180738
                        },
                        {
                          "x": 0.671097076175974,
                          "y": 0.6816999923705481
                        },
                        {
                          "x": 0.6447802405248857,
                          "y": 0.6992782493865146
                        },
                        {
                          "x": 0.607498056685844,
                          "y": 0.730528484081566
                        },
                        {
                          "x": 0.5888569647663231,
                          "y": 0.7539661601028546
                        },
                        {
                          "x": 0.5735054773031882,
                          "y": 0.7539661601028546
                        },
                        {
                          "x": 0.5581539898400534,
                          "y": 0.6973251097180738
                        },
                        {
                          "x": 0.5844708254911417,
                          "y": 0.6367777799964117
                        },
                        {
                          "x": 0.6020153825918673,
                          "y": 0.6133401039751232
                        },
                        {
                          "x": 0.604208452229458,
                          "y": 0.5078705618793247
                        },
                        {
                          "x": 0.6228495441489789,
                          "y": 0.42583869580481476
                        },
                        {
                          "x": 0.642587170887295,
                          "y": 0.3516193884040677
                        }
                      ]
                    },
                    {
                      "labels": {
                        "Type": [
                          "bottle"
                        ]
                      },
                      "points": [
                        {
                          "x": 0.607498056685844,
                          "y": 0.7422473220922102
                        },
                        {
                          "x": 0.6667109369007926,
                          "y": 0.6914656907127518
                        },
                        {
                          "x": 0.6919312377330856,
                          "y": 0.6953719700496331
                        },
                        {
                          "x": 0.6985104466458577,
                          "y": 0.703184528723396
                        },
                        {
                          "x": 0.7050896555586298,
                          "y": 0.703184528723396
                        },
                        {
                          "x": 0.7149584689277878,
                          "y": 0.7227159254078032
                        },
                        {
                          "x": 0.7160550037465832,
                          "y": 0.7383410427553289
                        },
                        {
                          "x": 0.7270203519345366,
                          "y": 0.7481067410975324
                        },
                        {
                          "x": 0.7335995608473087,
                          "y": 0.7715444171188209
                        },
                        {
                          "x": 0.7335995608473087,
                          "y": 0.7813101154610246
                        },
                        {
                          "x": 0.7379857001224901,
                          "y": 0.8086540708191945
                        },
                        {
                          "x": 0.731406491209718,
                          "y": 0.8359980261773645
                        },
                        {
                          "x": 0.7292134215721273,
                          "y": 0.8535762831933309
                        },
                        {
                          "x": 0.6919312377330856,
                          "y": 0.9219361715887558
                        },
                        {
                          "x": 0.642587170887295,
                          "y": 0.9473269872784851
                        },
                        {
                          "x": 0.6261391486053649,
                          "y": 0.9356081492678409
                        },
                        {
                          "x": 0.6283322182429556,
                          "y": 0.9512332666153666
                        },
                        {
                          "x": 0.6151738004174114,
                          "y": 0.9649052442944516
                        },
                        {
                          "x": 0.5998223129542766,
                          "y": 0.9707646632997737
                        },
                        {
                          "x": 0.5954361736790952,
                          "y": 0.9863897806472994
                        },
                        {
                          "x": 0.5362232934641465,
                          "y": 0.9902960599841808
                        },
                        {
                          "x": 0.518678736363421,
                          "y": 0.9649052442944516
                        },
                        {
                          "x": 0.5044237837190815,
                          "y": 0.9590458252891294
                        },
                        {
                          "x": 0.49894110962510474,
                          "y": 0.9238893112571965
                        },
                        {
                          "x": 0.5066168533566722,
                          "y": 0.9121704732465523
                        },
                        {
                          "x": 0.5077133881754675,
                          "y": 0.8770139592146194
                        },
                        {
                          "x": 0.5230648756386024,
                          "y": 0.8164666294929573
                        },
                        {
                          "x": 0.578988151397165,
                          "y": 0.7695912774503803
                        },
                        {
                          "x": 0.5943396388602998,
                          "y": 0.7734975567872617
                        },
                        {
                          "x": 0.607498056685844,
                          "y": 0.7422473220922102
                        }
                      ]
                    }
                  ]
                },
                "visible": true
              }
            ],
            "type": "image",
            "urls": [
              "https://github.com/ant-nik/neural_network_course/raw/main/practice_2_data/video_1/image_001.jpg"
            ],
            "viewState": "labeling"
          }
        },
        "a62987e8b3ce400ab3509c274b190490": {
          "model_module": "@jupyter-widgets/base",
          "model_name": "LayoutModel",
          "model_module_version": "1.2.0",
          "state": {
            "_model_module": "@jupyter-widgets/base",
            "_model_module_version": "1.2.0",
            "_model_name": "LayoutModel",
            "_view_count": null,
            "_view_module": "@jupyter-widgets/base",
            "_view_module_version": "1.2.0",
            "_view_name": "LayoutView",
            "align_content": null,
            "align_items": null,
            "align_self": null,
            "border": null,
            "bottom": null,
            "display": null,
            "flex": null,
            "flex_flow": null,
            "grid_area": null,
            "grid_auto_columns": null,
            "grid_auto_flow": null,
            "grid_auto_rows": null,
            "grid_column": null,
            "grid_gap": null,
            "grid_row": null,
            "grid_template_areas": null,
            "grid_template_columns": null,
            "grid_template_rows": null,
            "height": null,
            "justify_content": null,
            "justify_items": null,
            "left": null,
            "margin": null,
            "max_height": null,
            "max_width": null,
            "min_height": null,
            "min_width": null,
            "object_fit": null,
            "object_position": null,
            "order": null,
            "overflow": null,
            "overflow_x": null,
            "overflow_y": null,
            "padding": null,
            "right": null,
            "top": null,
            "visibility": null,
            "width": null
          }
        }
      }
    }
  },
  "cells": [
    {
      "cell_type": "markdown",
      "source": [
        "# Практическое занятие №2 - локализация объектов на изображениях\n",
        "\n",
        "1. Разметка данных с помощью виджета QSL для Jupyter (https://github.com/faustomorales/qsl)\n",
        "2. Расширение выборки за счет модификации размеченных данных (процедура аугоментация).\n",
        "3. Знакомство с архитектурой нейронных сетей для локализации объектов на изображении.\n",
        "4. Обучение нейронных сетей для детекции объектов.\n",
        "5. Проверка обученной модели для обработки видео потока.\n",
        "6. Трекинг объектов.\n",
        "7. Распознавание сцен с помощью простого классификатора.\n",
        "9. Разработка простой системы управления по данным с видео-камеры."
      ],
      "metadata": {
        "id": "nb3krk0emfCY"
      }
    },
    {
      "cell_type": "markdown",
      "source": [
        "![schema1.svg](data:image/svg+xml;base64,PD94bWwgdmVyc2lvbj0iMS4wIiBlbmNvZGluZz0iVVRGLTgiPz4KPCEtLSBEbyBub3QgZWRpdCB0aGlzIGZpbGUgd2l0aCBlZGl0b3JzIG90aGVyIHRoYW4gZGlhZ3JhbXMubmV0IC0tPgo8IURPQ1RZUEUgc3ZnIFBVQkxJQyAiLS8vVzNDLy9EVEQgU1ZHIDEuMS8vRU4iICJodHRwOi8vd3d3LnczLm9yZy9HcmFwaGljcy9TVkcvMS4xL0RURC9zdmcxMS5kdGQiPgo8c3ZnIHhtbG5zPSJodHRwOi8vd3d3LnczLm9yZy8yMDAwL3N2ZyIgeG1sbnM6eGxpbms9Imh0dHA6Ly93d3cudzMub3JnLzE5OTkveGxpbmsiIHZlcnNpb249IjEuMSIgd2lkdGg9IjY0MXB4IiBoZWlnaHQ9IjYxcHgiIHZpZXdCb3g9Ii0wLjUgLTAuNSA2NDEgNjEiIGNvbnRlbnQ9IiZsdDtteGZpbGUgaG9zdD0mcXVvdDtFbGVjdHJvbiZxdW90OyBtb2RpZmllZD0mcXVvdDsyMDIzLTAyLTE2VDE4OjIyOjA5LjgxMlomcXVvdDsgYWdlbnQ9JnF1b3Q7NS4wIChXaW5kb3dzIE5UIDEwLjA7IFdpbjY0OyB4NjQpIEFwcGxlV2ViS2l0LzUzNy4zNiAoS0hUTUwsIGxpa2UgR2Vja28pIGRyYXcuaW8vMjAuMy4wIENocm9tZS8xMDQuMC41MTEyLjExNCBFbGVjdHJvbi8yMC4xLjMgU2FmYXJpLzUzNy4zNiZxdW90OyBldGFnPSZxdW90O0FxMzNrejh5blZNNWV4XzJXNV90JnF1b3Q7IHZlcnNpb249JnF1b3Q7MjAuMy4wJnF1b3Q7IHR5cGU9JnF1b3Q7ZGV2aWNlJnF1b3Q7Jmd0OyZsdDtkaWFncmFtIGlkPSZxdW90O05JMENpbkloN0l0ZDdrUTVOTWxzJnF1b3Q7IG5hbWU9JnF1b3Q70KHRgtGA0LDQvdC40YbQsCAxJnF1b3Q7Jmd0OzdWZmJqcHN3RVAwYUhpdHhDeUdQQzB0MlZiVmFWVnVwYXQrOHdRRzZob2tjSnlUNzlSMk1EYVlrYVhyTktxb2lUZXd6TTdhWk13Y25saGVYdXp0T1Z2bDdTQ216WER2ZFdkNnQ1YnJUMEVYYkFQc1dtUGl6RnNoNGtiYVEwd09QeFF0Vm9LM1FUWkhTOVNCUUFEQlJySWJnQXFxS0xzUUFJNXhEUFF4YkFodnV1aUlaSFFHUEM4TEc2S2NpRlhtTGh1NjB4Kzlwa2VWNlp5ZFF6MWNTSGF5ZVpKMlRGR29EOGhMTGl6bUFhRWZsTHFhc3FaMnVTNXMzUCtMdERzWnBKYzVKK1B6aHp2djQ0cnlOWnVUK1MvRGdQNlIxOU1aclY5a1N0bEVQckE0cjlyb0NOTVdDcUNsd2tVTUdGV0ZKajBZY05sVkttMjFzblBVeDd3QldDRG9JZnFWQzdCVzdaQ01Bb1Z5VVRIblh6MVFzY2owUkhKNXBEQXk0UElDWEJNMEhQVXVveENHOFBYSnp6cU9sVWRBYU5ueEJUOVJEdHhqaEdSVW40dHlPUUd4OENpVVZmSTk1bkRJaWl1M3dIRVMxWU5iRjlTemhRQkgxRTZRNVk5S3c4ak5wbzFCYVg5cUp0SW1GZFExYnhKWjJKbTAwb25wSVpKMFhnajZ1aUN4WWplbytRZHF5WUV4VFUwRkZmNFBITGVXQzdrNHpPYTY4ZnQ4b3NhbTNUU2UrdXRldW83SGMwRzFnL3lXdUpuOWVZSVBDLzRyYUxpa3c5MHlCK1pjVW1IdFVZQ2lrU0lySE1hU0Z2Uk9Rc3BGSDliUnV2cVR2eGhDY3IrSlVEdHBtZlV4aldJUG9pZU1vRXpyUlYrcHNVdVpOV0ovYjJxbTBzWlk0ZWwxangvQUtaZTM2L2l2VDlmUy9yc2Q2UFVQWHdTVjE3Ui9VOWMzNTJyS2xITThUdDlMaWQvTEZzU050cUcvcnp0dmUxcmZHTFQ3UjZ4eC84MXkzN24zM3RkM253ZUdySWRIVUlDbWV0Tk1mY1JvYkRXUCtYSXMwbXdjdmg5Qm9pYTRESTJOOTMraTB3T2l4K1JXMngyVDI3OW9EcC8xL05la3ovdkI2eVRjPSZsdDsvZGlhZ3JhbSZndDsmbHQ7L214ZmlsZSZndDsiPjxkZWZzLz48Zz48cGF0aCBkPSJNIDEyMCAzMCBMIDE2Ny42MyAzMCIgZmlsbD0ibm9uZSIgc3Ryb2tlPSJub25lIiBwb2ludGVyLWV2ZW50cz0ic3Ryb2tlIi8+PHBhdGggZD0iTSAxNzIuODggMzAgTCAxNjUuODggMzMuNSBMIDE2Ny42MyAzMCBMIDE2NS44OCAyNi41IFoiIGZpbGw9Im5vbmUiIHN0cm9rZT0ibm9uZSIgcG9pbnRlci1ldmVudHM9ImFsbCIvPjxwYXRoIGQ9Ik0gMTIwIDMwIE0gMTIwIDMwIEMgMTMxLjU4IDI4LjA2IDEzOC45NCAyOS4xNSAxNjcuNjMgMzAgTSAxMjAgMzAgQyAxMzQuMjYgMjkuNDYgMTQ4LjgzIDMwLjE1IDE2Ny42MyAzMCIgZmlsbD0ibm9uZSIgc3Ryb2tlPSIjZTZlNmU2IiBzdHJva2UtbGluZWpvaW49InJvdW5kIiBzdHJva2UtbGluZWNhcD0icm91bmQiIHN0cm9rZS1taXRlcmxpbWl0PSIxMCIgcG9pbnRlci1ldmVudHM9InN0cm9rZSIvPjxwYXRoIGQ9Ik0gMTY1LjYxIDI2LjgyIEMgMTY1LjYxIDI2LjgyIDE2NS42MSAyNi44MiAxNjUuNjEgMjYuODIgTSAxNjUuNjEgMjYuODIgQyAxNjUuNjEgMjYuODIgMTY1LjYxIDI2LjgyIDE2NS42MSAyNi44MiBNIDE2Ny45NyAzMC4xOSBDIDE2OC4yNCAyOS42MiAxNjguNzQgMjkuMTcgMTY5LjI4IDI4LjY4IE0gMTY3Ljk3IDMwLjE5IEMgMTY4LjM4IDI5LjY1IDE2OC44NSAyOS4wOCAxNjkuMjggMjguNjgiIGZpbGw9Im5vbmUiIHN0cm9rZT0iI2U2ZTZlNiIgc3Ryb2tlLXdpZHRoPSIwLjUiIHN0cm9rZS1saW5lam9pbj0icm91bmQiIHN0cm9rZS1saW5lY2FwPSJyb3VuZCIgc3Ryb2tlLW1pdGVybGltaXQ9IjEwIiBwb2ludGVyLWV2ZW50cz0iYWxsIi8+PHBhdGggZD0iTSAxNzIuODggMzAgTSAxNzIuODggMzAgQyAxNzEuMjggMzAuNjcgMTY5LjU1IDMyLjM5IDE2NS44OCAzMy41IE0gMTcyLjg4IDMwIEMgMTcwLjUgMzEuNDIgMTY4LjE3IDMyLjQ5IDE2NS44OCAzMy41IE0gMTY1Ljg4IDMzLjUgQyAxNjYuNDIgMzIuMzggMTY3LjMzIDMwLjczIDE2Ny42MyAzMCBNIDE2NS44OCAzMy41IEMgMTY2LjQ0IDMyLjQyIDE2Ny4wMiAzMS4zNiAxNjcuNjMgMzAgTSAxNjcuNjMgMzAgQyAxNjcuMTYgMjkuMzcgMTY2LjQyIDI4LjM5IDE2NS44OCAyNi41IE0gMTY3LjYzIDMwIEMgMTY2LjkyIDI4Ljg4IDE2Ni4zOSAyNy40MiAxNjUuODggMjYuNSBNIDE2NS44OCAyNi41IEMgMTY3Ljc3IDI2LjY3IDE2OS4xIDI3LjM5IDE3Mi44OCAzMCBNIDE2NS44OCAyNi41IEMgMTY3LjgyIDI3LjQ0IDE2OS4yMiAyOC40OSAxNzIuODggMzAiIGZpbGw9Im5vbmUiIHN0cm9rZT0iI2U2ZTZlNiIgc3Ryb2tlLWxpbmVqb2luPSJyb3VuZCIgc3Ryb2tlLWxpbmVjYXA9InJvdW5kIiBzdHJva2UtbWl0ZXJsaW1pdD0iMTAiIHBvaW50ZXItZXZlbnRzPSJhbGwiLz48cmVjdCB4PSIwIiB5PSIwIiB3aWR0aD0iMTIwIiBoZWlnaHQ9IjYwIiBmaWxsPSJub25lIiBzdHJva2U9Im5vbmUiIHBvaW50ZXItZXZlbnRzPSJhbGwiLz48cGF0aCBkPSJNIDAgMCBDIDI1LjQgMC4xNiA1MC42NiAwLjg1IDEyMCAwIE0gMCAwIEMgNDIuMzMgMC4wOSA4Ni4yMSAwLjM0IDEyMCAwIE0gMTIwIDAgQyAxMTkuNTggMTMuNzIgMTE4LjYyIDMxLjgxIDEyMCA2MCBNIDEyMCAwIEMgMTE4LjgzIDI0LjA2IDExOS4yMiA0Ny44MyAxMjAgNjAgTSAxMjAgNjAgQyA4Mi43MyA2MS4wMiA0My45NiA2MC4yNCAwIDYwIE0gMTIwIDYwIEMgODguMTMgNTkuOSA1Ni43OSA1OS43NyAwIDYwIE0gMCA2MCBDIC0xLjM5IDQzLjI5IC0xLjE2IDI0LjE3IDAgMCBNIDAgNjAgQyAwLjk0IDQ3LjQyIDAuNzEgMzMuMDUgMCAwIiBmaWxsPSJub25lIiBzdHJva2U9IiNlNmU2ZTYiIHN0cm9rZS1saW5lam9pbj0icm91bmQiIHN0cm9rZS1saW5lY2FwPSJyb3VuZCIgc3Ryb2tlLW1pdGVybGltaXQ9IjEwIiBwb2ludGVyLWV2ZW50cz0iYWxsIi8+PGcgdHJhbnNmb3JtPSJ0cmFuc2xhdGUoLTAuNSAtMC41KSI+PHN3aXRjaD48Zm9yZWlnbk9iamVjdCBwb2ludGVyLWV2ZW50cz0ibm9uZSIgd2lkdGg9IjEwMCUiIGhlaWdodD0iMTAwJSIgcmVxdWlyZWRGZWF0dXJlcz0iaHR0cDovL3d3dy53My5vcmcvVFIvU1ZHMTEvZmVhdHVyZSNFeHRlbnNpYmlsaXR5IiBzdHlsZT0ib3ZlcmZsb3c6IHZpc2libGU7IHRleHQtYWxpZ246IGxlZnQ7Ij48ZGl2IHhtbG5zPSJodHRwOi8vd3d3LnczLm9yZy8xOTk5L3hodG1sIiBzdHlsZT0iZGlzcGxheTogZmxleDsgYWxpZ24taXRlbXM6IHVuc2FmZSBjZW50ZXI7IGp1c3RpZnktY29udGVudDogdW5zYWZlIGNlbnRlcjsgd2lkdGg6IDExOHB4OyBoZWlnaHQ6IDFweDsgcGFkZGluZy10b3A6IDMwcHg7IG1hcmdpbi1sZWZ0OiAxcHg7Ij48ZGl2IGRhdGEtZHJhd2lvLWNvbG9ycz0iY29sb3I6ICNFNkU2RTY7ICIgc3R5bGU9ImJveC1zaXppbmc6IGJvcmRlci1ib3g7IGZvbnQtc2l6ZTogMHB4OyB0ZXh0LWFsaWduOiBjZW50ZXI7Ij48ZGl2IHN0eWxlPSJkaXNwbGF5OiBpbmxpbmUtYmxvY2s7IGZvbnQtc2l6ZTogMTJweDsgZm9udC1mYW1pbHk6IEhlbHZldGljYTsgY29sb3I6IHJnYigyMzAsIDIzMCwgMjMwKTsgbGluZS1oZWlnaHQ6IDEuMjsgcG9pbnRlci1ldmVudHM6IGFsbDsgd2hpdGUtc3BhY2U6IG5vcm1hbDsgb3ZlcmZsb3ctd3JhcDogbm9ybWFsOyI+0JLQuNC00LXQvtGE0LDQudC7PC9kaXY+PC9kaXY+PC9kaXY+PC9mb3JlaWduT2JqZWN0Pjx0ZXh0IHg9IjYwIiB5PSIzNCIgZmlsbD0iI0U2RTZFNiIgZm9udC1mYW1pbHk9IkhlbHZldGljYSIgZm9udC1zaXplPSIxMnB4IiB0ZXh0LWFuY2hvcj0ibWlkZGxlIj7QktC40LTQtdC+0YTQsNC50Ls8L3RleHQ+PC9zd2l0Y2g+PC9nPjxwYXRoIGQ9Ik0gMjk0IDMwIEwgMzQzLjYzIDMwIiBmaWxsPSJub25lIiBzdHJva2U9Im5vbmUiIHBvaW50ZXItZXZlbnRzPSJzdHJva2UiLz48cGF0aCBkPSJNIDM0OC44OCAzMCBMIDM0MS44OCAzMy41IEwgMzQzLjYzIDMwIEwgMzQxLjg4IDI2LjUgWiIgZmlsbD0ibm9uZSIgc3Ryb2tlPSJub25lIiBwb2ludGVyLWV2ZW50cz0iYWxsIi8+PHBhdGggZD0iTSAyOTQgMzAgTSAyOTQgMzAgQyAzMDMuNzIgMzAuNzcgMzE3LjE2IDMyLjI2IDM0My42MyAzMCBNIDI5NCAzMCBDIDMwNi40OCAzMC4yNyAzMTguMDIgMjkuMzkgMzQzLjYzIDMwIiBmaWxsPSJub25lIiBzdHJva2U9IiNlNmU2ZTYiIHN0cm9rZS1saW5lam9pbj0icm91bmQiIHN0cm9rZS1saW5lY2FwPSJyb3VuZCIgc3Ryb2tlLW1pdGVybGltaXQ9IjEwIiBwb2ludGVyLWV2ZW50cz0ic3Ryb2tlIi8+PHBhdGggZD0iTSAzNDEuOTYgMjYuNDEgQyAzNDEuOTYgMjYuNDEgMzQxLjk2IDI2LjQxIDM0MS45NiAyNi40MSBNIDM0MS45NiAyNi40MSBDIDM0MS45NiAyNi40MSAzNDEuOTYgMjYuNDEgMzQxLjk2IDI2LjQxIE0gMzQzLjY2IDMwLjU1IEMgMzQ0LjY5IDI5LjU2IDM0NS4yMyAyOC45MyAzNDUuNjMgMjguMjggTSAzNDMuNjYgMzAuNTUgQyAzNDQuMjQgMjkuNzkgMzQ0LjgyIDI5LjI4IDM0NS42MyAyOC4yOCIgZmlsbD0ibm9uZSIgc3Ryb2tlPSIjZTZlNmU2IiBzdHJva2Utd2lkdGg9IjAuNSIgc3Ryb2tlLWxpbmVqb2luPSJyb3VuZCIgc3Ryb2tlLWxpbmVjYXA9InJvdW5kIiBzdHJva2UtbWl0ZXJsaW1pdD0iMTAiIHBvaW50ZXItZXZlbnRzPSJhbGwiLz48cGF0aCBkPSJNIDM0OC44OCAzMCBNIDM0OC44OCAzMCBDIDM0NS45MyAzMi4wMSAzNDMuMzIgMzIuMjEgMzQxLjg4IDMzLjUgTSAzNDguODggMzAgQyAzNDcuNTMgMzEuMTQgMzQ2LjA1IDMxLjcxIDM0MS44OCAzMy41IE0gMzQxLjg4IDMzLjUgQyAzNDIuNDYgMzIuNzggMzQyLjU5IDMxLjQ3IDM0My42MyAzMCBNIDM0MS44OCAzMy41IEMgMzQyLjE0IDMyLjc2IDM0Mi42MSAzMS45OCAzNDMuNjMgMzAgTSAzNDMuNjMgMzAgQyAzNDMuMTIgMjkuNDcgMzQyLjc4IDI4LjU2IDM0MS44OCAyNi41IE0gMzQzLjYzIDMwIEMgMzQyLjg3IDI4Ljc4IDM0Mi4zNyAyNy42OCAzNDEuODggMjYuNSBNIDM0MS44OCAyNi41IEMgMzQ0LjY1IDI3LjUyIDM0OC4wMSAyOS4zMiAzNDguODggMzAgTSAzNDEuODggMjYuNSBDIDM0NC4wOCAyNy44NCAzNDcuMTUgMjguODIgMzQ4Ljg4IDMwIiBmaWxsPSJub25lIiBzdHJva2U9IiNlNmU2ZTYiIHN0cm9rZS1saW5lam9pbj0icm91bmQiIHN0cm9rZS1saW5lY2FwPSJyb3VuZCIgc3Ryb2tlLW1pdGVybGltaXQ9IjEwIiBwb2ludGVyLWV2ZW50cz0iYWxsIi8+PHJlY3QgeD0iMTc0IiB5PSIwIiB3aWR0aD0iMTIwIiBoZWlnaHQ9IjYwIiBmaWxsPSJub25lIiBzdHJva2U9Im5vbmUiIHBvaW50ZXItZXZlbnRzPSJhbGwiLz48cGF0aCBkPSJNIDE3NCAwIEMgMTk4LjI2IDAuMDggMjI2LjM0IDAuOTcgMjk0IDAgTSAxNzQgMCBDIDIwMi4xNyAtMC40MiAyMjguMjYgMS4wNSAyOTQgMCBNIDI5NCAwIEMgMjkyLjc3IDE4IDI5NC42NyAzMi44NyAyOTQgNjAgTSAyOTQgMCBDIDI5NC4xNiAyMi4zNCAyOTMuNDUgNDQuNDEgMjk0IDYwIE0gMjk0IDYwIEMgMjYwLjc0IDU4LjM3IDIyNC41NiA1OS4wOCAxNzQgNjAgTSAyOTQgNjAgQyAyNTguNDcgNjAuMjggMjIxLjI0IDU5LjA0IDE3NCA2MCBNIDE3NCA2MCBDIDE3NC4zMiA0Ni44MyAxNzUuMDkgMzMuMDcgMTc0IDAgTSAxNzQgNjAgQyAxNzMuMDMgMzguMjUgMTcyLjk3IDE2LjYzIDE3NCAwIiBmaWxsPSJub25lIiBzdHJva2U9IiNlNmU2ZTYiIHN0cm9rZS1saW5lam9pbj0icm91bmQiIHN0cm9rZS1saW5lY2FwPSJyb3VuZCIgc3Ryb2tlLW1pdGVybGltaXQ9IjEwIiBwb2ludGVyLWV2ZW50cz0iYWxsIi8+PGcgdHJhbnNmb3JtPSJ0cmFuc2xhdGUoLTAuNSAtMC41KSI+PHN3aXRjaD48Zm9yZWlnbk9iamVjdCBwb2ludGVyLWV2ZW50cz0ibm9uZSIgd2lkdGg9IjEwMCUiIGhlaWdodD0iMTAwJSIgcmVxdWlyZWRGZWF0dXJlcz0iaHR0cDovL3d3dy53My5vcmcvVFIvU1ZHMTEvZmVhdHVyZSNFeHRlbnNpYmlsaXR5IiBzdHlsZT0ib3ZlcmZsb3c6IHZpc2libGU7IHRleHQtYWxpZ246IGxlZnQ7Ij48ZGl2IHhtbG5zPSJodHRwOi8vd3d3LnczLm9yZy8xOTk5L3hodG1sIiBzdHlsZT0iZGlzcGxheTogZmxleDsgYWxpZ24taXRlbXM6IHVuc2FmZSBjZW50ZXI7IGp1c3RpZnktY29udGVudDogdW5zYWZlIGNlbnRlcjsgd2lkdGg6IDExOHB4OyBoZWlnaHQ6IDFweDsgcGFkZGluZy10b3A6IDMwcHg7IG1hcmdpbi1sZWZ0OiAxNzVweDsiPjxkaXYgZGF0YS1kcmF3aW8tY29sb3JzPSJjb2xvcjogI0U2RTZFNjsgIiBzdHlsZT0iYm94LXNpemluZzogYm9yZGVyLWJveDsgZm9udC1zaXplOiAwcHg7IHRleHQtYWxpZ246IGNlbnRlcjsiPjxkaXYgc3R5bGU9ImRpc3BsYXk6IGlubGluZS1ibG9jazsgZm9udC1zaXplOiAxMnB4OyBmb250LWZhbWlseTogSGVsdmV0aWNhOyBjb2xvcjogcmdiKDIzMCwgMjMwLCAyMzApOyBsaW5lLWhlaWdodDogMS4yOyBwb2ludGVyLWV2ZW50czogYWxsOyB3aGl0ZS1zcGFjZTogbm9ybWFsOyBvdmVyZmxvdy13cmFwOiBub3JtYWw7Ij7QktGL0LHQvtGAwqDQutCw0LTRgNC+0LIgPGJyIC8+0LTQu9GPINGA0LDQt9C80LXRgtC60Lg8L2Rpdj48L2Rpdj48L2Rpdj48L2ZvcmVpZ25PYmplY3Q+PHRleHQgeD0iMjM0IiB5PSIzNCIgZmlsbD0iI0U2RTZFNiIgZm9udC1mYW1pbHk9IkhlbHZldGljYSIgZm9udC1zaXplPSIxMnB4IiB0ZXh0LWFuY2hvcj0ibWlkZGxlIj7QktGL0LHQvtGAwqDQutCw0LTRgNC+0LIuLi48L3RleHQ+PC9zd2l0Y2g+PC9nPjxwYXRoIGQ9Ik0gNDcwIDMwIEwgNTEzLjYzIDMwIiBmaWxsPSJub25lIiBzdHJva2U9Im5vbmUiIHBvaW50ZXItZXZlbnRzPSJzdHJva2UiLz48cGF0aCBkPSJNIDUxOC44OCAzMCBMIDUxMS44OCAzMy41IEwgNTEzLjYzIDMwIEwgNTExLjg4IDI2LjUgWiIgZmlsbD0ibm9uZSIgc3Ryb2tlPSJub25lIiBwb2ludGVyLWV2ZW50cz0iYWxsIi8+PHBhdGggZD0iTSA0NzAgMzAgTSA0NzAgMzAgQyA0ODAuMTUgMjguNDYgNDg5Ljk1IDMwLjM1IDUxMy42MyAzMCBNIDQ3MCAzMCBDIDQ4Ny42OCAzMC4xNSA1MDMuMTkgMjkuNzIgNTEzLjYzIDMwIiBmaWxsPSJub25lIiBzdHJva2U9IiNlNmU2ZTYiIHN0cm9rZS1saW5lam9pbj0icm91bmQiIHN0cm9rZS1saW5lY2FwPSJyb3VuZCIgc3Ryb2tlLW1pdGVybGltaXQ9IjEwIiBwb2ludGVyLWV2ZW50cz0ic3Ryb2tlIi8+PHBhdGggZD0iTSA1MTEuNjEgMjYuODEgQyA1MTEuNjEgMjYuODEgNTExLjYxIDI2LjgxIDUxMS42MSAyNi44MSBNIDUxMS42MSAyNi44MSBDIDUxMS42MSAyNi44MSA1MTEuNjEgMjYuODEgNTExLjYxIDI2LjgxIE0gNTEzLjk3IDMwLjE5IEMgNTE0LjQgMjkuNzggNTE0Ljc3IDI5LjI5IDUxNS4yOCAyOC42OCBNIDUxMy45NyAzMC4xOSBDIDUxNC4zMyAyOS45IDUxNC42MyAyOS4zOSA1MTUuMjggMjguNjgiIGZpbGw9Im5vbmUiIHN0cm9rZT0iI2U2ZTZlNiIgc3Ryb2tlLXdpZHRoPSIwLjUiIHN0cm9rZS1saW5lam9pbj0icm91bmQiIHN0cm9rZS1saW5lY2FwPSJyb3VuZCIgc3Ryb2tlLW1pdGVybGltaXQ9IjEwIiBwb2ludGVyLWV2ZW50cz0iYWxsIi8+PHBhdGggZD0iTSA1MTguODggMzAgTSA1MTguODggMzAgQyA1MTcuNTUgMzEuMDggNTE1LjQ2IDMyLjE5IDUxMS44OCAzMy41IE0gNTE4Ljg4IDMwIEMgNTE2LjM5IDMwLjc5IDUxNC4zNSAzMi4zMyA1MTEuODggMzMuNSBNIDUxMS44OCAzMy41IEMgNTEyLjc4IDMyLjQ4IDUxMy4yNyAzMC44MSA1MTMuNjMgMzAgTSA1MTEuODggMzMuNSBDIDUxMi41IDMyLjM2IDUxMi44MyAzMS4xNSA1MTMuNjMgMzAgTSA1MTMuNjMgMzAgQyA1MTIuOCAyOC44NiA1MTIuNTIgMjcuMzQgNTExLjg4IDI2LjUgTSA1MTMuNjMgMzAgQyA1MTMuMjIgMjguNjggNTEyLjM2IDI3LjU2IDUxMS44OCAyNi41IE0gNTExLjg4IDI2LjUgQyA1MTQuMDYgMjcuNTMgNTE2LjQ5IDI5LjcxIDUxOC44OCAzMCBNIDUxMS44OCAyNi41IEMgNTEzLjcxIDI3LjU0IDUxNi4yOCAyOC41NCA1MTguODggMzAiIGZpbGw9Im5vbmUiIHN0cm9rZT0iI2U2ZTZlNiIgc3Ryb2tlLWxpbmVqb2luPSJyb3VuZCIgc3Ryb2tlLWxpbmVjYXA9InJvdW5kIiBzdHJva2UtbWl0ZXJsaW1pdD0iMTAiIHBvaW50ZXItZXZlbnRzPSJhbGwiLz48cmVjdCB4PSIzNTAiIHk9IjAiIHdpZHRoPSIxMjAiIGhlaWdodD0iNjAiIGZpbGw9Im5vbmUiIHN0cm9rZT0ibm9uZSIgcG9pbnRlci1ldmVudHM9ImFsbCIvPjxwYXRoIGQ9Ik0gMzUwIDAgQyAzNzUuOTggMS41MiA0MDEuNzEgLTEuMTkgNDcwIDAgTSAzNTAgMCBDIDM5My44NCAwLjk2IDQ0MC4zNiAwLjg3IDQ3MCAwIE0gNDcwIDAgQyA0NjguMzQgMjIuNTYgNDcxLjk2IDQyLjk4IDQ3MCA2MCBNIDQ3MCAwIEMgNDcwLjgzIDE4LjkxIDQ2OS45MSAzOS41OCA0NzAgNjAgTSA0NzAgNjAgQyA0NDQuNzYgNjEuMDYgNDIxLjc3IDYwLjc3IDM1MCA2MCBNIDQ3MCA2MCBDIDQyMy4xMyA2MS4wNCAzNzguMTMgNTkuNTggMzUwIDYwIE0gMzUwIDYwIEMgMzUyLjE1IDQxLjkgMzQ5Ljk3IDIyLjg4IDM1MCAwIE0gMzUwIDYwIEMgMzUwLjQxIDQzLjkxIDM1MC42OCAyNy43OCAzNTAgMCIgZmlsbD0ibm9uZSIgc3Ryb2tlPSIjZTZlNmU2IiBzdHJva2UtbGluZWpvaW49InJvdW5kIiBzdHJva2UtbGluZWNhcD0icm91bmQiIHN0cm9rZS1taXRlcmxpbWl0PSIxMCIgcG9pbnRlci1ldmVudHM9ImFsbCIvPjxnIHRyYW5zZm9ybT0idHJhbnNsYXRlKC0wLjUgLTAuNSkiPjxzd2l0Y2g+PGZvcmVpZ25PYmplY3QgcG9pbnRlci1ldmVudHM9Im5vbmUiIHdpZHRoPSIxMDAlIiBoZWlnaHQ9IjEwMCUiIHJlcXVpcmVkRmVhdHVyZXM9Imh0dHA6Ly93d3cudzMub3JnL1RSL1NWRzExL2ZlYXR1cmUjRXh0ZW5zaWJpbGl0eSIgc3R5bGU9Im92ZXJmbG93OiB2aXNpYmxlOyB0ZXh0LWFsaWduOiBsZWZ0OyI+PGRpdiB4bWxucz0iaHR0cDovL3d3dy53My5vcmcvMTk5OS94aHRtbCIgc3R5bGU9ImRpc3BsYXk6IGZsZXg7IGFsaWduLWl0ZW1zOiB1bnNhZmUgY2VudGVyOyBqdXN0aWZ5LWNvbnRlbnQ6IHVuc2FmZSBjZW50ZXI7IHdpZHRoOiAxMThweDsgaGVpZ2h0OiAxcHg7IHBhZGRpbmctdG9wOiAzMHB4OyBtYXJnaW4tbGVmdDogMzUxcHg7Ij48ZGl2IGRhdGEtZHJhd2lvLWNvbG9ycz0iY29sb3I6ICNFNkU2RTY7ICIgc3R5bGU9ImJveC1zaXppbmc6IGJvcmRlci1ib3g7IGZvbnQtc2l6ZTogMHB4OyB0ZXh0LWFsaWduOiBjZW50ZXI7Ij48ZGl2IHN0eWxlPSJkaXNwbGF5OiBpbmxpbmUtYmxvY2s7IGZvbnQtc2l6ZTogMTJweDsgZm9udC1mYW1pbHk6IEhlbHZldGljYTsgY29sb3I6IHJnYigyMzAsIDIzMCwgMjMwKTsgbGluZS1oZWlnaHQ6IDEuMjsgcG9pbnRlci1ldmVudHM6IGFsbDsgd2hpdGUtc3BhY2U6IG5vcm1hbDsgb3ZlcmZsb3ctd3JhcDogbm9ybWFsOyI+0KDQsNC30LzQtdGC0LrQsCDQutCw0LTRgNC+0LIg0Lgg0YDQsNGB0YjQuNGA0LXQvdC40LUg0LLRi9Cx0L7RgNC60Lg8L2Rpdj48L2Rpdj48L2Rpdj48L2ZvcmVpZ25PYmplY3Q+PHRleHQgeD0iNDEwIiB5PSIzNCIgZmlsbD0iI0U2RTZFNiIgZm9udC1mYW1pbHk9IkhlbHZldGljYSIgZm9udC1zaXplPSIxMnB4IiB0ZXh0LWFuY2hvcj0ibWlkZGxlIj7QoNCw0LfQvNC10YLQutCwINC60LDQtNGA0L7QsiDQuCDRgNCw0YHRiNC40YDQtdC90LjQtSDQstGL0LHQvtGA0LrQuDwvdGV4dD48L3N3aXRjaD48L2c+PHJlY3QgeD0iNTIwIiB5PSIwIiB3aWR0aD0iMTIwIiBoZWlnaHQ9IjYwIiBmaWxsPSJub25lIiBzdHJva2U9Im5vbmUiIHBvaW50ZXItZXZlbnRzPSJhbGwiLz48cGF0aCBkPSJNIDUyMCAwIEMgNTQ3LjY5IC0xLjA0IDU3MS4wNyAwLjY1IDY0MCAwIE0gNTIwIDAgQyA1NTcuNTEgLTAuMDYgNTk2LjQ2IDAuMjggNjQwIDAgTSA2NDAgMCBDIDY0MC43MSAxNS4xMiA2MzguMDYgMjkuMDkgNjQwIDYwIE0gNjQwIDAgQyA2MzkuNDkgMTUuNDggNjQwLjM4IDMyLjc1IDY0MCA2MCBNIDY0MCA2MCBDIDU5OC43OCA1OS43NSA1NjAuOTggNjIuNDYgNTIwIDYwIE0gNjQwIDYwIEMgNjA3LjggNjEuOCA1NzUuMDIgNjAuMTEgNTIwIDYwIE0gNTIwIDYwIEMgNTE4Ljc3IDQ4Ljk4IDUyMS42NSAzNi42OSA1MjAgMCBNIDUyMCA2MCBDIDUxOS43OCAzNy41NiA1MjAuNCAxNC45MyA1MjAgMCIgZmlsbD0ibm9uZSIgc3Ryb2tlPSIjZTZlNmU2IiBzdHJva2UtbGluZWpvaW49InJvdW5kIiBzdHJva2UtbGluZWNhcD0icm91bmQiIHN0cm9rZS1taXRlcmxpbWl0PSIxMCIgcG9pbnRlci1ldmVudHM9ImFsbCIvPjxnIHRyYW5zZm9ybT0idHJhbnNsYXRlKC0wLjUgLTAuNSkiPjxzd2l0Y2g+PGZvcmVpZ25PYmplY3QgcG9pbnRlci1ldmVudHM9Im5vbmUiIHdpZHRoPSIxMDAlIiBoZWlnaHQ9IjEwMCUiIHJlcXVpcmVkRmVhdHVyZXM9Imh0dHA6Ly93d3cudzMub3JnL1RSL1NWRzExL2ZlYXR1cmUjRXh0ZW5zaWJpbGl0eSIgc3R5bGU9Im92ZXJmbG93OiB2aXNpYmxlOyB0ZXh0LWFsaWduOiBsZWZ0OyI+PGRpdiB4bWxucz0iaHR0cDovL3d3dy53My5vcmcvMTk5OS94aHRtbCIgc3R5bGU9ImRpc3BsYXk6IGZsZXg7IGFsaWduLWl0ZW1zOiB1bnNhZmUgY2VudGVyOyBqdXN0aWZ5LWNvbnRlbnQ6IHVuc2FmZSBjZW50ZXI7IHdpZHRoOiAxMThweDsgaGVpZ2h0OiAxcHg7IHBhZGRpbmctdG9wOiAzMHB4OyBtYXJnaW4tbGVmdDogNTIxcHg7Ij48ZGl2IGRhdGEtZHJhd2lvLWNvbG9ycz0iY29sb3I6ICNFNkU2RTY7ICIgc3R5bGU9ImJveC1zaXppbmc6IGJvcmRlci1ib3g7IGZvbnQtc2l6ZTogMHB4OyB0ZXh0LWFsaWduOiBjZW50ZXI7Ij48ZGl2IHN0eWxlPSJkaXNwbGF5OiBpbmxpbmUtYmxvY2s7IGZvbnQtc2l6ZTogMTJweDsgZm9udC1mYW1pbHk6IEhlbHZldGljYTsgY29sb3I6IHJnYigyMzAsIDIzMCwgMjMwKTsgbGluZS1oZWlnaHQ6IDEuMjsgcG9pbnRlci1ldmVudHM6IGFsbDsgd2hpdGUtc3BhY2U6IG5vcm1hbDsgb3ZlcmZsb3ctd3JhcDogbm9ybWFsOyI+0J7QsdGD0YfQtdC90LjQtSDQvNC+0LTQtdC70Lg8YnIgLz7QuCDQstCw0LvQuNC00LDRhtC40Y88L2Rpdj48L2Rpdj48L2Rpdj48L2ZvcmVpZ25PYmplY3Q+PHRleHQgeD0iNTgwIiB5PSIzNCIgZmlsbD0iI0U2RTZFNiIgZm9udC1mYW1pbHk9IkhlbHZldGljYSIgZm9udC1zaXplPSIxMnB4IiB0ZXh0LWFuY2hvcj0ibWlkZGxlIj7QntCx0YPRh9C10L3QuNC1INC80L7QtNC10LvQuC4uLjwvdGV4dD48L3N3aXRjaD48L2c+PC9nPjxzd2l0Y2g+PGcgcmVxdWlyZWRGZWF0dXJlcz0iaHR0cDovL3d3dy53My5vcmcvVFIvU1ZHMTEvZmVhdHVyZSNFeHRlbnNpYmlsaXR5Ii8+PGEgdHJhbnNmb3JtPSJ0cmFuc2xhdGUoMCwtNSkiIHhsaW5rOmhyZWY9Imh0dHBzOi8vd3d3LmRpYWdyYW1zLm5ldC9kb2MvZmFxL3N2Zy1leHBvcnQtdGV4dC1wcm9ibGVtcyIgdGFyZ2V0PSJfYmxhbmsiPjx0ZXh0IHRleHQtYW5jaG9yPSJtaWRkbGUiIGZvbnQtc2l6ZT0iMTBweCIgeD0iNTAlIiB5PSIxMDAlIj5UZXh0IGlzIG5vdCBTVkcgLSBjYW5ub3QgZGlzcGxheTwvdGV4dD48L2E+PC9zd2l0Y2g+PC9zdmc+)"
      ],
      "metadata": {
        "id": "cX355oU6dsDU"
      }
    },
    {
      "cell_type": "code",
      "source": [
        "#@title\n",
        "%%html\n",
        "<video controls width=\"250\">\n",
        "    <source src=\"https://github.com/ant-nik/neural_network_course/raw/main/practice_2_data/video_1/video_1.mp4\" type=\"video/mp4\"/>\n",
        "</video>\n",
        "<video controls width=\"250\">\n",
        "    <source src=\"https://github.com/ant-nik/neural_network_course/raw/main/practice_2_data/video_2/video_3.mp4\" type=\"video/mp4\"/>\n",
        "</video>\n",
        "<video controls width=\"250\">\n",
        "    <source src=\"https://github.com/ant-nik/neural_network_course/raw/main/practice_2_data/video_3/video_4.mp4\" type=\"video/mp4\"/>\n",
        "</video>\n",
        "<video controls width=\"250\">\n",
        "    <source src=\"https://github.com/ant-nik/neural_network_course/raw/main/practice_2_data/video_4/video_4.mp4\" type=\"video/mp4\"/>\n",
        "</video>"
      ],
      "metadata": {
        "colab": {
          "base_uri": "https://localhost:8080/",
          "height": 162
        },
        "cellView": "form",
        "id": "TAoDS5yTzL4h",
        "outputId": "21d2daf9-cabc-454c-9588-1356144786d2"
      },
      "execution_count": null,
      "outputs": [
        {
          "output_type": "display_data",
          "data": {
            "text/plain": [
              "<IPython.core.display.HTML object>"
            ],
            "text/html": [
              "<video controls width=\"250\">\n",
              "    <source src=\"https://github.com/ant-nik/neural_network_course/raw/main/practice_2_data/video_1/video_1.mp4\" type=\"video/mp4\"/>\n",
              "</video>\n",
              "<video controls width=\"250\">\n",
              "    <source src=\"https://github.com/ant-nik/neural_network_course/raw/main/practice_2_data/video_2/video_3.mp4\" type=\"video/mp4\"/>\n",
              "</video>\n",
              "<video controls width=\"250\">\n",
              "    <source src=\"https://github.com/ant-nik/neural_network_course/raw/main/practice_2_data/video_3/video_4.mp4\" type=\"video/mp4\"/>\n",
              "</video>\n",
              "<video controls width=\"250\">\n",
              "    <source src=\"https://github.com/ant-nik/neural_network_course/raw/main/practice_2_data/video_4/video_4.mp4\" type=\"video/mp4\"/>\n",
              "</video>\n"
            ]
          },
          "metadata": {}
        }
      ]
    },
    {
      "cell_type": "markdown",
      "source": [
        "# Разметка кадров для обучающей выборки"
      ],
      "metadata": {
        "id": "m6q5-uEtAaME"
      }
    },
    {
      "cell_type": "code",
      "source": [
        "!pip install -U -q qsl"
      ],
      "metadata": {
        "id": "Isp1jEaFwF18",
        "outputId": "0fc40ce1-c18d-4651-d901-8e7841314eeb",
        "colab": {
          "base_uri": "https://localhost:8080/"
        }
      },
      "execution_count": 1,
      "outputs": [
        {
          "output_type": "stream",
          "name": "stdout",
          "text": [
            "\u001b[2K     \u001b[90m━━━━━━━━━━━━━━━━━━━━━━━━━━━━━━━━━━━━━━━━\u001b[0m \u001b[32m1.8/1.8 MB\u001b[0m \u001b[31m17.8 MB/s\u001b[0m eta \u001b[36m0:00:00\u001b[0m\n",
            "\u001b[2K     \u001b[90m━━━━━━━━━━━━━━━━━━━━━━━━━━━━━━━━━━━━━━━━\u001b[0m \u001b[32m1.6/1.6 MB\u001b[0m \u001b[31m49.0 MB/s\u001b[0m eta \u001b[36m0:00:00\u001b[0m\n",
            "\u001b[?25h"
          ]
        }
      ]
    },
    {
      "cell_type": "code",
      "source": [
        "# Активация расширенных виджетов в Colab (можно закомментировать при запуске в Jupyter)\n",
        "import google.colab\n",
        "google.colab.output.enable_custom_widget_manager()"
      ],
      "metadata": {
        "id": "fC89lkkqhY_N"
      },
      "execution_count": 2,
      "outputs": []
    },
    {
      "cell_type": "code",
      "source": [
        "import qsl"
      ],
      "metadata": {
        "id": "XonId0u4hWC5"
      },
      "execution_count": 3,
      "outputs": []
    },
    {
      "cell_type": "code",
      "source": [
        "%%writefile images.csv\n",
        "target\n",
        "https://github.com/ant-nik/neural_network_course/raw/main/practice_2_data/video_1/image_001.jpg\n",
        "https://github.com/ant-nik/neural_network_course/raw/main/practice_2_data/video_1/image_002.jpg\n",
        "https://github.com/ant-nik/neural_network_course/raw/main/practice_2_data/video_1/image_003.jpg\n",
        "https://github.com/ant-nik/neural_network_course/raw/main/practice_2_data/video_2/image_005.jpg\n",
        "https://github.com/ant-nik/neural_network_course/raw/main/practice_2_data/video_2/image_006.jpg\n",
        "https://github.com/ant-nik/neural_network_course/raw/main/practice_2_data/video_2/image_007.jpg\n",
        "https://github.com/ant-nik/neural_network_course/raw/main/practice_2_data/video_2/image_008.jpg\n",
        "https://github.com/ant-nik/neural_network_course/raw/main/practice_2_data/video_2/image_009.jpg\n",
        "https://github.com/ant-nik/neural_network_course/raw/main/practice_2_data/video_2/image_010.jpg\n",
        "https://github.com/ant-nik/neural_network_course/raw/main/practice_2_data/video_3/image_011.jpg"
      ],
      "metadata": {
        "id": "PF5QcZa25CqX",
        "outputId": "93e0bf31-deac-495d-9639-085cf6fbdd9a",
        "colab": {
          "base_uri": "https://localhost:8080/"
        }
      },
      "execution_count": 4,
      "outputs": [
        {
          "output_type": "stream",
          "name": "stdout",
          "text": [
            "Writing images.csv\n"
          ]
        }
      ]
    },
    {
      "cell_type": "code",
      "source": [
        "import pandas\n",
        "\n",
        "image_file = pandas.read_csv('images.csv')"
      ],
      "metadata": {
        "id": "oa6Stj2FAhcZ"
      },
      "execution_count": 5,
      "outputs": []
    },
    {
      "cell_type": "code",
      "source": [
        "labeler = qsl.MediaLabeler(\n",
        "    items=image_file.to_dict(orient='records'),\n",
        "    config={\n",
        "        \"regions\": [\n",
        "            {\"name\": \"Object\", \"multiple\": True, \"options\": [{\"name\": \"bottle\"}, {\"name\": \"bug\"}]}\n",
        "        ]\n",
        "    })\n",
        "labeler.mode = \"dark\"\n",
        "labeler"
      ],
      "metadata": {
        "id": "GBJDJcy6hN4r",
        "colab": {
          "base_uri": "https://localhost:8080/",
          "height": 834,
          "referenced_widgets": [
            "95fedd56a11c4aa18aa26ed0876d074f",
            "b81ab76b233c4127844e86cb727da56e"
          ]
        },
        "outputId": "17574e79-85d8-4a38-d047-7418e03e1230"
      },
      "execution_count": 6,
      "outputs": [
        {
          "output_type": "display_data",
          "data": {
            "text/plain": [
              "MediaLabeler(buttons={'prev': False, 'next': True, 'save': True, 'config': True, 'delete': False, 'ignore': Tr…"
            ],
            "application/vnd.jupyter.widget-view+json": {
              "version_major": 2,
              "version_minor": 0,
              "model_id": "95fedd56a11c4aa18aa26ed0876d074f"
            }
          },
          "metadata": {
            "application/vnd.jupyter.widget-view+json": {
              "colab": {
                "custom_widget_manager": {
                  "url": "https://ssl.gstatic.com/colaboratory-static/widgets/colab-cdn-widget-manager/b3e629b1971e1542/manager.min.js"
                }
              }
            }
          }
        }
      ]
    },
    {
      "cell_type": "code",
      "source": [
        "import json\n",
        "\n",
        "with open('result.json', 'w') as file:\n",
        "    file.write(json.dumps(labeler.items, sort_keys=True, indent=4))"
      ],
      "metadata": {
        "id": "pCInWsS8kEUP"
      },
      "execution_count": 15,
      "outputs": []
    },
    {
      "cell_type": "code",
      "source": [
        "labels = None\n",
        "with open('result.json', 'r') as file:\n",
        "    labels = file.read()\n",
        "    print(labels)"
      ],
      "metadata": {
        "id": "I-1SxmA2DyA9"
      },
      "execution_count": null,
      "outputs": []
    },
    {
      "cell_type": "code",
      "source": [
        "!wget -O object_masks.json 'https://github.com/ant-nik/neural_network_course/raw/main/practice_2_data/object_masks.json'"
      ],
      "metadata": {
        "colab": {
          "base_uri": "https://localhost:8080/"
        },
        "id": "DPDvrPq-iRyv",
        "outputId": "e7992705-acc8-4f42-fc99-ddeddef9ec5a"
      },
      "execution_count": 82,
      "outputs": [
        {
          "output_type": "stream",
          "name": "stdout",
          "text": [
            "--2023-02-20 11:32:46--  https://github.com/ant-nik/neural_network_course/raw/main/practice_2_data/object_masks.json\n",
            "Resolving github.com (github.com)... 140.82.112.3\n",
            "Connecting to github.com (github.com)|140.82.112.3|:443... connected.\n",
            "HTTP request sent, awaiting response... 302 Found\n",
            "Location: https://raw.githubusercontent.com/ant-nik/neural_network_course/main/practice_2_data/object_masks.json [following]\n",
            "--2023-02-20 11:32:46--  https://raw.githubusercontent.com/ant-nik/neural_network_course/main/practice_2_data/object_masks.json\n",
            "Resolving raw.githubusercontent.com (raw.githubusercontent.com)... 185.199.108.133, 185.199.109.133, 185.199.110.133, ...\n",
            "Connecting to raw.githubusercontent.com (raw.githubusercontent.com)|185.199.108.133|:443... connected.\n",
            "HTTP request sent, awaiting response... 200 OK\n",
            "Length: 119077 (116K) [text/plain]\n",
            "Saving to: ‘object_masks.json’\n",
            "\n",
            "\robject_masks.json     0%[                    ]       0  --.-KB/s               \robject_masks.json   100%[===================>] 116.29K  --.-KB/s    in 0.02s   \n",
            "\n",
            "2023-02-20 11:32:46 (5.37 MB/s) - ‘object_masks.json’ saved [119077/119077]\n",
            "\n"
          ]
        }
      ]
    },
    {
      "cell_type": "code",
      "source": [
        "labels = None\n",
        "with open('object_masks.json', 'r') as file:\n",
        "    labels = file.read()\n",
        "label_data = json.loads(labels)"
      ],
      "metadata": {
        "id": "BTShllOuEFto"
      },
      "execution_count": 83,
      "outputs": []
    },
    {
      "cell_type": "code",
      "source": [
        "labeler = qsl.MediaLabeler(\n",
        "    items=label_data,\n",
        "    \n",
        "    #image_file.to_dict(orient='records'),\n",
        "    config={\n",
        "        \"regions\": [\n",
        "            {\"name\": \"Type\", \"multiple\": True, \"options\": [{\"name\": \"bottle\"}, {\"name\": \"bag\"}]}\n",
        "        ]\n",
        "    })\n",
        "labeler.labels\n",
        "labeler.mode = \"dark\"\n",
        "labeler"
      ],
      "metadata": {
        "id": "vK_6h2AX2ySU",
        "outputId": "527daf9b-43ef-4832-e5c3-b91d7f7a1166",
        "colab": {
          "base_uri": "https://localhost:8080/",
          "height": 851,
          "referenced_widgets": [
            "ca708d2e25f84518b2877a4c9b8059e2",
            "a62987e8b3ce400ab3509c274b190490"
          ]
        }
      },
      "execution_count": 84,
      "outputs": [
        {
          "output_type": "stream",
          "name": "stderr",
          "text": [
            "WARNING:qsl.common:All items have already been labeled. Starting from beginning.\n"
          ]
        },
        {
          "output_type": "display_data",
          "data": {
            "text/plain": [
              "MediaLabeler(buttons={'prev': False, 'next': True, 'save': True, 'config': True, 'delete': True, 'ignore': Fal…"
            ],
            "application/vnd.jupyter.widget-view+json": {
              "version_major": 2,
              "version_minor": 0,
              "model_id": "ca708d2e25f84518b2877a4c9b8059e2"
            }
          },
          "metadata": {
            "application/vnd.jupyter.widget-view+json": {
              "colab": {
                "custom_widget_manager": {
                  "url": "https://ssl.gstatic.com/colaboratory-static/widgets/colab-cdn-widget-manager/b3e629b1971e1542/manager.min.js"
                }
              }
            }
          }
        }
      ]
    },
    {
      "cell_type": "code",
      "source": [
        "class Struct(object):\n",
        "\n",
        "    def __init__(self, data):\n",
        "        for name, value in data.items():\n",
        "            setattr(self, name, self._wrap(value))\n",
        "\n",
        "    def _wrap(self, value):\n",
        "        if isinstance(value, (tuple, list, set, frozenset)): \n",
        "            return type(value)([self._wrap(v) for v in value])\n",
        "        else:\n",
        "            return Struct(value) if isinstance(value, dict) else value\n",
        "\n",
        "    def __str__(self):\n",
        "        result = '{'\n",
        "        first = True\n",
        "        for field in self.__dict__.keys():\n",
        "            if not first:\n",
        "                result += ', '\n",
        "            else:\n",
        "                first = False\n",
        "            result += f'{field}: {str(self.__dict__[field])}'\n",
        "        return result + '}'\n",
        "\n",
        "    def __repr__(self):\n",
        "        return str(self)"
      ],
      "metadata": {
        "id": "_Wv-oeUGdVio"
      },
      "execution_count": 13,
      "outputs": []
    },
    {
      "cell_type": "code",
      "source": [
        "labels = [Struct(label) for label in label_data]"
      ],
      "metadata": {
        "id": "KA4YgYr4ivpT"
      },
      "execution_count": 85,
      "outputs": []
    },
    {
      "cell_type": "markdown",
      "source": [
        "# Расширение обучающей выборки \n",
        "\n",
        "На практике не всегда удается собрать достаточно размеченного материала для качественного обучения нейронной сети. Кроме того, использование большого массива изображений без должного анализа состава приводит к разбалансировке процесса обучения. Например, в общем потоке изображений какие-либо классы объектов могут быть представлены незначительным числом примеров и по этой причине их распознавание во время обучения будет иметь малую значимость на фоне остальных классов. В этой связи все современные модели при обучении предполагают в определенной степени крапотливое конструирование синтетического набора данных на основе исходных изображений. Подробный обзор стратегий расширения выборки за счет изменения исходных изображений представлен в статье \"A Comprehensive Survey of Image Augmentation Techniques for Deep Learning\" (https://arxiv.org/abs/2205.01491).\n",
        "\n",
        "Далее будем использовать следующий способ расширения выборки изображений.\n",
        "1. Извлечение изображений интересующих нас объектов из исходных данных.\n",
        "2. Создание набора фоновых изображений для размещения объектов.\n",
        "3. Определение набора трасформаций изображений объектов и фона, включая масштабирование, отражения, повороты, обрезку, изменение цвета/насыщенности, наложение шума.\n",
        "4. Размещение объектов на фоне в случайных местах.\n",
        "\n",
        "В настоящее время нет необходимости реализовывать с нуля все шаги синтеза изображений, т.к. существуюет большой набор готовых решений. Наиболее популярными решениями служат следующие пакеты Python.\n",
        "\n",
        "1. https://pytorch.org/vision/stable/transforms.html\n",
        "2. https://www.tensorflow.org/tutorials/images/data_augmentation?hl=en\n",
        "3. https://augmentor.readthedocs.io/en/master/\n",
        "4. https://github.com/albumentations-team/albumentations\n",
        "\n",
        "Важным вопросом при расширении выборки является выбор параметров. Он может быть выполнен как эмпирически, так и путем оптимизации. В последнем случае используют либо целевую модель, либо её малый эквивалент с целью вариации параметров и оценки качества обучения. Логичным итогом такого рода работы становятся так называемые \"системы автоаугоментации\", в которые встраивается универсальная внутренняя модель и алгоритм оптимизации для подбора параметров трансформаций. Они могут использоваться для расширения новых наборов данных без дополнительных усилий со стороны разработчика (но ценой значительного расхода вычислений, т.к. необходимо многократно проводить процесс обучения моделей). Более подробно об основной идее такого автоматического подхода можно почитать в статье сотрудников компании Google (https://arxiv.org/abs/1805.09501), а также изучить похожую реализацию в пакете deepaugment - https://github.com/barisozmen/deepaugment (к сожалению, пакет больше не поддерживается, последнее обновление исходного кода было в 2019 году).\n",
        "Далее будем использовать более простой \"эмпирический способ\".\n",
        "\n"
      ],
      "metadata": {
        "id": "h2oYEOOTtSGK"
      }
    },
    {
      "cell_type": "code",
      "source": [
        "!pip install Augmentor"
      ],
      "metadata": {
        "id": "fzE7dq3NcqOT",
        "outputId": "e038dd4d-dbad-4146-b85a-3b3e9fbbd70a",
        "colab": {
          "base_uri": "https://localhost:8080/"
        }
      },
      "execution_count": 10,
      "outputs": [
        {
          "output_type": "stream",
          "name": "stdout",
          "text": [
            "Looking in indexes: https://pypi.org/simple, https://us-python.pkg.dev/colab-wheels/public/simple/\n",
            "Collecting Augmentor\n",
            "  Downloading Augmentor-0.2.10-py2.py3-none-any.whl (38 kB)\n",
            "Requirement already satisfied: future>=0.16.0 in /usr/local/lib/python3.8/dist-packages (from Augmentor) (0.16.0)\n",
            "Requirement already satisfied: numpy>=1.11.0 in /usr/local/lib/python3.8/dist-packages (from Augmentor) (1.21.6)\n",
            "Requirement already satisfied: tqdm>=4.9.0 in /usr/local/lib/python3.8/dist-packages (from Augmentor) (4.64.1)\n",
            "Requirement already satisfied: Pillow>=5.2.0 in /usr/local/lib/python3.8/dist-packages (from Augmentor) (7.1.2)\n",
            "Installing collected packages: Augmentor\n",
            "Successfully installed Augmentor-0.2.10\n"
          ]
        }
      ]
    },
    {
      "cell_type": "code",
      "source": [
        "!pip install -U albumentations"
      ],
      "metadata": {
        "id": "UfcMrVUU5apu",
        "outputId": "85431a87-93da-4f66-c6ce-611a46fb6675",
        "colab": {
          "base_uri": "https://localhost:8080/"
        }
      },
      "execution_count": 11,
      "outputs": [
        {
          "output_type": "stream",
          "name": "stdout",
          "text": [
            "Looking in indexes: https://pypi.org/simple, https://us-python.pkg.dev/colab-wheels/public/simple/\n",
            "Requirement already satisfied: albumentations in /usr/local/lib/python3.8/dist-packages (1.2.1)\n",
            "Collecting albumentations\n",
            "  Downloading albumentations-1.3.0-py3-none-any.whl (123 kB)\n",
            "\u001b[2K     \u001b[90m━━━━━━━━━━━━━━━━━━━━━━━━━━━━━━━━━━━━━━━\u001b[0m \u001b[32m123.5/123.5 KB\u001b[0m \u001b[31m4.0 MB/s\u001b[0m eta \u001b[36m0:00:00\u001b[0m\n",
            "\u001b[?25hRequirement already satisfied: PyYAML in /usr/local/lib/python3.8/dist-packages (from albumentations) (6.0)\n",
            "Requirement already satisfied: scipy in /usr/local/lib/python3.8/dist-packages (from albumentations) (1.7.3)\n",
            "Requirement already satisfied: numpy>=1.11.1 in /usr/local/lib/python3.8/dist-packages (from albumentations) (1.21.6)\n",
            "Requirement already satisfied: opencv-python-headless>=4.1.1 in /usr/local/lib/python3.8/dist-packages (from albumentations) (4.7.0.68)\n",
            "Requirement already satisfied: scikit-image>=0.16.1 in /usr/local/lib/python3.8/dist-packages (from albumentations) (0.18.3)\n",
            "Requirement already satisfied: qudida>=0.0.4 in /usr/local/lib/python3.8/dist-packages (from albumentations) (0.0.4)\n",
            "Requirement already satisfied: scikit-learn>=0.19.1 in /usr/local/lib/python3.8/dist-packages (from qudida>=0.0.4->albumentations) (1.0.2)\n",
            "Requirement already satisfied: typing-extensions in /usr/local/lib/python3.8/dist-packages (from qudida>=0.0.4->albumentations) (4.5.0)\n",
            "Requirement already satisfied: tifffile>=2019.7.26 in /usr/local/lib/python3.8/dist-packages (from scikit-image>=0.16.1->albumentations) (2023.2.3)\n",
            "Requirement already satisfied: pillow!=7.1.0,!=7.1.1,>=4.3.0 in /usr/local/lib/python3.8/dist-packages (from scikit-image>=0.16.1->albumentations) (7.1.2)\n",
            "Requirement already satisfied: imageio>=2.3.0 in /usr/local/lib/python3.8/dist-packages (from scikit-image>=0.16.1->albumentations) (2.9.0)\n",
            "Requirement already satisfied: networkx>=2.0 in /usr/local/lib/python3.8/dist-packages (from scikit-image>=0.16.1->albumentations) (3.0)\n",
            "Requirement already satisfied: PyWavelets>=1.1.1 in /usr/local/lib/python3.8/dist-packages (from scikit-image>=0.16.1->albumentations) (1.4.1)\n",
            "Requirement already satisfied: matplotlib!=3.0.0,>=2.0.0 in /usr/local/lib/python3.8/dist-packages (from scikit-image>=0.16.1->albumentations) (3.2.2)\n",
            "Requirement already satisfied: kiwisolver>=1.0.1 in /usr/local/lib/python3.8/dist-packages (from matplotlib!=3.0.0,>=2.0.0->scikit-image>=0.16.1->albumentations) (1.4.4)\n",
            "Requirement already satisfied: cycler>=0.10 in /usr/local/lib/python3.8/dist-packages (from matplotlib!=3.0.0,>=2.0.0->scikit-image>=0.16.1->albumentations) (0.11.0)\n",
            "Requirement already satisfied: pyparsing!=2.0.4,!=2.1.2,!=2.1.6,>=2.0.1 in /usr/local/lib/python3.8/dist-packages (from matplotlib!=3.0.0,>=2.0.0->scikit-image>=0.16.1->albumentations) (3.0.9)\n",
            "Requirement already satisfied: python-dateutil>=2.1 in /usr/local/lib/python3.8/dist-packages (from matplotlib!=3.0.0,>=2.0.0->scikit-image>=0.16.1->albumentations) (2.8.2)\n",
            "Requirement already satisfied: joblib>=0.11 in /usr/local/lib/python3.8/dist-packages (from scikit-learn>=0.19.1->qudida>=0.0.4->albumentations) (1.2.0)\n",
            "Requirement already satisfied: threadpoolctl>=2.0.0 in /usr/local/lib/python3.8/dist-packages (from scikit-learn>=0.19.1->qudida>=0.0.4->albumentations) (3.1.0)\n",
            "Requirement already satisfied: six>=1.5 in /usr/local/lib/python3.8/dist-packages (from python-dateutil>=2.1->matplotlib!=3.0.0,>=2.0.0->scikit-image>=0.16.1->albumentations) (1.15.0)\n",
            "Installing collected packages: albumentations\n",
            "  Attempting uninstall: albumentations\n",
            "    Found existing installation: albumentations 1.2.1\n",
            "    Uninstalling albumentations-1.2.1:\n",
            "      Successfully uninstalled albumentations-1.2.1\n",
            "Successfully installed albumentations-1.3.0\n"
          ]
        }
      ]
    },
    {
      "cell_type": "code",
      "source": [
        "import requests\n",
        "import numpy\n",
        "import cv2\n",
        "from collections import namedtuple\n",
        "import typing\n",
        "\n",
        "\n",
        "class MaskedObjectImage:\n",
        "\n",
        "    def __init__(self, image, mask, label):\n",
        "        self.orig_image = image\n",
        "        self.mask = mask\n",
        "        self.label = label\n",
        "\n",
        "    @property\n",
        "    def image(self):\n",
        "        pass\n",
        "\n",
        "\n",
        "RawObject = namedtuple('RawObject', ['image_url', 'mask_polygon', 'label'])\n",
        "\n",
        "\n",
        "class MaskedObjectsDataset:\n",
        "\n",
        "    def __init__(self, metadata: typing.List[Struct]):\n",
        "        self.metadata = metadata\n",
        "        self.objects_meta = [\n",
        "            RawObject(image_url=image.target,\n",
        "                      label=obj.labels.Type[0],\n",
        "                      mask_polygon=pandas.DataFrame.from_records(\n",
        "                          [vars(point) for point in obj.points]))\n",
        "            for image in self.metadata\n",
        "            for obj in image.labels.polygons\n",
        "            ]\n",
        "        self.basic_images = {}\n",
        "        self.objects = {}\n",
        "\n",
        "    def __len__(self) -> int:\n",
        "        return len(self.objects_meta)\n",
        "\n",
        "    def __getitem__(self, i) -> MaskedObjectImage:\n",
        "        if i not in self.objects:\n",
        "            self.__create_object(i)\n",
        "\n",
        "        return self.objects[i]\n",
        "\n",
        "    def __create_object(self, i):\n",
        "        object_meta = self.objects_meta[i]\n",
        "        image = None\n",
        "        if not object_meta.image_url in self.basic_images:\n",
        "            responce = requests.get(object_meta.image_url)\n",
        "            if not responce.status_code == 200:\n",
        "                raise Exception(\"Error, cant get image {}: {}\".format(\n",
        "                    object_meta.image_url, responce.status_code))\n",
        "            raw_bytes = numpy.frombuffer(responce.content, dtype=numpy.uint8)\n",
        "            self.basic_images[object_meta.image_url] = cv2.imdecode(\n",
        "                raw_bytes, cv2.IMREAD_COLOR)\n",
        "\n",
        "        basic_image = self.basic_images[object_meta.image_url]\n",
        "        min_x = int(object_meta.mask_polygon['x'].min()*basic_image.shape[1])\n",
        "        min_y = int(object_meta.mask_polygon['y'].min()*basic_image.shape[0])\n",
        "        max_x = int(object_meta.mask_polygon['x'].max()*basic_image.shape[1])\n",
        "        max_y = int(object_meta.mask_polygon['y'].max()*basic_image.shape[0])\n",
        "        image = basic_image[min_y:max_y, min_x:max_x, :]\n",
        "        mask = numpy.zeros(image.shape, dtype=numpy.uint8)\n",
        "        object_meta.mask_polygon['nx'] = (\n",
        "            object_meta.mask_polygon['x']*basic_image.shape[1]).map(int) - min_x\n",
        "        object_meta.mask_polygon['ny'] = (\n",
        "            object_meta.mask_polygon['y']*basic_image.shape[0]).map(int) - min_y\n",
        "        cv2.fillPoly(mask, numpy.expand_dims(\n",
        "            object_meta.mask_polygon[['nx', 'ny']].to_numpy(), axis=0),\n",
        "            255)\n",
        "        self.objects[i] = MaskedObjectImage(\n",
        "            image=image,\n",
        "            mask=mask,\n",
        "            label=object_meta.label)\n"
      ],
      "metadata": {
        "id": "mceSP2_z6FbO"
      },
      "execution_count": 139,
      "outputs": []
    },
    {
      "cell_type": "code",
      "source": [
        "dataset = MaskedObjectsDataset(metadata=labels)"
      ],
      "metadata": {
        "id": "S2uFqDU0eehM"
      },
      "execution_count": 140,
      "outputs": []
    },
    {
      "cell_type": "code",
      "source": [
        "#%debug\n",
        "res = dataset[1]"
      ],
      "metadata": {
        "id": "98JSRzdEmdLu"
      },
      "execution_count": 154,
      "outputs": []
    },
    {
      "cell_type": "code",
      "source": [
        "import plotly.express as plte\n",
        "\n",
        "masked = res.orig_image.copy()\n",
        "masked[res.mask == 0] = 0\n",
        "plte.imshow(masked)"
      ],
      "metadata": {
        "id": "tQtcyI5s6lo1",
        "outputId": "aa78ec1b-8c8a-4572-d8ad-e03e2f23377b",
        "colab": {
          "base_uri": "https://localhost:8080/",
          "height": 542
        }
      },
      "execution_count": 156,
      "outputs": [
        {
          "output_type": "display_data",
          "data": {
            "text/html": [
              "<html>\n",
              "<head><meta charset=\"utf-8\" /></head>\n",
              "<body>\n",
              "    <div>            <script src=\"https://cdnjs.cloudflare.com/ajax/libs/mathjax/2.7.5/MathJax.js?config=TeX-AMS-MML_SVG\"></script><script type=\"text/javascript\">if (window.MathJax) {MathJax.Hub.Config({SVG: {font: \"STIX-Web\"}});}</script>                <script type=\"text/javascript\">window.PlotlyConfig = {MathJaxConfig: 'local'};</script>\n",
              "        <script src=\"https://cdn.plot.ly/plotly-2.8.3.min.js\"></script>                <div id=\"e769c267-2225-4638-b242-b6fbc3d2fd69\" class=\"plotly-graph-div\" style=\"height:525px; width:100%;\"></div>            <script type=\"text/javascript\">                                    window.PLOTLYENV=window.PLOTLYENV || {};                                    if (document.getElementById(\"e769c267-2225-4638-b242-b6fbc3d2fd69\")) {                    Plotly.newPlot(                        \"e769c267-2225-4638-b242-b6fbc3d2fd69\",                        [{\"name\":\"0\",\"source\":\"data:image/png;base64,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\",\"type\":\"image\",\"xaxis\":\"x\",\"yaxis\":\"y\",\"hovertemplate\":\"x: %{x}<br>y: %{y}<br>color: [%{z[0]}, %{z[1]}, %{z[2]}]<extra></extra>\"}],                        {\"template\":{\"data\":{\"bar\":[{\"error_x\":{\"color\":\"#2a3f5f\"},\"error_y\":{\"color\":\"#2a3f5f\"},\"marker\":{\"line\":{\"color\":\"#E5ECF6\",\"width\":0.5},\"pattern\":{\"fillmode\":\"overlay\",\"size\":10,\"solidity\":0.2}},\"type\":\"bar\"}],\"barpolar\":[{\"marker\":{\"line\":{\"color\":\"#E5ECF6\",\"width\":0.5},\"pattern\":{\"fillmode\":\"overlay\",\"size\":10,\"solidity\":0.2}},\"type\":\"barpolar\"}],\"carpet\":[{\"aaxis\":{\"endlinecolor\":\"#2a3f5f\",\"gridcolor\":\"white\",\"linecolor\":\"white\",\"minorgridcolor\":\"white\",\"startlinecolor\":\"#2a3f5f\"},\"baxis\":{\"endlinecolor\":\"#2a3f5f\",\"gridcolor\":\"white\",\"linecolor\":\"white\",\"minorgridcolor\":\"white\",\"startlinecolor\":\"#2a3f5f\"},\"type\":\"carpet\"}],\"choropleth\":[{\"colorbar\":{\"outlinewidth\":0,\"ticks\":\"\"},\"type\":\"choropleth\"}],\"contour\":[{\"colorbar\":{\"outlinewidth\":0,\"ticks\":\"\"},\"colorscale\":[[0.0,\"#0d0887\"],[0.1111111111111111,\"#46039f\"],[0.2222222222222222,\"#7201a8\"],[0.3333333333333333,\"#9c179e\"],[0.4444444444444444,\"#bd3786\"],[0.5555555555555556,\"#d8576b\"],[0.6666666666666666,\"#ed7953\"],[0.7777777777777778,\"#fb9f3a\"],[0.8888888888888888,\"#fdca26\"],[1.0,\"#f0f921\"]],\"type\":\"contour\"}],\"contourcarpet\":[{\"colorbar\":{\"outlinewidth\":0,\"ticks\":\"\"},\"type\":\"contourcarpet\"}],\"heatmap\":[{\"colorbar\":{\"outlinewidth\":0,\"ticks\":\"\"},\"colorscale\":[[0.0,\"#0d0887\"],[0.1111111111111111,\"#46039f\"],[0.2222222222222222,\"#7201a8\"],[0.3333333333333333,\"#9c179e\"],[0.4444444444444444,\"#bd3786\"],[0.5555555555555556,\"#d8576b\"],[0.6666666666666666,\"#ed7953\"],[0.7777777777777778,\"#fb9f3a\"],[0.8888888888888888,\"#fdca26\"],[1.0,\"#f0f921\"]],\"type\":\"heatmap\"}],\"heatmapgl\":[{\"colorbar\":{\"outlinewidth\":0,\"ticks\":\"\"},\"colorscale\":[[0.0,\"#0d0887\"],[0.1111111111111111,\"#46039f\"],[0.2222222222222222,\"#7201a8\"],[0.3333333333333333,\"#9c179e\"],[0.4444444444444444,\"#bd3786\"],[0.5555555555555556,\"#d8576b\"],[0.6666666666666666,\"#ed7953\"],[0.7777777777777778,\"#fb9f3a\"],[0.8888888888888888,\"#fdca26\"],[1.0,\"#f0f921\"]],\"type\":\"heatmapgl\"}],\"histogram\":[{\"marker\":{\"pattern\":{\"fillmode\":\"overlay\",\"size\":10,\"solidity\":0.2}},\"type\":\"histogram\"}],\"histogram2d\":[{\"colorbar\":{\"outlinewidth\":0,\"ticks\":\"\"},\"colorscale\":[[0.0,\"#0d0887\"],[0.1111111111111111,\"#46039f\"],[0.2222222222222222,\"#7201a8\"],[0.3333333333333333,\"#9c179e\"],[0.4444444444444444,\"#bd3786\"],[0.5555555555555556,\"#d8576b\"],[0.6666666666666666,\"#ed7953\"],[0.7777777777777778,\"#fb9f3a\"],[0.8888888888888888,\"#fdca26\"],[1.0,\"#f0f921\"]],\"type\":\"histogram2d\"}],\"histogram2dcontour\":[{\"colorbar\":{\"outlinewidth\":0,\"ticks\":\"\"},\"colorscale\":[[0.0,\"#0d0887\"],[0.1111111111111111,\"#46039f\"],[0.2222222222222222,\"#7201a8\"],[0.3333333333333333,\"#9c179e\"],[0.4444444444444444,\"#bd3786\"],[0.5555555555555556,\"#d8576b\"],[0.6666666666666666,\"#ed7953\"],[0.7777777777777778,\"#fb9f3a\"],[0.8888888888888888,\"#fdca26\"],[1.0,\"#f0f921\"]],\"type\":\"histogram2dcontour\"}],\"mesh3d\":[{\"colorbar\":{\"outlinewidth\":0,\"ticks\":\"\"},\"type\":\"mesh3d\"}],\"parcoords\":[{\"line\":{\"colorbar\":{\"outlinewidth\":0,\"ticks\":\"\"}},\"type\":\"parcoords\"}],\"pie\":[{\"automargin\":true,\"type\":\"pie\"}],\"scatter\":[{\"marker\":{\"colorbar\":{\"outlinewidth\":0,\"ticks\":\"\"}},\"type\":\"scatter\"}],\"scatter3d\":[{\"line\":{\"colorbar\":{\"outlinewidth\":0,\"ticks\":\"\"}},\"marker\":{\"colorbar\":{\"outlinewidth\":0,\"ticks\":\"\"}},\"type\":\"scatter3d\"}],\"scattercarpet\":[{\"marker\":{\"colorbar\":{\"outlinewidth\":0,\"ticks\":\"\"}},\"type\":\"scattercarpet\"}],\"scattergeo\":[{\"marker\":{\"colorbar\":{\"outlinewidth\":0,\"ticks\":\"\"}},\"type\":\"scattergeo\"}],\"scattergl\":[{\"marker\":{\"colorbar\":{\"outlinewidth\":0,\"ticks\":\"\"}},\"type\":\"scattergl\"}],\"scattermapbox\":[{\"marker\":{\"colorbar\":{\"outlinewidth\":0,\"ticks\":\"\"}},\"type\":\"scattermapbox\"}],\"scatterpolar\":[{\"marker\":{\"colorbar\":{\"outlinewidth\":0,\"ticks\":\"\"}},\"type\":\"scatterpolar\"}],\"scatterpolargl\":[{\"marker\":{\"colorbar\":{\"outlinewidth\":0,\"ticks\":\"\"}},\"type\":\"scatterpolargl\"}],\"scatterternary\":[{\"marker\":{\"colorbar\":{\"outlinewidth\":0,\"ticks\":\"\"}},\"type\":\"scatterternary\"}],\"surface\":[{\"colorbar\":{\"outlinewidth\":0,\"ticks\":\"\"},\"colorscale\":[[0.0,\"#0d0887\"],[0.1111111111111111,\"#46039f\"],[0.2222222222222222,\"#7201a8\"],[0.3333333333333333,\"#9c179e\"],[0.4444444444444444,\"#bd3786\"],[0.5555555555555556,\"#d8576b\"],[0.6666666666666666,\"#ed7953\"],[0.7777777777777778,\"#fb9f3a\"],[0.8888888888888888,\"#fdca26\"],[1.0,\"#f0f921\"]],\"type\":\"surface\"}],\"table\":[{\"cells\":{\"fill\":{\"color\":\"#EBF0F8\"},\"line\":{\"color\":\"white\"}},\"header\":{\"fill\":{\"color\":\"#C8D4E3\"},\"line\":{\"color\":\"white\"}},\"type\":\"table\"}]},\"layout\":{\"annotationdefaults\":{\"arrowcolor\":\"#2a3f5f\",\"arrowhead\":0,\"arrowwidth\":1},\"autotypenumbers\":\"strict\",\"coloraxis\":{\"colorbar\":{\"outlinewidth\":0,\"ticks\":\"\"}},\"colorscale\":{\"diverging\":[[0,\"#8e0152\"],[0.1,\"#c51b7d\"],[0.2,\"#de77ae\"],[0.3,\"#f1b6da\"],[0.4,\"#fde0ef\"],[0.5,\"#f7f7f7\"],[0.6,\"#e6f5d0\"],[0.7,\"#b8e186\"],[0.8,\"#7fbc41\"],[0.9,\"#4d9221\"],[1,\"#276419\"]],\"sequential\":[[0.0,\"#0d0887\"],[0.1111111111111111,\"#46039f\"],[0.2222222222222222,\"#7201a8\"],[0.3333333333333333,\"#9c179e\"],[0.4444444444444444,\"#bd3786\"],[0.5555555555555556,\"#d8576b\"],[0.6666666666666666,\"#ed7953\"],[0.7777777777777778,\"#fb9f3a\"],[0.8888888888888888,\"#fdca26\"],[1.0,\"#f0f921\"]],\"sequentialminus\":[[0.0,\"#0d0887\"],[0.1111111111111111,\"#46039f\"],[0.2222222222222222,\"#7201a8\"],[0.3333333333333333,\"#9c179e\"],[0.4444444444444444,\"#bd3786\"],[0.5555555555555556,\"#d8576b\"],[0.6666666666666666,\"#ed7953\"],[0.7777777777777778,\"#fb9f3a\"],[0.8888888888888888,\"#fdca26\"],[1.0,\"#f0f921\"]]},\"colorway\":[\"#636efa\",\"#EF553B\",\"#00cc96\",\"#ab63fa\",\"#FFA15A\",\"#19d3f3\",\"#FF6692\",\"#B6E880\",\"#FF97FF\",\"#FECB52\"],\"font\":{\"color\":\"#2a3f5f\"},\"geo\":{\"bgcolor\":\"white\",\"lakecolor\":\"white\",\"landcolor\":\"#E5ECF6\",\"showlakes\":true,\"showland\":true,\"subunitcolor\":\"white\"},\"hoverlabel\":{\"align\":\"left\"},\"hovermode\":\"closest\",\"mapbox\":{\"style\":\"light\"},\"paper_bgcolor\":\"white\",\"plot_bgcolor\":\"#E5ECF6\",\"polar\":{\"angularaxis\":{\"gridcolor\":\"white\",\"linecolor\":\"white\",\"ticks\":\"\"},\"bgcolor\":\"#E5ECF6\",\"radialaxis\":{\"gridcolor\":\"white\",\"linecolor\":\"white\",\"ticks\":\"\"}},\"scene\":{\"xaxis\":{\"backgroundcolor\":\"#E5ECF6\",\"gridcolor\":\"white\",\"gridwidth\":2,\"linecolor\":\"white\",\"showbackground\":true,\"ticks\":\"\",\"zerolinecolor\":\"white\"},\"yaxis\":{\"backgroundcolor\":\"#E5ECF6\",\"gridcolor\":\"white\",\"gridwidth\":2,\"linecolor\":\"white\",\"showbackground\":true,\"ticks\":\"\",\"zerolinecolor\":\"white\"},\"zaxis\":{\"backgroundcolor\":\"#E5ECF6\",\"gridcolor\":\"white\",\"gridwidth\":2,\"linecolor\":\"white\",\"showbackground\":true,\"ticks\":\"\",\"zerolinecolor\":\"white\"}},\"shapedefaults\":{\"line\":{\"color\":\"#2a3f5f\"}},\"ternary\":{\"aaxis\":{\"gridcolor\":\"white\",\"linecolor\":\"white\",\"ticks\":\"\"},\"baxis\":{\"gridcolor\":\"white\",\"linecolor\":\"white\",\"ticks\":\"\"},\"bgcolor\":\"#E5ECF6\",\"caxis\":{\"gridcolor\":\"white\",\"linecolor\":\"white\",\"ticks\":\"\"}},\"title\":{\"x\":0.05},\"xaxis\":{\"automargin\":true,\"gridcolor\":\"white\",\"linecolor\":\"white\",\"ticks\":\"\",\"title\":{\"standoff\":15},\"zerolinecolor\":\"white\",\"zerolinewidth\":2},\"yaxis\":{\"automargin\":true,\"gridcolor\":\"white\",\"linecolor\":\"white\",\"ticks\":\"\",\"title\":{\"standoff\":15},\"zerolinecolor\":\"white\",\"zerolinewidth\":2}}},\"xaxis\":{\"anchor\":\"y\",\"domain\":[0.0,1.0]},\"yaxis\":{\"anchor\":\"x\",\"domain\":[0.0,1.0]},\"margin\":{\"t\":60}},                        {\"responsive\": true}                    ).then(function(){\n",
              "                            \n",
              "var gd = document.getElementById('e769c267-2225-4638-b242-b6fbc3d2fd69');\n",
              "var x = new MutationObserver(function (mutations, observer) {{\n",
              "        var display = window.getComputedStyle(gd).display;\n",
              "        if (!display || display === 'none') {{\n",
              "            console.log([gd, 'removed!']);\n",
              "            Plotly.purge(gd);\n",
              "            observer.disconnect();\n",
              "        }}\n",
              "}});\n",
              "\n",
              "// Listen for the removal of the full notebook cells\n",
              "var notebookContainer = gd.closest('#notebook-container');\n",
              "if (notebookContainer) {{\n",
              "    x.observe(notebookContainer, {childList: true});\n",
              "}}\n",
              "\n",
              "// Listen for the clearing of the current output cell\n",
              "var outputEl = gd.closest('.output');\n",
              "if (outputEl) {{\n",
              "    x.observe(outputEl, {childList: true});\n",
              "}}\n",
              "\n",
              "                        })                };                            </script>        </div>\n",
              "</body>\n",
              "</html>"
            ]
          },
          "metadata": {}
        }
      ]
    }
  ]
}