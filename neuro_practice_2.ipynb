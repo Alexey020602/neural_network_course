{
  "nbformat": 4,
  "nbformat_minor": 0,
  "metadata": {
    "colab": {
      "provenance": []
    },
    "kernelspec": {
      "name": "python3",
      "display_name": "Python 3"
    },
    "language_info": {
      "name": "python"
    },
    "widgets": {
      "application/vnd.jupyter.widget-state+json": {
        "b6697d69f594434886d990ff162c8da3": {
          "model_module": "qslwidgets",
          "model_name": "MediaLabelerModel",
          "model_module_version": "0.2.26",
          "state": {
            "_dom_classes": [],
            "_model_module": "qslwidgets",
            "_model_module_version": "0.2.26",
            "_model_name": "MediaLabelerModel",
            "_view_count": null,
            "_view_module": "qslwidgets",
            "_view_module_version": "0.2.26",
            "_view_name": "MediaLabelerView",
            "action": "",
            "base": {
              "serverRoot": "",
              "url": "https://localhost:8080/"
            },
            "buttons": {
              "prev": true,
              "next": true,
              "save": true,
              "config": true,
              "delete": false,
              "ignore": true,
              "unignore": false
            },
            "config": {
              "regions": [
                {
                  "name": "Object",
                  "multiple": true,
                  "options": [
                    {
                      "name": "bottle"
                    },
                    {
                      "name": "bug"
                    }
                  ]
                }
              ]
            },
            "idx": 7,
            "indexState": {
              "rows": [
                {
                  "qslId": 0,
                  "target": "https://github.com/ant-nik/neural_network_course/raw/main/practice_2_data/video_1/image_001.jpg",
                  "labeled": "No",
                  "ignored": "No",
                  "labels": ""
                },
                {
                  "qslId": 1,
                  "target": "https://github.com/ant-nik/neural_network_course/raw/main/practice_2_data/video_1/image_002.jpg",
                  "labeled": "No",
                  "ignored": "No",
                  "labels": ""
                },
                {
                  "qslId": 2,
                  "target": "https://github.com/ant-nik/neural_network_course/raw/main/practice_2_data/video_1/image_003.jpg",
                  "labeled": "No",
                  "ignored": "No",
                  "labels": ""
                },
                {
                  "qslId": 3,
                  "target": "https://github.com/ant-nik/neural_network_course/raw/main/practice_2_data/video_2/image_005.jpg",
                  "labeled": "No",
                  "ignored": "No",
                  "labels": ""
                },
                {
                  "qslId": 4,
                  "target": "https://github.com/ant-nik/neural_network_course/raw/main/practice_2_data/video_2/image_006.jpg",
                  "labeled": "No",
                  "ignored": "No",
                  "labels": ""
                },
                {
                  "qslId": 5,
                  "target": "https://github.com/ant-nik/neural_network_course/raw/main/practice_2_data/video_2/image_007.jpg",
                  "labeled": "No",
                  "ignored": "No",
                  "labels": ""
                },
                {
                  "qslId": 6,
                  "target": "https://github.com/ant-nik/neural_network_course/raw/main/practice_2_data/video_2/image_008.jpg",
                  "labeled": "No",
                  "ignored": "No",
                  "labels": ""
                }
              ],
              "columns": [
                {
                  "field": "target",
                  "type": "string",
                  "flex": 1,
                  "headerName": "Target"
                },
                {
                  "field": "labeled",
                  "type": "string",
                  "headerName": "Labeled"
                },
                {
                  "field": "ignored",
                  "type": "string",
                  "headerName": "Ignored"
                },
                {
                  "field": "labels",
                  "type": "string",
                  "headerName": "Labels"
                }
              ],
              "rowCount": 10,
              "page": 0,
              "rowsPerPage": 7,
              "sortModel": [],
              "filterModel": []
            },
            "labels": {},
            "layout": "IPY_MODEL_cedc6ffa72604bf0addcc671256fcc3f",
            "maxCanvasSize": 512,
            "maxViewHeight": 512,
            "message": "",
            "mode": "dark",
            "preload": [
              "https://github.com/ant-nik/neural_network_course/raw/main/practice_2_data/video_2/image_010.jpg",
              "https://github.com/ant-nik/neural_network_course/raw/main/practice_2_data/video_3/image_011.jpg"
            ],
            "progress": 0,
            "states": [
              {
                "idx": 7,
                "target": null,
                "type": "image",
                "metadata": {},
                "selected": true,
                "ignored": false,
                "labeled": false,
                "labels": {},
                "visible": true
              }
            ],
            "type": "image",
            "urls": [
              "https://github.com/ant-nik/neural_network_course/raw/main/practice_2_data/video_2/image_009.jpg"
            ],
            "viewState": "labeling"
          }
        },
        "cedc6ffa72604bf0addcc671256fcc3f": {
          "model_module": "@jupyter-widgets/base",
          "model_name": "LayoutModel",
          "model_module_version": "1.2.0",
          "state": {
            "_model_module": "@jupyter-widgets/base",
            "_model_module_version": "1.2.0",
            "_model_name": "LayoutModel",
            "_view_count": null,
            "_view_module": "@jupyter-widgets/base",
            "_view_module_version": "1.2.0",
            "_view_name": "LayoutView",
            "align_content": null,
            "align_items": null,
            "align_self": null,
            "border": null,
            "bottom": null,
            "display": null,
            "flex": null,
            "flex_flow": null,
            "grid_area": null,
            "grid_auto_columns": null,
            "grid_auto_flow": null,
            "grid_auto_rows": null,
            "grid_column": null,
            "grid_gap": null,
            "grid_row": null,
            "grid_template_areas": null,
            "grid_template_columns": null,
            "grid_template_rows": null,
            "height": null,
            "justify_content": null,
            "justify_items": null,
            "left": null,
            "margin": null,
            "max_height": null,
            "max_width": null,
            "min_height": null,
            "min_width": null,
            "object_fit": null,
            "object_position": null,
            "order": null,
            "overflow": null,
            "overflow_x": null,
            "overflow_y": null,
            "padding": null,
            "right": null,
            "top": null,
            "visibility": null,
            "width": null
          }
        },
        "8f91d33356da474b8812c724f2bcaeb0": {
          "model_module": "qslwidgets",
          "model_name": "MediaLabelerModel",
          "model_module_version": "0.2.26",
          "state": {
            "_dom_classes": [],
            "_model_module": "qslwidgets",
            "_model_module_version": "0.2.26",
            "_model_name": "MediaLabelerModel",
            "_view_count": null,
            "_view_module": "qslwidgets",
            "_view_module_version": "0.2.26",
            "_view_name": "MediaLabelerView",
            "action": "",
            "base": {
              "serverRoot": "",
              "url": "https://localhost:8080/"
            },
            "buttons": {
              "prev": false,
              "next": true,
              "save": true,
              "config": true,
              "delete": true,
              "ignore": false,
              "unignore": false
            },
            "config": {
              "regions": [
                {
                  "name": "Type",
                  "multiple": true,
                  "options": [
                    {
                      "name": "bottle"
                    },
                    {
                      "name": "bag"
                    }
                  ]
                }
              ]
            },
            "idx": 0,
            "indexState": {
              "rows": [
                {
                  "qslId": 0,
                  "target": "https://github.com/ant-nik/neural_network_course/raw/main/practice_2_data/video_1/image_001.jpg",
                  "labeled": "Yes",
                  "ignored": "No",
                  "labels": ""
                },
                {
                  "qslId": 1,
                  "target": "https://github.com/ant-nik/neural_network_course/raw/main/practice_2_data/video_1/image_002.jpg",
                  "labeled": "Yes",
                  "ignored": "No",
                  "labels": ""
                },
                {
                  "qslId": 2,
                  "target": "https://github.com/ant-nik/neural_network_course/raw/main/practice_2_data/video_1/image_003.jpg",
                  "labeled": "Yes",
                  "ignored": "No",
                  "labels": ""
                },
                {
                  "qslId": 3,
                  "target": "https://github.com/ant-nik/neural_network_course/raw/main/practice_2_data/video_2/image_005.jpg",
                  "labeled": "Yes",
                  "ignored": "No",
                  "labels": ""
                },
                {
                  "qslId": 4,
                  "target": "https://github.com/ant-nik/neural_network_course/raw/main/practice_2_data/video_2/image_006.jpg",
                  "labeled": "Yes",
                  "ignored": "No",
                  "labels": ""
                },
                {
                  "qslId": 5,
                  "target": "https://github.com/ant-nik/neural_network_course/raw/main/practice_2_data/video_2/image_007.jpg",
                  "labeled": "Yes",
                  "ignored": "No",
                  "labels": ""
                },
                {
                  "qslId": 6,
                  "target": "https://github.com/ant-nik/neural_network_course/raw/main/practice_2_data/video_2/image_008.jpg",
                  "labeled": "Yes",
                  "ignored": "No",
                  "labels": ""
                }
              ],
              "columns": [
                {
                  "field": "target",
                  "type": "string",
                  "flex": 1,
                  "headerName": "Target"
                },
                {
                  "field": "labeled",
                  "type": "string",
                  "headerName": "Labeled"
                },
                {
                  "field": "ignored",
                  "type": "string",
                  "headerName": "Ignored"
                },
                {
                  "field": "labels",
                  "type": "string",
                  "headerName": "Labels"
                }
              ],
              "rowCount": 10,
              "page": 0,
              "rowsPerPage": 7,
              "sortModel": [],
              "filterModel": []
            },
            "labels": {
              "boxes": [],
              "dimensions": {
                "height": 914,
                "width": 1628
              },
              "image": {},
              "masks": [],
              "polygons": [
                {
                  "labels": {
                    "Object": [
                      "bug"
                    ]
                  },
                  "points": [
                    {
                      "x": 0.642587170887295,
                      "y": 0.3516193884040677
                    },
                    {
                      "x": 0.6700005413571787,
                      "y": 0.3926353214413227
                    },
                    {
                      "x": 0.7643025357735784,
                      "y": 0.45122951149454404
                    },
                    {
                      "x": 0.8235154159885271,
                      "y": 0.5117768412162061
                    },
                    {
                      "x": 0.8728594828343176,
                      "y": 0.5723241709378682
                    },
                    {
                      "x": 0.9046589925793826,
                      "y": 0.5977149866275975
                    },
                    {
                      "x": 0.909045131854564,
                      "y": 0.6191995229804453
                    },
                    {
                      "x": 0.934265432686857,
                      "y": 0.6133401039751232
                    },
                    {
                      "x": 0.9638718727943313,
                      "y": 0.6367777799964117
                    },
                    {
                      "x": 0.9265896889552896,
                      "y": 0.7012313890549553
                    },
                    {
                      "x": 0.8893075051162478,
                      "y": 0.7656849981134988
                    },
                    {
                      "x": 0.8706664131967269,
                      "y": 0.8008415121454316
                    },
                    {
                      "x": 0.8114535329817782,
                      "y": 0.8027946518138723
                    },
                    {
                      "x": 0.7686886750487598,
                      "y": 0.785216394797906
                    },
                    {
                      "x": 0.7423718393976715,
                      "y": 0.7754506964557024
                    },
                    {
                      "x": 0.7335995608473087,
                      "y": 0.7344347634184474
                    },
                    {
                      "x": 0.7259238171157413,
                      "y": 0.7246690650762438
                    },
                    {
                      "x": 0.7204411430217645,
                      "y": 0.6973251097180738
                    },
                    {
                      "x": 0.671097076175974,
                      "y": 0.6816999923705481
                    },
                    {
                      "x": 0.6447802405248857,
                      "y": 0.6992782493865146
                    },
                    {
                      "x": 0.607498056685844,
                      "y": 0.730528484081566
                    },
                    {
                      "x": 0.5888569647663231,
                      "y": 0.7539661601028546
                    },
                    {
                      "x": 0.5735054773031882,
                      "y": 0.7539661601028546
                    },
                    {
                      "x": 0.5581539898400534,
                      "y": 0.6973251097180738
                    },
                    {
                      "x": 0.5844708254911417,
                      "y": 0.6367777799964117
                    },
                    {
                      "x": 0.6020153825918673,
                      "y": 0.6133401039751232
                    },
                    {
                      "x": 0.604208452229458,
                      "y": 0.5078705618793247
                    },
                    {
                      "x": 0.6228495441489789,
                      "y": 0.42583869580481476
                    },
                    {
                      "x": 0.642587170887295,
                      "y": 0.3516193884040677
                    }
                  ]
                },
                {
                  "labels": {
                    "Object": [
                      "bottle"
                    ]
                  },
                  "points": [
                    {
                      "x": 0.607498056685844,
                      "y": 0.7422473220922102
                    },
                    {
                      "x": 0.6667109369007926,
                      "y": 0.6914656907127518
                    },
                    {
                      "x": 0.6919312377330856,
                      "y": 0.6953719700496331
                    },
                    {
                      "x": 0.6985104466458577,
                      "y": 0.703184528723396
                    },
                    {
                      "x": 0.7050896555586298,
                      "y": 0.703184528723396
                    },
                    {
                      "x": 0.7149584689277878,
                      "y": 0.7227159254078032
                    },
                    {
                      "x": 0.7160550037465832,
                      "y": 0.7383410427553289
                    },
                    {
                      "x": 0.7270203519345366,
                      "y": 0.7481067410975324
                    },
                    {
                      "x": 0.7335995608473087,
                      "y": 0.7715444171188209
                    },
                    {
                      "x": 0.7335995608473087,
                      "y": 0.7813101154610246
                    },
                    {
                      "x": 0.7379857001224901,
                      "y": 0.8086540708191945
                    },
                    {
                      "x": 0.731406491209718,
                      "y": 0.8359980261773645
                    },
                    {
                      "x": 0.7292134215721273,
                      "y": 0.8535762831933309
                    },
                    {
                      "x": 0.6919312377330856,
                      "y": 0.9219361715887558
                    },
                    {
                      "x": 0.642587170887295,
                      "y": 0.9473269872784851
                    },
                    {
                      "x": 0.6261391486053649,
                      "y": 0.9356081492678409
                    },
                    {
                      "x": 0.6283322182429556,
                      "y": 0.9512332666153666
                    },
                    {
                      "x": 0.6151738004174114,
                      "y": 0.9649052442944516
                    },
                    {
                      "x": 0.5998223129542766,
                      "y": 0.9707646632997737
                    },
                    {
                      "x": 0.5954361736790952,
                      "y": 0.9863897806472994
                    },
                    {
                      "x": 0.5362232934641465,
                      "y": 0.9902960599841808
                    },
                    {
                      "x": 0.518678736363421,
                      "y": 0.9649052442944516
                    },
                    {
                      "x": 0.5044237837190815,
                      "y": 0.9590458252891294
                    },
                    {
                      "x": 0.49894110962510474,
                      "y": 0.9238893112571965
                    },
                    {
                      "x": 0.5066168533566722,
                      "y": 0.9121704732465523
                    },
                    {
                      "x": 0.5077133881754675,
                      "y": 0.8770139592146194
                    },
                    {
                      "x": 0.5230648756386024,
                      "y": 0.8164666294929573
                    },
                    {
                      "x": 0.578988151397165,
                      "y": 0.7695912774503803
                    },
                    {
                      "x": 0.5943396388602998,
                      "y": 0.7734975567872617
                    },
                    {
                      "x": 0.607498056685844,
                      "y": 0.7422473220922102
                    }
                  ]
                }
              ]
            },
            "layout": "IPY_MODEL_8d018c6601994720b0d7af41cfe40bf0",
            "maxCanvasSize": 512,
            "maxViewHeight": 512,
            "message": "",
            "mode": "dark",
            "preload": [],
            "progress": 100,
            "states": [
              {
                "idx": 0,
                "target": null,
                "type": "image",
                "metadata": {},
                "selected": true,
                "ignored": false,
                "labeled": true,
                "labels": {
                  "boxes": [],
                  "dimensions": {
                    "height": 914,
                    "width": 1628
                  },
                  "image": {},
                  "masks": [],
                  "polygons": [
                    {
                      "labels": {
                        "Object": [
                          "bug"
                        ]
                      },
                      "points": [
                        {
                          "x": 0.642587170887295,
                          "y": 0.3516193884040677
                        },
                        {
                          "x": 0.6700005413571787,
                          "y": 0.3926353214413227
                        },
                        {
                          "x": 0.7643025357735784,
                          "y": 0.45122951149454404
                        },
                        {
                          "x": 0.8235154159885271,
                          "y": 0.5117768412162061
                        },
                        {
                          "x": 0.8728594828343176,
                          "y": 0.5723241709378682
                        },
                        {
                          "x": 0.9046589925793826,
                          "y": 0.5977149866275975
                        },
                        {
                          "x": 0.909045131854564,
                          "y": 0.6191995229804453
                        },
                        {
                          "x": 0.934265432686857,
                          "y": 0.6133401039751232
                        },
                        {
                          "x": 0.9638718727943313,
                          "y": 0.6367777799964117
                        },
                        {
                          "x": 0.9265896889552896,
                          "y": 0.7012313890549553
                        },
                        {
                          "x": 0.8893075051162478,
                          "y": 0.7656849981134988
                        },
                        {
                          "x": 0.8706664131967269,
                          "y": 0.8008415121454316
                        },
                        {
                          "x": 0.8114535329817782,
                          "y": 0.8027946518138723
                        },
                        {
                          "x": 0.7686886750487598,
                          "y": 0.785216394797906
                        },
                        {
                          "x": 0.7423718393976715,
                          "y": 0.7754506964557024
                        },
                        {
                          "x": 0.7335995608473087,
                          "y": 0.7344347634184474
                        },
                        {
                          "x": 0.7259238171157413,
                          "y": 0.7246690650762438
                        },
                        {
                          "x": 0.7204411430217645,
                          "y": 0.6973251097180738
                        },
                        {
                          "x": 0.671097076175974,
                          "y": 0.6816999923705481
                        },
                        {
                          "x": 0.6447802405248857,
                          "y": 0.6992782493865146
                        },
                        {
                          "x": 0.607498056685844,
                          "y": 0.730528484081566
                        },
                        {
                          "x": 0.5888569647663231,
                          "y": 0.7539661601028546
                        },
                        {
                          "x": 0.5735054773031882,
                          "y": 0.7539661601028546
                        },
                        {
                          "x": 0.5581539898400534,
                          "y": 0.6973251097180738
                        },
                        {
                          "x": 0.5844708254911417,
                          "y": 0.6367777799964117
                        },
                        {
                          "x": 0.6020153825918673,
                          "y": 0.6133401039751232
                        },
                        {
                          "x": 0.604208452229458,
                          "y": 0.5078705618793247
                        },
                        {
                          "x": 0.6228495441489789,
                          "y": 0.42583869580481476
                        },
                        {
                          "x": 0.642587170887295,
                          "y": 0.3516193884040677
                        }
                      ]
                    },
                    {
                      "labels": {
                        "Object": [
                          "bottle"
                        ]
                      },
                      "points": [
                        {
                          "x": 0.607498056685844,
                          "y": 0.7422473220922102
                        },
                        {
                          "x": 0.6667109369007926,
                          "y": 0.6914656907127518
                        },
                        {
                          "x": 0.6919312377330856,
                          "y": 0.6953719700496331
                        },
                        {
                          "x": 0.6985104466458577,
                          "y": 0.703184528723396
                        },
                        {
                          "x": 0.7050896555586298,
                          "y": 0.703184528723396
                        },
                        {
                          "x": 0.7149584689277878,
                          "y": 0.7227159254078032
                        },
                        {
                          "x": 0.7160550037465832,
                          "y": 0.7383410427553289
                        },
                        {
                          "x": 0.7270203519345366,
                          "y": 0.7481067410975324
                        },
                        {
                          "x": 0.7335995608473087,
                          "y": 0.7715444171188209
                        },
                        {
                          "x": 0.7335995608473087,
                          "y": 0.7813101154610246
                        },
                        {
                          "x": 0.7379857001224901,
                          "y": 0.8086540708191945
                        },
                        {
                          "x": 0.731406491209718,
                          "y": 0.8359980261773645
                        },
                        {
                          "x": 0.7292134215721273,
                          "y": 0.8535762831933309
                        },
                        {
                          "x": 0.6919312377330856,
                          "y": 0.9219361715887558
                        },
                        {
                          "x": 0.642587170887295,
                          "y": 0.9473269872784851
                        },
                        {
                          "x": 0.6261391486053649,
                          "y": 0.9356081492678409
                        },
                        {
                          "x": 0.6283322182429556,
                          "y": 0.9512332666153666
                        },
                        {
                          "x": 0.6151738004174114,
                          "y": 0.9649052442944516
                        },
                        {
                          "x": 0.5998223129542766,
                          "y": 0.9707646632997737
                        },
                        {
                          "x": 0.5954361736790952,
                          "y": 0.9863897806472994
                        },
                        {
                          "x": 0.5362232934641465,
                          "y": 0.9902960599841808
                        },
                        {
                          "x": 0.518678736363421,
                          "y": 0.9649052442944516
                        },
                        {
                          "x": 0.5044237837190815,
                          "y": 0.9590458252891294
                        },
                        {
                          "x": 0.49894110962510474,
                          "y": 0.9238893112571965
                        },
                        {
                          "x": 0.5066168533566722,
                          "y": 0.9121704732465523
                        },
                        {
                          "x": 0.5077133881754675,
                          "y": 0.8770139592146194
                        },
                        {
                          "x": 0.5230648756386024,
                          "y": 0.8164666294929573
                        },
                        {
                          "x": 0.578988151397165,
                          "y": 0.7695912774503803
                        },
                        {
                          "x": 0.5943396388602998,
                          "y": 0.7734975567872617
                        },
                        {
                          "x": 0.607498056685844,
                          "y": 0.7422473220922102
                        }
                      ]
                    }
                  ]
                },
                "visible": true
              }
            ],
            "type": "image",
            "urls": [
              "https://github.com/ant-nik/neural_network_course/raw/main/practice_2_data/video_1/image_001.jpg"
            ],
            "viewState": "labeling"
          }
        },
        "8d018c6601994720b0d7af41cfe40bf0": {
          "model_module": "@jupyter-widgets/base",
          "model_name": "LayoutModel",
          "model_module_version": "1.2.0",
          "state": {
            "_model_module": "@jupyter-widgets/base",
            "_model_module_version": "1.2.0",
            "_model_name": "LayoutModel",
            "_view_count": null,
            "_view_module": "@jupyter-widgets/base",
            "_view_module_version": "1.2.0",
            "_view_name": "LayoutView",
            "align_content": null,
            "align_items": null,
            "align_self": null,
            "border": null,
            "bottom": null,
            "display": null,
            "flex": null,
            "flex_flow": null,
            "grid_area": null,
            "grid_auto_columns": null,
            "grid_auto_flow": null,
            "grid_auto_rows": null,
            "grid_column": null,
            "grid_gap": null,
            "grid_row": null,
            "grid_template_areas": null,
            "grid_template_columns": null,
            "grid_template_rows": null,
            "height": null,
            "justify_content": null,
            "justify_items": null,
            "left": null,
            "margin": null,
            "max_height": null,
            "max_width": null,
            "min_height": null,
            "min_width": null,
            "object_fit": null,
            "object_position": null,
            "order": null,
            "overflow": null,
            "overflow_x": null,
            "overflow_y": null,
            "padding": null,
            "right": null,
            "top": null,
            "visibility": null,
            "width": null
          }
        }
      }
    }
  },
  "cells": [
    {
      "cell_type": "markdown",
      "source": [
        "# Практическое занятие №2 - локализация объектов на изображениях\n",
        "\n",
        "1. Разметка данных с помощью виджета QSL для Jupyter (https://github.com/faustomorales/qsl)\n",
        "2. Расширение выборки за счет модификации размеченных данных (процедура аугоментация).\n",
        "3. Знакомство с архитектурой нейронных сетей для локализации объектов на изображении.\n",
        "4. Обучение нейронных сетей для детекции объектов.\n",
        "5. Проверка обученной модели для обработки видео потока.\n",
        "6. Трекинг объектов.\n",
        "7. Распознавание сцен с помощью простого классификатора.\n",
        "9. Разработка простой системы управления по данным с видео-камеры."
      ],
      "metadata": {
        "id": "nb3krk0emfCY"
      }
    },
    {
      "cell_type": "code",
      "source": [
        "!pip install -U -q qsl"
      ],
      "metadata": {
        "id": "Isp1jEaFwF18",
        "colab": {
          "base_uri": "https://localhost:8080/"
        },
        "outputId": "ad529818-688c-4cd2-e6ea-5a7000790de2"
      },
      "execution_count": 1,
      "outputs": [
        {
          "output_type": "stream",
          "name": "stdout",
          "text": [
            "\u001b[2K     \u001b[90m━━━━━━━━━━━━━━━━━━━━━━━━━━━━━━━━━━━━━━━━\u001b[0m \u001b[32m1.8/1.8 MB\u001b[0m \u001b[31m15.8 MB/s\u001b[0m eta \u001b[36m0:00:00\u001b[0m\n",
            "\u001b[2K     \u001b[90m━━━━━━━━━━━━━━━━━━━━━━━━━━━━━━━━━━━━━━━━\u001b[0m \u001b[32m1.6/1.6 MB\u001b[0m \u001b[31m35.8 MB/s\u001b[0m eta \u001b[36m0:00:00\u001b[0m\n",
            "\u001b[?25h"
          ]
        }
      ]
    },
    {
      "cell_type": "code",
      "source": [
        "# Активация расширенных виджетов в Colab (можно закомментировать при запуске в Jupyter)\n",
        "import google.colab\n",
        "google.colab.output.enable_custom_widget_manager()"
      ],
      "metadata": {
        "id": "fC89lkkqhY_N"
      },
      "execution_count": 2,
      "outputs": []
    },
    {
      "cell_type": "code",
      "source": [
        "import qsl"
      ],
      "metadata": {
        "id": "XonId0u4hWC5"
      },
      "execution_count": 4,
      "outputs": []
    },
    {
      "cell_type": "code",
      "source": [
        "%%writefile images.csv\n",
        "target\n",
        "https://github.com/ant-nik/neural_network_course/raw/main/practice_2_data/video_1/image_001.jpg\n",
        "https://github.com/ant-nik/neural_network_course/raw/main/practice_2_data/video_1/image_002.jpg\n",
        "https://github.com/ant-nik/neural_network_course/raw/main/practice_2_data/video_1/image_003.jpg\n",
        "https://github.com/ant-nik/neural_network_course/raw/main/practice_2_data/video_2/image_005.jpg\n",
        "https://github.com/ant-nik/neural_network_course/raw/main/practice_2_data/video_2/image_006.jpg\n",
        "https://github.com/ant-nik/neural_network_course/raw/main/practice_2_data/video_2/image_007.jpg\n",
        "https://github.com/ant-nik/neural_network_course/raw/main/practice_2_data/video_2/image_008.jpg\n",
        "https://github.com/ant-nik/neural_network_course/raw/main/practice_2_data/video_2/image_009.jpg\n",
        "https://github.com/ant-nik/neural_network_course/raw/main/practice_2_data/video_2/image_010.jpg\n",
        "https://github.com/ant-nik/neural_network_course/raw/main/practice_2_data/video_3/image_011.jpg"
      ],
      "metadata": {
        "id": "PF5QcZa25CqX",
        "outputId": "7175cedc-084e-4f90-abf9-bc6b08070538",
        "colab": {
          "base_uri": "https://localhost:8080/"
        }
      },
      "execution_count": 5,
      "outputs": [
        {
          "output_type": "stream",
          "name": "stdout",
          "text": [
            "Writing images.csv\n"
          ]
        }
      ]
    },
    {
      "cell_type": "code",
      "source": [
        "import pandas\n",
        "\n",
        "image_file = pandas.read_csv('images.csv')"
      ],
      "metadata": {
        "id": "oa6Stj2FAhcZ"
      },
      "execution_count": 6,
      "outputs": []
    },
    {
      "cell_type": "code",
      "source": [
        "labeler = qsl.MediaLabeler(\n",
        "    items=image_file.to_dict(orient='records'),\n",
        "    config={\n",
        "        \"regions\": [\n",
        "            {\"name\": \"Object\", \"multiple\": True, \"options\": [{\"name\": \"bottle\"}, {\"name\": \"bug\"}]}\n",
        "        ]\n",
        "    })\n",
        "labeler.mode = \"dark\"\n",
        "labeler"
      ],
      "metadata": {
        "id": "GBJDJcy6hN4r",
        "colab": {
          "base_uri": "https://localhost:8080/",
          "height": 834,
          "referenced_widgets": [
            "b6697d69f594434886d990ff162c8da3",
            "cedc6ffa72604bf0addcc671256fcc3f"
          ]
        },
        "outputId": "6220eb60-6e6a-4a8c-fdaf-739d34567061"
      },
      "execution_count": 7,
      "outputs": [
        {
          "output_type": "display_data",
          "data": {
            "text/plain": [
              "MediaLabeler(buttons={'prev': False, 'next': True, 'save': True, 'config': True, 'delete': False, 'ignore': Tr…"
            ],
            "application/vnd.jupyter.widget-view+json": {
              "version_major": 2,
              "version_minor": 0,
              "model_id": "b6697d69f594434886d990ff162c8da3"
            }
          },
          "metadata": {
            "application/vnd.jupyter.widget-view+json": {
              "colab": {
                "custom_widget_manager": {
                  "url": "https://ssl.gstatic.com/colaboratory-static/widgets/colab-cdn-widget-manager/b3e629b1971e1542/manager.min.js"
                }
              }
            }
          }
        }
      ]
    },
    {
      "cell_type": "code",
      "source": [
        "with open('result.json', 'w') as file:\n",
        "    file.write(json.dumps(labeler.items, sort_keys=True, indent=4))"
      ],
      "metadata": {
        "id": "pCInWsS8kEUP"
      },
      "execution_count": 27,
      "outputs": []
    },
    {
      "cell_type": "code",
      "source": [
        "labels = None\n",
        "with open('result.json', 'r') as file:\n",
        "    labels = file.read()\n",
        "    print(labels)"
      ],
      "metadata": {
        "id": "I-1SxmA2DyA9"
      },
      "execution_count": null,
      "outputs": []
    },
    {
      "cell_type": "code",
      "source": [
        "!wget 'https://github.com/ant-nik/neural_network_course/raw/main/practice_2_data/object_masks.json'"
      ],
      "metadata": {
        "id": "DPDvrPq-iRyv",
        "outputId": "851f1f77-9365-40db-c339-ded5332dd613",
        "colab": {
          "base_uri": "https://localhost:8080/"
        }
      },
      "execution_count": 33,
      "outputs": [
        {
          "output_type": "stream",
          "name": "stdout",
          "text": [
            "--2023-02-16 14:03:10--  https://github.com/ant-nik/neural_network_course/raw/main/practice_2_data/object_masks.json\n",
            "Resolving github.com (github.com)... 20.27.177.113\n",
            "Connecting to github.com (github.com)|20.27.177.113|:443... connected.\n",
            "HTTP request sent, awaiting response... 302 Found\n",
            "Location: https://raw.githubusercontent.com/ant-nik/neural_network_course/main/practice_2_data/object_masks.json [following]\n",
            "--2023-02-16 14:03:10--  https://raw.githubusercontent.com/ant-nik/neural_network_course/main/practice_2_data/object_masks.json\n",
            "Resolving raw.githubusercontent.com (raw.githubusercontent.com)... 185.199.109.133, 185.199.111.133, 185.199.110.133, ...\n",
            "Connecting to raw.githubusercontent.com (raw.githubusercontent.com)|185.199.109.133|:443... connected.\n",
            "HTTP request sent, awaiting response... 200 OK\n",
            "Length: 119085 (116K) [text/plain]\n",
            "Saving to: ‘object_masks.json’\n",
            "\n",
            "object_masks.json   100%[===================>] 116.29K  --.-KB/s    in 0.03s   \n",
            "\n",
            "2023-02-16 14:03:10 (4.34 MB/s) - ‘object_masks.json’ saved [119085/119085]\n",
            "\n"
          ]
        }
      ]
    },
    {
      "cell_type": "code",
      "source": [
        "import json\n",
        "\n",
        "labels = None\n",
        "with open('object_masks.json', 'r') as file:\n",
        "    labels = file.read()\n",
        "label_data = json.loads(labels) #.replace('True', 'true').replace('False', 'false'))"
      ],
      "metadata": {
        "id": "BTShllOuEFto"
      },
      "execution_count": 47,
      "outputs": []
    },
    {
      "cell_type": "code",
      "source": [
        "labeler = qsl.MediaLabeler(\n",
        "    items=label_data,\n",
        "    \n",
        "    #image_file.to_dict(orient='records'),\n",
        "    config={\n",
        "        \"regions\": [\n",
        "            {\"name\": \"Type\", \"multiple\": True, \"options\": [{\"name\": \"bottle\"}, {\"name\": \"bag\"}]}\n",
        "        ]\n",
        "    })\n",
        "labeler.labels#  = labels\n",
        "labeler.mode = \"dark\"\n",
        "labeler"
      ],
      "metadata": {
        "id": "vK_6h2AX2ySU",
        "outputId": "7a273245-1be5-44ba-e2dc-eeacae4fe43c",
        "colab": {
          "base_uri": "https://localhost:8080/",
          "height": 851,
          "referenced_widgets": [
            "8f91d33356da474b8812c724f2bcaeb0",
            "8d018c6601994720b0d7af41cfe40bf0"
          ]
        }
      },
      "execution_count": 48,
      "outputs": [
        {
          "output_type": "stream",
          "name": "stderr",
          "text": [
            "WARNING:qsl.common:All items have already been labeled. Starting from beginning.\n"
          ]
        },
        {
          "output_type": "display_data",
          "data": {
            "text/plain": [
              "MediaLabeler(buttons={'prev': False, 'next': True, 'save': True, 'config': True, 'delete': True, 'ignore': Fal…"
            ],
            "application/vnd.jupyter.widget-view+json": {
              "version_major": 2,
              "version_minor": 0,
              "model_id": "8f91d33356da474b8812c724f2bcaeb0"
            }
          },
          "metadata": {
            "application/vnd.jupyter.widget-view+json": {
              "colab": {
                "custom_widget_manager": {
                  "url": "https://ssl.gstatic.com/colaboratory-static/widgets/colab-cdn-widget-manager/b3e629b1971e1542/manager.min.js"
                }
              }
            }
          }
        }
      ]
    },
    {
      "cell_type": "code",
      "source": [
        "class Struct(object):\n",
        "\n",
        "    def __init__(self, data):\n",
        "        for name, value in data.items():\n",
        "            setattr(self, name, self._wrap(value))\n",
        "\n",
        "    def _wrap(self, value):\n",
        "        if isinstance(value, (tuple, list, set, frozenset)): \n",
        "            return type(value)([self._wrap(v) for v in value])\n",
        "        else:\n",
        "            return Struct(value) if isinstance(value, dict) else value\n",
        "\n",
        "    def __str__(self):\n",
        "        result = '{'\n",
        "        first = True\n",
        "        for field in self.__dict__.keys():\n",
        "            if not first:\n",
        "                result += ', '\n",
        "            else:\n",
        "                first = False\n",
        "            result += f'{field}: {str(self.__dict__[field])}'\n",
        "        return result + '}'\n",
        "\n",
        "    def __repr__(self):\n",
        "        return str(self)"
      ],
      "metadata": {
        "id": "_Wv-oeUGdVio"
      },
      "execution_count": 55,
      "outputs": []
    },
    {
      "cell_type": "code",
      "source": [
        "labels = [Struct(label) for label in label_data] # [0]['labels']['polygons'])\n",
        "labels[0]"
      ],
      "metadata": {
        "id": "KA4YgYr4ivpT",
        "outputId": "cd764d6d-96b4-41ff-9ef1-42b265932ffd",
        "colab": {
          "base_uri": "https://localhost:8080/"
        }
      },
      "execution_count": 56,
      "outputs": [
        {
          "output_type": "execute_result",
          "data": {
            "text/plain": [
              "{ignore: False, labels: {boxes: [], dimensions: {height: 914, width: 1628}, image: {}, masks: [], polygons: [{labels: {Object: ['bug']}, points: [{x: 0.642587170887295, y: 0.3516193884040677}, {x: 0.6700005413571787, y: 0.3926353214413227}, {x: 0.7643025357735784, y: 0.45122951149454404}, {x: 0.8235154159885271, y: 0.5117768412162061}, {x: 0.8728594828343176, y: 0.5723241709378682}, {x: 0.9046589925793826, y: 0.5977149866275975}, {x: 0.909045131854564, y: 0.6191995229804453}, {x: 0.934265432686857, y: 0.6133401039751232}, {x: 0.9638718727943313, y: 0.6367777799964117}, {x: 0.9265896889552896, y: 0.7012313890549553}, {x: 0.8893075051162478, y: 0.7656849981134988}, {x: 0.8706664131967269, y: 0.8008415121454316}, {x: 0.8114535329817782, y: 0.8027946518138723}, {x: 0.7686886750487598, y: 0.785216394797906}, {x: 0.7423718393976715, y: 0.7754506964557024}, {x: 0.7335995608473087, y: 0.7344347634184474}, {x: 0.7259238171157413, y: 0.7246690650762438}, {x: 0.7204411430217645, y: 0.6973251097180738}, {x: 0.671097076175974, y: 0.6816999923705481}, {x: 0.6447802405248857, y: 0.6992782493865146}, {x: 0.607498056685844, y: 0.730528484081566}, {x: 0.5888569647663231, y: 0.7539661601028546}, {x: 0.5735054773031882, y: 0.7539661601028546}, {x: 0.5581539898400534, y: 0.6973251097180738}, {x: 0.5844708254911417, y: 0.6367777799964117}, {x: 0.6020153825918673, y: 0.6133401039751232}, {x: 0.604208452229458, y: 0.5078705618793247}, {x: 0.6228495441489789, y: 0.42583869580481476}, {x: 0.642587170887295, y: 0.3516193884040677}]}, {labels: {Object: ['bottle']}, points: [{x: 0.607498056685844, y: 0.7422473220922102}, {x: 0.6667109369007926, y: 0.6914656907127518}, {x: 0.6919312377330856, y: 0.6953719700496331}, {x: 0.6985104466458577, y: 0.703184528723396}, {x: 0.7050896555586298, y: 0.703184528723396}, {x: 0.7149584689277878, y: 0.7227159254078032}, {x: 0.7160550037465832, y: 0.7383410427553289}, {x: 0.7270203519345366, y: 0.7481067410975324}, {x: 0.7335995608473087, y: 0.7715444171188209}, {x: 0.7335995608473087, y: 0.7813101154610246}, {x: 0.7379857001224901, y: 0.8086540708191945}, {x: 0.731406491209718, y: 0.8359980261773645}, {x: 0.7292134215721273, y: 0.8535762831933309}, {x: 0.6919312377330856, y: 0.9219361715887558}, {x: 0.642587170887295, y: 0.9473269872784851}, {x: 0.6261391486053649, y: 0.9356081492678409}, {x: 0.6283322182429556, y: 0.9512332666153666}, {x: 0.6151738004174114, y: 0.9649052442944516}, {x: 0.5998223129542766, y: 0.9707646632997737}, {x: 0.5954361736790952, y: 0.9863897806472994}, {x: 0.5362232934641465, y: 0.9902960599841808}, {x: 0.518678736363421, y: 0.9649052442944516}, {x: 0.5044237837190815, y: 0.9590458252891294}, {x: 0.49894110962510474, y: 0.9238893112571965}, {x: 0.5066168533566722, y: 0.9121704732465523}, {x: 0.5077133881754675, y: 0.8770139592146194}, {x: 0.5230648756386024, y: 0.8164666294929573}, {x: 0.578988151397165, y: 0.7695912774503803}, {x: 0.5943396388602998, y: 0.7734975567872617}, {x: 0.607498056685844, y: 0.7422473220922102}]}]}, target: https://github.com/ant-nik/neural_network_course/raw/main/practice_2_data/video_1/image_001.jpg}"
            ]
          },
          "metadata": {},
          "execution_count": 56
        }
      ]
    },
    {
      "cell_type": "markdown",
      "source": [
        "# Аугоментация данны\n",
        "\n",
        "Подробный обзор стратегий см. в статье\n",
        "https://arxiv.org/pdf/2205.01491.pdf"
      ],
      "metadata": {
        "id": "h2oYEOOTtSGK"
      }
    },
    {
      "cell_type": "code",
      "source": [],
      "metadata": {
        "id": "FII2bMegtRt3"
      },
      "execution_count": null,
      "outputs": []
    }
  ]
}