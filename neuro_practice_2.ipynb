{
  "nbformat": 4,
  "nbformat_minor": 0,
  "metadata": {
    "colab": {
      "provenance": [],
      "collapsed_sections": []
    },
    "kernelspec": {
      "name": "python3",
      "display_name": "Python 3"
    },
    "language_info": {
      "name": "python"
    },
    "widgets": {
      "application/vnd.jupyter.widget-state+json": {
        "0017ff4f36a540f7919c73c2a3dc1f7e": {
          "model_module": "qslwidgets",
          "model_name": "MediaLabelerModel",
          "model_module_version": "0.2.18",
          "state": {
            "_dom_classes": [],
            "_model_module": "qslwidgets",
            "_model_module_version": "0.2.18",
            "_model_name": "MediaLabelerModel",
            "_view_count": null,
            "_view_module": "qslwidgets",
            "_view_module_version": "0.2.18",
            "_view_name": "MediaLabelerView",
            "action": "",
            "base": {
              "serverRoot": "",
              "url": "https://localhost:8080/"
            },
            "buttons": {
              "prev": true,
              "next": true,
              "save": true,
              "config": true,
              "delete": true,
              "ignore": false,
              "unignore": false
            },
            "config": {
              "image": [
                {
                  "name": "Type",
                  "displayName": "",
                  "multiple": false,
                  "freeform": true,
                  "required": false,
                  "options": [
                    {
                      "name": "Cat",
                      "shortcut": "c"
                    }
                  ]
                },
                {
                  "name": "Tags",
                  "options": [],
                  "freeform": true,
                  "multiple": true
                },
                {
                  "name": "Comment",
                  "freeform": true
                }
              ],
              "regions": [
                {
                  "name": "Part",
                  "options": [
                    {
                      "name": "Nose",
                      "shortcut": "n"
                    },
                    {
                      "name": "Eye",
                      "shortcut": "e"
                    }
                  ]
                }
              ]
            },
            "idx": 2,
            "indexState": {
              "rows": [
                {
                  "source": null,
                  "qslId": 0,
                  "target": "/usr/local/lib/python3.7/dist-packages/qsl/testing/data/image1.jpg",
                  "labeled": "No",
                  "ignored": "No"
                },
                {
                  "source": null,
                  "qslId": 1,
                  "target": "https://picsum.photos/id/237/200/300",
                  "labeled": "No",
                  "ignored": "No"
                },
                {
                  "source": null,
                  "qslId": 2,
                  "target": "https://test-videos.co.uk/vids/bigbuckbunny/mp4/h264/360/Big_Buck_Bunny_360_10s_2MB.mp4",
                  "labeled": "No",
                  "ignored": "No"
                },
                {
                  "source": null,
                  "qslId": 3,
                  "target": "https://picsum.photos/id/1025/500/500",
                  "labeled": "No",
                  "ignored": "No"
                },
                {
                  "source": "picsum",
                  "qslId": 4,
                  "target": "https://picsum.photos/id/1062/500/500",
                  "labeled": "No",
                  "ignored": "No"
                },
                {
                  "source": null,
                  "qslId": 5,
                  "target": "https://picsum.photos/id/1074/500/500",
                  "labeled": "Yes",
                  "ignored": "No"
                },
                {
                  "source": null,
                  "qslId": 6,
                  "target": "https://picsum.photos/id/219/500/500",
                  "labeled": "No",
                  "ignored": "No"
                }
              ],
              "columns": [
                {
                  "field": "target",
                  "type": "string",
                  "flex": 1,
                  "headerName": "Target"
                },
                {
                  "field": "labeled",
                  "type": "string",
                  "headerName": "Labeled"
                },
                {
                  "field": "ignored",
                  "type": "string",
                  "headerName": "Ignored"
                },
                {
                  "field": "source",
                  "type": "string",
                  "flex": 1
                }
              ],
              "rowCount": 7,
              "page": 0,
              "rowsPerPage": 7,
              "sortModel": [],
              "filterModel": []
            },
            "labels": [
              {
                "labels": {
                  "image": {},
                  "polygons": [
                    {
                      "points": [
                        {
                          "x": 0.26371221428847796,
                          "y": 0.6212221662715348
                        },
                        {
                          "x": 0.2285553327531164,
                          "y": 0.7540389253462455
                        },
                        {
                          "x": 0.353801723222842,
                          "y": 0.8126345543497944
                        },
                        {
                          "x": 0.3779720792784031,
                          "y": 0.5430946609334697
                        },
                        {
                          "x": 0.26371221428847796,
                          "y": 0.6212221662715348
                        }
                      ],
                      "labels": {
                        "Part": [
                          "Eye"
                        ]
                      }
                    }
                  ],
                  "masks": [],
                  "dimensions": {
                    "width": 640,
                    "height": 360
                  },
                  "boxes": []
                },
                "timestamp": 2.87
              },
              {
                "labels": {
                  "image": {},
                  "polygons": [],
                  "masks": [],
                  "dimensions": {
                    "width": 640,
                    "height": 360
                  },
                  "boxes": [
                    {
                      "pt1": {
                        "x": 0.4175235710056848,
                        "y": 0.5352819103996631
                      },
                      "labels": {},
                      "pt2": {
                        "x": 0.6306621653138144,
                        "y": 0.8009154285490846
                      }
                    }
                  ]
                },
                "timestamp": 8.06
              },
              {
                "labels": {
                  "image": {
                    "Type": [
                      "Cat"
                    ]
                  },
                  "polygons": [
                    {
                      "points": [
                        {
                          "x": 0.8438007596219439,
                          "y": 0.7540389253462455
                        },
                        {
                          "x": 0.9185091328845872,
                          "y": 0.8907620596878595
                        },
                        {
                          "x": 0.9558633195159089,
                          "y": 0.7032560468765032
                        },
                        {
                          "x": 0.8767603360613454,
                          "y": 0.6641922942074706
                        },
                        {
                          "x": 0.8438007596219439,
                          "y": 0.7540389253462455
                        },
                        {
                          "x": 0.8438007596219439,
                          "y": 0.7540389253462455
                        },
                        {
                          "x": 0.8438007596219439,
                          "y": 0.7540389253462455
                        }
                      ],
                      "labels": {}
                    }
                  ],
                  "masks": [],
                  "dimensions": {
                    "width": 640,
                    "height": 360
                  },
                  "boxes": [
                    {
                      "pt1": {
                        "x": 0.4790481136925676,
                        "y": 0.07823600417198208
                      },
                      "labels": {
                        "Part": [
                          "Eye"
                        ]
                      },
                      "pt2": {
                        "x": 0.8833522513492257,
                        "y": 0.5001245329975338
                      }
                    },
                    {
                      "pt1": {
                        "x": 0.06375745055610903,
                        "y": 0.24621014064882213
                      },
                      "labels": {
                        "Part": [
                          "Nose"
                        ]
                      },
                      "pt2": {
                        "x": 0.7734869965512208,
                        "y": 0.9024811854885693
                      }
                    }
                  ]
                },
                "timestamp": 9.03
              }
            ],
            "layout": "IPY_MODEL_7958bbaf4ad34fb28a0045e3e8d91e17",
            "maxCanvasSize": 512,
            "maxViewHeight": 256,
            "message": "",
            "mode": "dark",
            "preload": [
              "https://picsum.photos/id/1025/500/500",
              "https://picsum.photos/id/1062/500/500",
              "https://picsum.photos/id/1074/500/500"
            ],
            "progress": 57.142857142857146,
            "states": [
              {
                "idx": 2,
                "target": null,
                "type": "video",
                "metadata": {},
                "selected": true,
                "ignored": false,
                "labeled": true,
                "labels": [
                  {
                    "labels": {
                      "image": {},
                      "polygons": [
                        {
                          "points": [
                            {
                              "x": 0.26371221428847796,
                              "y": 0.6212221662715348
                            },
                            {
                              "x": 0.2285553327531164,
                              "y": 0.7540389253462455
                            },
                            {
                              "x": 0.353801723222842,
                              "y": 0.8126345543497944
                            },
                            {
                              "x": 0.3779720792784031,
                              "y": 0.5430946609334697
                            },
                            {
                              "x": 0.26371221428847796,
                              "y": 0.6212221662715348
                            }
                          ],
                          "labels": {
                            "Part": [
                              "Eye"
                            ]
                          }
                        }
                      ],
                      "masks": [],
                      "dimensions": {
                        "width": 640,
                        "height": 360
                      },
                      "boxes": []
                    },
                    "timestamp": 2.87
                  },
                  {
                    "labels": {
                      "image": {},
                      "polygons": [],
                      "masks": [],
                      "dimensions": {
                        "width": 640,
                        "height": 360
                      },
                      "boxes": [
                        {
                          "pt1": {
                            "x": 0.4175235710056848,
                            "y": 0.5352819103996631
                          },
                          "labels": {},
                          "pt2": {
                            "x": 0.6306621653138144,
                            "y": 0.8009154285490846
                          }
                        }
                      ]
                    },
                    "timestamp": 8.06
                  },
                  {
                    "labels": {
                      "image": {
                        "Type": [
                          "Cat"
                        ]
                      },
                      "polygons": [
                        {
                          "points": [
                            {
                              "x": 0.8438007596219439,
                              "y": 0.7540389253462455
                            },
                            {
                              "x": 0.9185091328845872,
                              "y": 0.8907620596878595
                            },
                            {
                              "x": 0.9558633195159089,
                              "y": 0.7032560468765032
                            },
                            {
                              "x": 0.8767603360613454,
                              "y": 0.6641922942074706
                            },
                            {
                              "x": 0.8438007596219439,
                              "y": 0.7540389253462455
                            },
                            {
                              "x": 0.8438007596219439,
                              "y": 0.7540389253462455
                            },
                            {
                              "x": 0.8438007596219439,
                              "y": 0.7540389253462455
                            }
                          ],
                          "labels": {}
                        }
                      ],
                      "masks": [],
                      "dimensions": {
                        "width": 640,
                        "height": 360
                      },
                      "boxes": [
                        {
                          "pt1": {
                            "x": 0.4790481136925676,
                            "y": 0.07823600417198208
                          },
                          "labels": {
                            "Part": [
                              "Eye"
                            ]
                          },
                          "pt2": {
                            "x": 0.8833522513492257,
                            "y": 0.5001245329975338
                          }
                        },
                        {
                          "pt1": {
                            "x": 0.06375745055610903,
                            "y": 0.24621014064882213
                          },
                          "labels": {
                            "Part": [
                              "Nose"
                            ]
                          },
                          "pt2": {
                            "x": 0.7734869965512208,
                            "y": 0.9024811854885693
                          }
                        }
                      ]
                    },
                    "timestamp": 9.03
                  }
                ],
                "visible": true
              }
            ],
            "type": "video",
            "urls": [
              "https://test-videos.co.uk/vids/bigbuckbunny/mp4/h264/360/Big_Buck_Bunny_360_10s_2MB.mp4"
            ],
            "viewState": "labeling"
          }
        },
        "7958bbaf4ad34fb28a0045e3e8d91e17": {
          "model_module": "@jupyter-widgets/base",
          "model_name": "LayoutModel",
          "model_module_version": "1.2.0",
          "state": {
            "_model_module": "@jupyter-widgets/base",
            "_model_module_version": "1.2.0",
            "_model_name": "LayoutModel",
            "_view_count": null,
            "_view_module": "@jupyter-widgets/base",
            "_view_module_version": "1.2.0",
            "_view_name": "LayoutView",
            "align_content": null,
            "align_items": null,
            "align_self": null,
            "border": null,
            "bottom": null,
            "display": null,
            "flex": null,
            "flex_flow": null,
            "grid_area": null,
            "grid_auto_columns": null,
            "grid_auto_flow": null,
            "grid_auto_rows": null,
            "grid_column": null,
            "grid_gap": null,
            "grid_row": null,
            "grid_template_areas": null,
            "grid_template_columns": null,
            "grid_template_rows": null,
            "height": null,
            "justify_content": null,
            "justify_items": null,
            "left": null,
            "margin": null,
            "max_height": null,
            "max_width": null,
            "min_height": null,
            "min_width": null,
            "object_fit": null,
            "object_position": null,
            "order": null,
            "overflow": null,
            "overflow_x": null,
            "overflow_y": null,
            "padding": null,
            "right": null,
            "top": null,
            "visibility": null,
            "width": null
          }
        }
      }
    }
  },
  "cells": [
    {
      "cell_type": "markdown",
      "source": [
        "# Практическое занятие №2 - локализация объектов на изображениях\n",
        "\n",
        "1. Разметка данных с помощью виджета QSL для Jupyter (https://github.com/faustomorales/qsl)\n",
        "2. Знакомство с архитектурой нейронных сетей для локализации объектов на изображении.\n",
        "3. Разработка простой системы управления по данным с видео-камеры."
      ],
      "metadata": {
        "id": "nb3krk0emfCY"
      }
    },
    {
      "cell_type": "code",
      "source": [
        "!pip install -U -q qsl"
      ],
      "metadata": {
        "id": "Isp1jEaFwF18",
        "colab": {
          "base_uri": "https://localhost:8080/"
        },
        "outputId": "d09a2111-aef3-47fd-a43e-33ab12770c04"
      },
      "execution_count": null,
      "outputs": [
        {
          "output_type": "stream",
          "name": "stdout",
          "text": [
            "\u001b[K     |████████████████████████████████| 1.8 MB 8.7 MB/s \n",
            "\u001b[K     |████████████████████████████████| 1.6 MB 47.4 MB/s \n",
            "\u001b[?25h"
          ]
        }
      ]
    },
    {
      "cell_type": "code",
      "source": [
        "# These next two lines are only required on Google Colab.\n",
        "# They are not needed in Jupyter Lab or Jupyter Notebook.\n",
        "import google.colab\n",
        "google.colab.output.enable_custom_widget_manager()"
      ],
      "metadata": {
        "id": "fC89lkkqhY_N"
      },
      "execution_count": null,
      "outputs": []
    },
    {
      "cell_type": "code",
      "source": [
        "# Widgets have been tested on JupyterLab >= 3 and\n",
        "# Jupyter Notebook >= 6\n",
        "import qsl\n",
        "import qsl.testing.files"
      ],
      "metadata": {
        "id": "XonId0u4hWC5"
      },
      "execution_count": null,
      "outputs": []
    },
    {
      "cell_type": "code",
      "source": [
        "labeler = qsl.MediaLabeler(\n",
        "    items=[\n",
        "        # You can pass a local path, a URL, or an S3 path.\n",
        "        {\"target\": qsl.testing.files.TEST_IMAGES[0]},\n",
        "        {\"target\": \"https://picsum.photos/id/237/200/300\"},\n",
        "        # You can label videos!\n",
        "        {\"target\": \"https://test-videos.co.uk/vids/bigbuckbunny/mp4/h264/360/Big_Buck_Bunny_360_10s_2MB.mp4\", \"type\": \"video\"},\n",
        "        # Optionally set initial default labels for images. Note that labels are always provided\n",
        "        # as a list of strings whether they are multiselect / single select or freeform.\n",
        "        {\"target\": \"https://picsum.photos/id/1025/500/500\", \"defaults\": {\"image\": {\"Type\": [\"Dog\"]}}},\n",
        "        # Provide arbitrary string metadata and it will appear just below the image in the widget.\n",
        "        {\"target\": \"https://picsum.photos/id/1062/500/500\", \"metadata\": {\"source\": \"picsum\"}},\n",
        "        # Set labels in advance. These images will be considered \"complete\" for progress calculation purposes.\n",
        "        {\"target\": \"https://picsum.photos/id/1074/500/500\", \"labels\": { \"image\": {\"Type\": [\"Cat\"]}}},\n",
        "        {\"target\": \"https://picsum.photos/id/219/500/500\"}\n",
        "    ],\n",
        "    config={\n",
        "        \"image\": [\n",
        "            {\"name\": \"Type\", \"options\": [\n",
        "                {\"name\": \"Dog\", \"shortcut\": \"d\"},\n",
        "                {\"name\": \"Cat\", \"shortcut\": \"c\"},\n",
        "                {\"name\": \"Neither\", \"shortcut\": \"n\"}\n",
        "            ]},\n",
        "            {\"name\": \"Tags\", \"options\": [], \"freeform\": True, \"multiple\": True},\n",
        "            {\"name\": \"Comment\", \"freeform\": True}\n",
        "        ],\n",
        "        \"regions\": [\n",
        "            {\"name\": \"Part\", \"options\": [{\"name\": \"Nose\", \"shortcut\": \"n\"}, {\"name\": \"Eye\", \"shortcut\": \"e\"}]}\n",
        "        ]\n",
        "    }\n",
        ")\n",
        "labeler.mode = \"dark\"\n",
        "labeler.maxViewHeight = 256\n",
        "labeler"
      ],
      "metadata": {
        "id": "GBJDJcy6hN4r",
        "colab": {
          "base_uri": "https://localhost:8080/",
          "height": 694,
          "referenced_widgets": [
            "0017ff4f36a540f7919c73c2a3dc1f7e",
            "7958bbaf4ad34fb28a0045e3e8d91e17"
          ]
        },
        "outputId": "ec3bdeb9-3ae9-4bad-834f-0fd3ae5fff4d"
      },
      "execution_count": null,
      "outputs": [
        {
          "output_type": "display_data",
          "data": {
            "text/plain": [
              "MediaLabeler(buttons={'prev': False, 'next': True, 'save': True, 'config': True, 'delete': False, 'ignore': Tr…"
            ],
            "application/vnd.jupyter.widget-view+json": {
              "version_major": 2,
              "version_minor": 0,
              "model_id": "0017ff4f36a540f7919c73c2a3dc1f7e"
            }
          },
          "metadata": {
            "application/vnd.jupyter.widget-view+json": {
              "colab": {
                "custom_widget_manager": {
                  "url": "https://ssl.gstatic.com/colaboratory-static/widgets/colab-cdn-widget-manager/d2e234f7cc04bf79/manager.min.js"
                }
              }
            }
          }
        }
      ]
    },
    {
      "cell_type": "code",
      "source": [
        "# You can access the current state of the image labels at any time.\n",
        "# Mostly self-explanatory. The segmentation maps provide map\n",
        "# dimensions (width/height) and a run-length encoded representation\n",
        "# with classes i (inside mask) and o (outside of mask). The mask\n",
        "# may be lower-res than the image (you can tell from the dimensions)\n",
        "# if the image was large, so you'll have to upsample and interpolate\n",
        "# the map up to true image size. This little twist makes the in-browser\n",
        "# behavior more memory efficient at the cost of mask precision.\n",
        "labeler.items"
      ],
      "metadata": {
        "id": "pCInWsS8kEUP",
        "colab": {
          "base_uri": "https://localhost:8080/"
        },
        "outputId": "6b9a6f6d-ab62-4e5f-db25-ec49a6b038db"
      },
      "execution_count": null,
      "outputs": [
        {
          "output_type": "execute_result",
          "data": {
            "text/plain": [
              "[{'target': '/usr/local/lib/python3.7/dist-packages/qsl/testing/data/image1.jpg'},\n",
              " {'target': 'https://picsum.photos/id/237/200/300'},\n",
              " {'target': 'https://test-videos.co.uk/vids/bigbuckbunny/mp4/h264/360/Big_Buck_Bunny_360_10s_2MB.mp4',\n",
              "  'type': 'video',\n",
              "  'labels': [{'labels': {'image': {},\n",
              "     'polygons': [{'points': [{'x': 0.26371221428847796,\n",
              "         'y': 0.6212221662715348},\n",
              "        {'x': 0.2285553327531164, 'y': 0.7540389253462455},\n",
              "        {'x': 0.353801723222842, 'y': 0.8126345543497944},\n",
              "        {'x': 0.3779720792784031, 'y': 0.5430946609334697},\n",
              "        {'x': 0.26371221428847796, 'y': 0.6212221662715348}],\n",
              "       'labels': {'Part': ['Eye']}}],\n",
              "     'masks': [],\n",
              "     'dimensions': {'width': 640, 'height': 360},\n",
              "     'boxes': []},\n",
              "    'timestamp': 2.87},\n",
              "   {'labels': {'image': {},\n",
              "     'polygons': [],\n",
              "     'masks': [],\n",
              "     'dimensions': {'width': 640, 'height': 360},\n",
              "     'boxes': [{'pt1': {'x': 0.4175235710056848, 'y': 0.5352819103996631},\n",
              "       'labels': {},\n",
              "       'pt2': {'x': 0.6306621653138144, 'y': 0.8009154285490846}}]},\n",
              "    'timestamp': 8.06},\n",
              "   {'labels': {'image': {'Type': ['Cat']},\n",
              "     'polygons': [{'points': [{'x': 0.8438007596219439,\n",
              "         'y': 0.7540389253462455},\n",
              "        {'x': 0.9185091328845872, 'y': 0.8907620596878595},\n",
              "        {'x': 0.9558633195159089, 'y': 0.7032560468765032},\n",
              "        {'x': 0.8767603360613454, 'y': 0.6641922942074706},\n",
              "        {'x': 0.8438007596219439, 'y': 0.7540389253462455},\n",
              "        {'x': 0.8438007596219439, 'y': 0.7540389253462455},\n",
              "        {'x': 0.8438007596219439, 'y': 0.7540389253462455}],\n",
              "       'labels': {}}],\n",
              "     'masks': [],\n",
              "     'dimensions': {'width': 640, 'height': 360},\n",
              "     'boxes': [{'pt1': {'x': 0.4790481136925676, 'y': 0.07823600417198208},\n",
              "       'labels': {'Part': ['Eye']},\n",
              "       'pt2': {'x': 0.8833522513492257, 'y': 0.5001245329975338}},\n",
              "      {'pt1': {'x': 0.06375745055610903, 'y': 0.24621014064882213},\n",
              "       'labels': {'Part': ['Nose']},\n",
              "       'pt2': {'x': 0.7734869965512208, 'y': 0.9024811854885693}}]},\n",
              "    'timestamp': 9.03}],\n",
              "  'ignore': False},\n",
              " {'target': 'https://picsum.photos/id/1025/500/500',\n",
              "  'defaults': {'image': {'Type': ['Dog']}},\n",
              "  'labels': {'image': {'Type': ['Dog']},\n",
              "   'polygons': [],\n",
              "   'masks': [],\n",
              "   'dimensions': {'width': 500, 'height': 500},\n",
              "   'boxes': [{'pt1': {'x': 0.3829479034477908, 'y': 0.29699034603023017},\n",
              "     'labels': {},\n",
              "     'pt2': {'x': 0.6329536554283497, 'y': 0.47668199097695996}}]},\n",
              "  'ignore': False},\n",
              " {'target': 'https://picsum.photos/id/1062/500/500',\n",
              "  'metadata': {'source': 'picsum'}},\n",
              " {'target': 'https://picsum.photos/id/1074/500/500',\n",
              "  'labels': {'image': {'Type': ['Cat']}}},\n",
              " {'target': 'https://picsum.photos/id/219/500/500',\n",
              "  'labels': {'image': {},\n",
              "   'polygons': [],\n",
              "   'masks': [],\n",
              "   'dimensions': {'width': 500, 'height': 500},\n",
              "   'boxes': [{'pt1': {'x': 0.37904156357309454, 'y': 0.42980590968650867},\n",
              "     'labels': {'Part': ['Eye']},\n",
              "     'pt2': {'x': 0.9181164662811747, 'y': 0.8790350220533332}}]},\n",
              "  'ignore': False}]"
            ]
          },
          "metadata": {},
          "execution_count": 11
        }
      ]
    },
    {
      "cell_type": "code",
      "source": [],
      "metadata": {
        "id": "EIUsAtoe0l5d"
      },
      "execution_count": null,
      "outputs": []
    }
  ]
}