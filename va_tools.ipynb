{
 "nbformat": 4,
 "nbformat_minor": 0,
 "metadata": {
  "colab": {
   "provenance": [],
   "authorship_tag": "ABX9TyMkGq+TWoWerEbRFTdtu9HE"
  },
  "kernelspec": {
   "name": "python3",
   "display_name": "Python 3 (ipykernel)",
   "language": "python"
  },
  "language_info": {
   "name": "python"
  }
 },
 "cells": [
  {
   "cell_type": "markdown",
   "source": [
    "# Работа с визуальными датасетами в виртуальной лаборатории Jupyter\n",
    "Ноутбук для ознакомления с инструментами разметки данных для задач видеоаналитики.\n",
    "https://colab.research.google.com/github/voxel51/fiftyone/blob/v0.14.0/docs/source/tutorials/cvat_annotation.ipynb#scrollTo=musical-capital\n",
    "\n",
    "Продукты\n",
    "https://github.com/voxel51/fiftyone - смотрелка видео-датасетов из-под Jupyter."
   ],
   "metadata": {
    "id": "Bbufa6u8uZ4T"
   }
  },
  {
   "cell_type": "code",
   "metadata": {
    "colab": {
     "base_uri": "https://localhost:8080/"
    },
    "id": "aEg-6NM4mYU-",
    "outputId": "c767f7ef-9e24-4505-ab53-29bfddf07acf",
    "ExecuteTime": {
     "end_time": "2024-12-06T10:06:23.197442Z",
     "start_time": "2024-12-06T10:03:20.858126Z"
    }
   },
   "source": [
    "!pip install fiftyone"
   ],
   "outputs": [
    {
     "name": "stdout",
     "output_type": "stream",
     "text": [
      "Defaulting to user installation because normal site-packages is not writeable\n",
      "Collecting fiftyone\n",
      "  Downloading fiftyone-1.0.2-py3-none-any.whl.metadata (12 kB)\n",
      "Collecting aiofiles (from fiftyone)\n",
      "  Downloading aiofiles-24.1.0-py3-none-any.whl.metadata (10 kB)\n",
      "Collecting argcomplete (from fiftyone)\n",
      "  Downloading argcomplete-3.5.1-py3-none-any.whl.metadata (16 kB)\n",
      "Requirement already satisfied: beautifulsoup4 in c:\\users\\fedor\\appdata\\roaming\\python\\python39\\site-packages (from fiftyone) (4.12.2)\n",
      "Collecting boto3 (from fiftyone)\n",
      "  Downloading boto3-1.35.76-py3-none-any.whl.metadata (6.7 kB)\n",
      "Collecting cachetools (from fiftyone)\n",
      "  Downloading cachetools-5.5.0-py3-none-any.whl.metadata (5.3 kB)\n",
      "Collecting dacite<1.8.0,>=1.6.0 (from fiftyone)\n",
      "  Downloading dacite-1.7.0-py3-none-any.whl.metadata (14 kB)\n",
      "Collecting Deprecated (from fiftyone)\n",
      "  Downloading Deprecated-1.2.15-py2.py3-none-any.whl.metadata (5.5 kB)\n",
      "Collecting ftfy (from fiftyone)\n",
      "  Downloading ftfy-6.3.1-py3-none-any.whl.metadata (7.3 kB)\n",
      "Collecting humanize (from fiftyone)\n",
      "  Downloading humanize-4.11.0-py3-none-any.whl.metadata (7.8 kB)\n",
      "Collecting hypercorn>=0.13.2 (from fiftyone)\n",
      "  Downloading hypercorn-0.17.3-py3-none-any.whl.metadata (5.4 kB)\n",
      "Requirement already satisfied: Jinja2>=3 in c:\\users\\fedor\\appdata\\roaming\\python\\python39\\site-packages (from fiftyone) (3.1.2)\n",
      "Collecting kaleido!=0.2.1.post1 (from fiftyone)\n",
      "  Downloading kaleido-0.2.1-py2.py3-none-win_amd64.whl.metadata (15 kB)\n",
      "Requirement already satisfied: matplotlib in c:\\users\\fedor\\appdata\\roaming\\python\\python39\\site-packages (from fiftyone) (3.8.0)\n",
      "Collecting mongoengine==0.24.2 (from fiftyone)\n",
      "  Downloading mongoengine-0.24.2-py3-none-any.whl.metadata (6.7 kB)\n",
      "Collecting motor>=2.5 (from fiftyone)\n",
      "  Downloading motor-3.6.0-py3-none-any.whl.metadata (21 kB)\n",
      "Requirement already satisfied: numpy in c:\\users\\fedor\\appdata\\roaming\\python\\python39\\site-packages (from fiftyone) (1.26.2)\n",
      "Requirement already satisfied: packaging in c:\\users\\fedor\\appdata\\roaming\\python\\python39\\site-packages (from fiftyone) (23.2)\n",
      "Collecting pandas (from fiftyone)\n",
      "  Downloading pandas-2.2.3-cp39-cp39-win_amd64.whl.metadata (19 kB)\n",
      "Requirement already satisfied: Pillow>=6.2 in c:\\users\\fedor\\appdata\\roaming\\python\\python39\\site-packages (from fiftyone) (10.1.0)\n",
      "Collecting plotly>=4.14 (from fiftyone)\n",
      "  Downloading plotly-5.24.1-py3-none-any.whl.metadata (7.3 kB)\n",
      "Collecting pprintpp (from fiftyone)\n",
      "  Downloading pprintpp-0.4.0-py2.py3-none-any.whl.metadata (7.9 kB)\n",
      "Requirement already satisfied: psutil in c:\\users\\fedor\\appdata\\roaming\\python\\python39\\site-packages (from fiftyone) (5.9.6)\n",
      "Collecting pymongo<4.9,>=3.12 (from fiftyone)\n",
      "  Downloading pymongo-4.8.0-cp39-cp39-win_amd64.whl.metadata (22 kB)\n",
      "Collecting pytz (from fiftyone)\n",
      "  Downloading pytz-2024.2-py2.py3-none-any.whl.metadata (22 kB)\n",
      "Requirement already satisfied: PyYAML in c:\\users\\fedor\\appdata\\roaming\\python\\python39\\site-packages (from fiftyone) (6.0.1)\n",
      "Collecting regex (from fiftyone)\n",
      "  Downloading regex-2024.11.6-cp39-cp39-win_amd64.whl.metadata (41 kB)\n",
      "Collecting retrying (from fiftyone)\n",
      "  Downloading retrying-1.3.4-py3-none-any.whl.metadata (6.9 kB)\n",
      "Requirement already satisfied: scikit-learn in c:\\users\\fedor\\appdata\\roaming\\python\\python39\\site-packages (from fiftyone) (1.3.2)\n",
      "Collecting scikit-image (from fiftyone)\n",
      "  Downloading scikit_image-0.24.0-cp39-cp39-win_amd64.whl.metadata (14 kB)\n",
      "Requirement already satisfied: scipy in c:\\users\\fedor\\appdata\\roaming\\python\\python39\\site-packages (from fiftyone) (1.11.4)\n",
      "Requirement already satisfied: setuptools in c:\\program files (x86)\\microsoft visual studio\\shared\\python39_64\\lib\\site-packages (from fiftyone) (58.1.0)\n",
      "Collecting sseclient-py<2,>=1.7.2 (from fiftyone)\n",
      "  Downloading sseclient_py-1.8.0-py2.py3-none-any.whl.metadata (2.0 kB)\n",
      "Collecting sse-starlette<1,>=0.10.3 (from fiftyone)\n",
      "  Downloading sse_starlette-0.10.3-py3-none-any.whl.metadata (4.3 kB)\n",
      "Collecting starlette>=0.24.0 (from fiftyone)\n",
      "  Downloading starlette-0.41.3-py3-none-any.whl.metadata (6.0 kB)\n",
      "Collecting strawberry-graphql (from fiftyone)\n",
      "  Downloading strawberry_graphql-0.253.1-py3-none-any.whl.metadata (7.8 kB)\n",
      "Collecting tabulate (from fiftyone)\n",
      "  Downloading tabulate-0.9.0-py3-none-any.whl.metadata (34 kB)\n",
      "Collecting xmltodict (from fiftyone)\n",
      "  Downloading xmltodict-0.14.2-py2.py3-none-any.whl.metadata (8.0 kB)\n",
      "Collecting universal-analytics-python3<2,>=1.0.1 (from fiftyone)\n",
      "  Downloading universal_analytics_python3-1.1.1-py3-none-any.whl.metadata (5.5 kB)\n",
      "Collecting pydash (from fiftyone)\n",
      "  Downloading pydash-8.0.4-py3-none-any.whl.metadata (4.5 kB)\n",
      "Collecting fiftyone-brain<0.18,>=0.17.0 (from fiftyone)\n",
      "  Downloading fiftyone_brain-0.17.0-py3-none-any.whl.metadata (12 kB)\n",
      "Collecting fiftyone-db<2.0,>=0.4 (from fiftyone)\n",
      "  Downloading fiftyone_db-1.1.7-py3-none-win_amd64.whl.metadata (1.2 kB)\n",
      "Collecting voxel51-eta<0.14,>=0.13.0 (from fiftyone)\n",
      "  Downloading voxel51_eta-0.13.0-py2.py3-none-any.whl.metadata (14 kB)\n",
      "Collecting opencv-python-headless (from fiftyone)\n",
      "  Downloading opencv_python_headless-4.10.0.84-cp37-abi3-win_amd64.whl.metadata (20 kB)\n",
      "Requirement already satisfied: exceptiongroup>=1.1.0 in c:\\users\\fedor\\appdata\\roaming\\python\\python39\\site-packages (from hypercorn>=0.13.2->fiftyone) (1.1.3)\n",
      "Collecting h11 (from hypercorn>=0.13.2->fiftyone)\n",
      "  Downloading h11-0.14.0-py3-none-any.whl.metadata (8.2 kB)\n",
      "Collecting h2>=3.1.0 (from hypercorn>=0.13.2->fiftyone)\n",
      "  Downloading h2-4.1.0-py3-none-any.whl.metadata (3.6 kB)\n",
      "Collecting priority (from hypercorn>=0.13.2->fiftyone)\n",
      "  Downloading priority-2.0.0-py3-none-any.whl.metadata (6.6 kB)\n",
      "Collecting taskgroup (from hypercorn>=0.13.2->fiftyone)\n",
      "  Downloading taskgroup-0.0.0a4-py2.py3-none-any.whl.metadata (327 bytes)\n",
      "Requirement already satisfied: tomli in c:\\users\\fedor\\appdata\\roaming\\python\\python39\\site-packages (from hypercorn>=0.13.2->fiftyone) (2.0.1)\n",
      "Requirement already satisfied: typing_extensions in c:\\users\\fedor\\appdata\\roaming\\python\\python39\\site-packages (from hypercorn>=0.13.2->fiftyone) (4.8.0)\n",
      "Collecting wsproto>=0.14.0 (from hypercorn>=0.13.2->fiftyone)\n",
      "  Downloading wsproto-1.2.0-py3-none-any.whl.metadata (5.6 kB)\n",
      "Requirement already satisfied: MarkupSafe>=2.0 in c:\\users\\fedor\\appdata\\roaming\\python\\python39\\site-packages (from Jinja2>=3->fiftyone) (2.1.3)\n",
      "INFO: pip is looking at multiple versions of motor to determine which version is compatible with other requirements. This could take a while.\n",
      "Collecting motor>=2.5 (from fiftyone)\n",
      "  Downloading motor-3.5.3-py3-none-any.whl.metadata (21 kB)\n",
      "Collecting tenacity>=6.2.0 (from plotly>=4.14->fiftyone)\n",
      "  Downloading tenacity-9.0.0-py3-none-any.whl.metadata (1.2 kB)\n",
      "Collecting dnspython<3.0.0,>=1.16.0 (from pymongo<4.9,>=3.12->fiftyone)\n",
      "  Downloading dnspython-2.7.0-py3-none-any.whl.metadata (5.8 kB)\n",
      "Requirement already satisfied: anyio<5,>=3.4.0 in c:\\users\\fedor\\appdata\\roaming\\python\\python39\\site-packages (from starlette>=0.24.0->fiftyone) (4.0.0)\n",
      "Collecting httpx>=0.10.0 (from universal-analytics-python3<2,>=1.0.1->fiftyone)\n",
      "  Downloading httpx-0.28.0-py3-none-any.whl.metadata (7.1 kB)\n",
      "Collecting dill (from voxel51-eta<0.14,>=0.13.0->fiftyone)\n",
      "  Downloading dill-0.3.9-py3-none-any.whl.metadata (10 kB)\n",
      "Collecting future (from voxel51-eta<0.14,>=0.13.0->fiftyone)\n",
      "  Downloading future-1.0.0-py3-none-any.whl.metadata (4.0 kB)\n",
      "Collecting glob2 (from voxel51-eta<0.14,>=0.13.0->fiftyone)\n",
      "  Downloading glob2-0.7.tar.gz (10 kB)\n",
      "  Installing build dependencies: started\n",
      "  Installing build dependencies: finished with status 'done'\n",
      "  Getting requirements to build wheel: started\n",
      "  Getting requirements to build wheel: finished with status 'done'\n",
      "  Preparing metadata (pyproject.toml): started\n",
      "  Preparing metadata (pyproject.toml): finished with status 'done'\n",
      "Collecting jsonlines (from voxel51-eta<0.14,>=0.13.0->fiftyone)\n",
      "  Downloading jsonlines-4.0.0-py3-none-any.whl.metadata (1.6 kB)\n",
      "Collecting py7zr (from voxel51-eta<0.14,>=0.13.0->fiftyone)\n",
      "  Downloading py7zr-0.22.0-py3-none-any.whl.metadata (16 kB)\n",
      "Requirement already satisfied: python-dateutil in c:\\users\\fedor\\appdata\\roaming\\python\\python39\\site-packages (from voxel51-eta<0.14,>=0.13.0->fiftyone) (2.8.2)\n",
      "Collecting rarfile (from voxel51-eta<0.14,>=0.13.0->fiftyone)\n",
      "  Downloading rarfile-4.2-py3-none-any.whl.metadata (4.4 kB)\n",
      "Requirement already satisfied: requests in c:\\users\\fedor\\appdata\\roaming\\python\\python39\\site-packages (from voxel51-eta<0.14,>=0.13.0->fiftyone) (2.31.0)\n",
      "Requirement already satisfied: six in c:\\users\\fedor\\appdata\\roaming\\python\\python39\\site-packages (from voxel51-eta<0.14,>=0.13.0->fiftyone) (1.16.0)\n",
      "Collecting sortedcontainers (from voxel51-eta<0.14,>=0.13.0->fiftyone)\n",
      "  Downloading sortedcontainers-2.4.0-py2.py3-none-any.whl.metadata (10 kB)\n",
      "Collecting tzlocal (from voxel51-eta<0.14,>=0.13.0->fiftyone)\n",
      "  Downloading tzlocal-5.2-py3-none-any.whl.metadata (7.8 kB)\n",
      "Requirement already satisfied: urllib3 in c:\\users\\fedor\\appdata\\roaming\\python\\python39\\site-packages (from voxel51-eta<0.14,>=0.13.0->fiftyone) (2.0.7)\n",
      "Requirement already satisfied: soupsieve>1.2 in c:\\users\\fedor\\appdata\\roaming\\python\\python39\\site-packages (from beautifulsoup4->fiftyone) (2.5)\n",
      "Collecting botocore<1.36.0,>=1.35.76 (from boto3->fiftyone)\n",
      "  Downloading botocore-1.35.76-py3-none-any.whl.metadata (5.7 kB)\n",
      "Collecting jmespath<2.0.0,>=0.7.1 (from boto3->fiftyone)\n",
      "  Downloading jmespath-1.0.1-py3-none-any.whl.metadata (7.6 kB)\n",
      "Collecting s3transfer<0.11.0,>=0.10.0 (from boto3->fiftyone)\n",
      "  Downloading s3transfer-0.10.4-py3-none-any.whl.metadata (1.7 kB)\n",
      "Collecting wrapt<2,>=1.10 (from Deprecated->fiftyone)\n",
      "  Downloading wrapt-1.17.0-cp39-cp39-win_amd64.whl.metadata (6.5 kB)\n",
      "Requirement already satisfied: wcwidth in c:\\users\\fedor\\appdata\\roaming\\python\\python39\\site-packages (from ftfy->fiftyone) (0.2.8)\n",
      "Requirement already satisfied: contourpy>=1.0.1 in c:\\users\\fedor\\appdata\\roaming\\python\\python39\\site-packages (from matplotlib->fiftyone) (1.1.1)\n",
      "Requirement already satisfied: cycler>=0.10 in c:\\users\\fedor\\appdata\\roaming\\python\\python39\\site-packages (from matplotlib->fiftyone) (0.12.1)\n",
      "Requirement already satisfied: fonttools>=4.22.0 in c:\\users\\fedor\\appdata\\roaming\\python\\python39\\site-packages (from matplotlib->fiftyone) (4.43.1)\n",
      "Requirement already satisfied: kiwisolver>=1.0.1 in c:\\users\\fedor\\appdata\\roaming\\python\\python39\\site-packages (from matplotlib->fiftyone) (1.4.5)\n",
      "Requirement already satisfied: pyparsing>=2.3.1 in c:\\users\\fedor\\appdata\\roaming\\python\\python39\\site-packages (from matplotlib->fiftyone) (3.1.1)\n",
      "Requirement already satisfied: importlib-resources>=3.2.0 in c:\\users\\fedor\\appdata\\roaming\\python\\python39\\site-packages (from matplotlib->fiftyone) (6.1.0)\n",
      "Collecting tzdata>=2022.7 (from pandas->fiftyone)\n",
      "  Downloading tzdata-2024.2-py2.py3-none-any.whl.metadata (1.4 kB)\n",
      "Requirement already satisfied: networkx>=2.8 in c:\\users\\fedor\\appdata\\roaming\\python\\python39\\site-packages (from scikit-image->fiftyone) (3.2.1)\n",
      "Collecting imageio>=2.33 (from scikit-image->fiftyone)\n",
      "  Downloading imageio-2.36.1-py3-none-any.whl.metadata (5.2 kB)\n",
      "Collecting tifffile>=2022.8.12 (from scikit-image->fiftyone)\n",
      "  Downloading tifffile-2024.8.30-py3-none-any.whl.metadata (31 kB)\n",
      "Collecting lazy-loader>=0.4 (from scikit-image->fiftyone)\n",
      "  Downloading lazy_loader-0.4-py3-none-any.whl.metadata (7.6 kB)\n",
      "Requirement already satisfied: joblib>=1.1.1 in c:\\users\\fedor\\appdata\\roaming\\python\\python39\\site-packages (from scikit-learn->fiftyone) (1.3.2)\n",
      "Requirement already satisfied: threadpoolctl>=2.0.0 in c:\\users\\fedor\\appdata\\roaming\\python\\python39\\site-packages (from scikit-learn->fiftyone) (3.2.0)\n",
      "Collecting graphql-core<3.4.0,>=3.2.0 (from strawberry-graphql->fiftyone)\n",
      "  Downloading graphql_core-3.2.5-py3-none-any.whl.metadata (10 kB)\n",
      "Requirement already satisfied: idna>=2.8 in c:\\users\\fedor\\appdata\\roaming\\python\\python39\\site-packages (from anyio<5,>=3.4.0->starlette>=0.24.0->fiftyone) (3.4)\n",
      "Requirement already satisfied: sniffio>=1.1 in c:\\users\\fedor\\appdata\\roaming\\python\\python39\\site-packages (from anyio<5,>=3.4.0->starlette>=0.24.0->fiftyone) (1.3.0)\n",
      "Collecting urllib3 (from voxel51-eta<0.14,>=0.13.0->fiftyone)\n",
      "  Downloading urllib3-1.26.20-py2.py3-none-any.whl.metadata (50 kB)\n",
      "Collecting hyperframe<7,>=6.0 (from h2>=3.1.0->hypercorn>=0.13.2->fiftyone)\n",
      "  Downloading hyperframe-6.0.1-py3-none-any.whl.metadata (2.7 kB)\n",
      "Collecting hpack<5,>=4.0 (from h2>=3.1.0->hypercorn>=0.13.2->fiftyone)\n",
      "  Downloading hpack-4.0.0-py3-none-any.whl.metadata (2.5 kB)\n",
      "Requirement already satisfied: certifi in c:\\users\\fedor\\appdata\\roaming\\python\\python39\\site-packages (from httpx>=0.10.0->universal-analytics-python3<2,>=1.0.1->fiftyone) (2023.7.22)\n",
      "Collecting httpcore==1.* (from httpx>=0.10.0->universal-analytics-python3<2,>=1.0.1->fiftyone)\n",
      "  Downloading httpcore-1.0.7-py3-none-any.whl.metadata (21 kB)\n",
      "Requirement already satisfied: zipp>=3.1.0 in c:\\users\\fedor\\appdata\\roaming\\python\\python39\\site-packages (from importlib-resources>=3.2.0->matplotlib->fiftyone) (3.17.0)\n",
      "Requirement already satisfied: attrs>=19.2.0 in c:\\users\\fedor\\appdata\\roaming\\python\\python39\\site-packages (from jsonlines->voxel51-eta<0.14,>=0.13.0->fiftyone) (23.1.0)\n",
      "Collecting texttable (from py7zr->voxel51-eta<0.14,>=0.13.0->fiftyone)\n",
      "  Downloading texttable-1.7.0-py2.py3-none-any.whl.metadata (9.8 kB)\n",
      "Collecting pycryptodomex>=3.16.0 (from py7zr->voxel51-eta<0.14,>=0.13.0->fiftyone)\n",
      "  Downloading pycryptodomex-3.21.0-cp36-abi3-win_amd64.whl.metadata (3.4 kB)\n",
      "Collecting pyzstd>=0.15.9 (from py7zr->voxel51-eta<0.14,>=0.13.0->fiftyone)\n",
      "  Downloading pyzstd-0.16.2-cp39-cp39-win_amd64.whl.metadata (2.5 kB)\n",
      "Collecting pyppmd<1.2.0,>=1.1.0 (from py7zr->voxel51-eta<0.14,>=0.13.0->fiftyone)\n",
      "  Downloading pyppmd-1.1.0-cp39-cp39-win_amd64.whl.metadata (5.8 kB)\n",
      "Collecting pybcj<1.1.0,>=1.0.0 (from py7zr->voxel51-eta<0.14,>=0.13.0->fiftyone)\n",
      "  Downloading pybcj-1.0.2-cp39-cp39-win_amd64.whl.metadata (4.1 kB)\n",
      "Collecting multivolumefile>=0.2.3 (from py7zr->voxel51-eta<0.14,>=0.13.0->fiftyone)\n",
      "  Downloading multivolumefile-0.2.3-py3-none-any.whl.metadata (6.3 kB)\n",
      "Collecting inflate64<1.1.0,>=1.0.0 (from py7zr->voxel51-eta<0.14,>=0.13.0->fiftyone)\n",
      "  Downloading inflate64-1.0.0-cp39-cp39-win_amd64.whl.metadata (4.1 kB)\n",
      "Collecting brotli>=1.1.0 (from py7zr->voxel51-eta<0.14,>=0.13.0->fiftyone)\n",
      "  Downloading Brotli-1.1.0-cp39-cp39-win_amd64.whl.metadata (5.6 kB)\n",
      "Requirement already satisfied: charset-normalizer<4,>=2 in c:\\users\\fedor\\appdata\\roaming\\python\\python39\\site-packages (from requests->voxel51-eta<0.14,>=0.13.0->fiftyone) (3.3.1)\n",
      "Downloading fiftyone-1.0.2-py3-none-any.whl (10.4 MB)\n",
      "   ---------------------------------------- 0.0/10.4 MB ? eta -:--:--\n",
      "   ------- -------------------------------- 1.8/10.4 MB 11.2 MB/s eta 0:00:01\n",
      "   -------------- ------------------------- 3.7/10.4 MB 9.9 MB/s eta 0:00:01\n",
      "   ------------------------ --------------- 6.3/10.4 MB 10.7 MB/s eta 0:00:01\n",
      "   --------------------------------- ------ 8.7/10.4 MB 11.0 MB/s eta 0:00:01\n",
      "   ---------------------------------------- 10.4/10.4 MB 10.8 MB/s eta 0:00:00\n",
      "Downloading mongoengine-0.24.2-py3-none-any.whl (108 kB)\n",
      "Downloading dacite-1.7.0-py3-none-any.whl (12 kB)\n",
      "Downloading fiftyone_brain-0.17.0-py3-none-any.whl (98 kB)\n",
      "Downloading fiftyone_db-1.1.7-py3-none-win_amd64.whl (20.1 MB)\n",
      "   ---------------------------------------- 0.0/20.1 MB ? eta -:--:--\n",
      "   ---- ----------------------------------- 2.4/20.1 MB 13.4 MB/s eta 0:00:02\n",
      "   -------- ------------------------------- 4.5/20.1 MB 12.2 MB/s eta 0:00:02\n",
      "   -------------- ------------------------- 7.1/20.1 MB 11.8 MB/s eta 0:00:02\n",
      "   ------------------ --------------------- 9.4/20.1 MB 11.7 MB/s eta 0:00:01\n",
      "   ----------------------- ---------------- 12.1/20.1 MB 11.8 MB/s eta 0:00:01\n",
      "   ---------------------------- ----------- 14.4/20.1 MB 11.8 MB/s eta 0:00:01\n",
      "   --------------------------------- ------ 17.0/20.1 MB 11.8 MB/s eta 0:00:01\n",
      "   ---------------------------------------  19.7/20.1 MB 11.8 MB/s eta 0:00:01\n",
      "   ---------------------------------------- 20.1/20.1 MB 11.0 MB/s eta 0:00:00\n",
      "Downloading hypercorn-0.17.3-py3-none-any.whl (61 kB)\n",
      "Downloading kaleido-0.2.1-py2.py3-none-win_amd64.whl (65.9 MB)\n",
      "   ---------------------------------------- 0.0/65.9 MB ? eta -:--:--\n",
      "   - -------------------------------------- 2.4/65.9 MB 12.2 MB/s eta 0:00:06\n",
      "   -- ------------------------------------- 4.7/65.9 MB 11.9 MB/s eta 0:00:06\n",
      "   ---- ----------------------------------- 7.3/65.9 MB 11.9 MB/s eta 0:00:05\n",
      "   ----- ---------------------------------- 9.7/65.9 MB 11.8 MB/s eta 0:00:05\n",
      "   ------- -------------------------------- 12.1/65.9 MB 11.8 MB/s eta 0:00:05\n",
      "   -------- ------------------------------- 14.7/65.9 MB 11.8 MB/s eta 0:00:05\n",
      "   ---------- ----------------------------- 17.3/65.9 MB 11.7 MB/s eta 0:00:05\n",
      "   ----------- ---------------------------- 19.7/65.9 MB 11.6 MB/s eta 0:00:04\n",
      "   ------------- -------------------------- 22.3/65.9 MB 11.7 MB/s eta 0:00:04\n",
      "   -------------- ------------------------- 24.6/65.9 MB 11.7 MB/s eta 0:00:04\n",
      "   ---------------- ----------------------- 27.0/65.9 MB 11.7 MB/s eta 0:00:04\n",
      "   ----------------- ---------------------- 29.6/65.9 MB 11.7 MB/s eta 0:00:04\n",
      "   ------------------- -------------------- 32.0/65.9 MB 11.7 MB/s eta 0:00:03\n",
      "   -------------------- ------------------- 34.3/65.9 MB 11.7 MB/s eta 0:00:03\n",
      "   ---------------------- ----------------- 37.0/65.9 MB 11.6 MB/s eta 0:00:03\n",
      "   ------------------------ --------------- 39.6/65.9 MB 11.7 MB/s eta 0:00:03\n",
      "   ------------------------- -------------- 41.9/65.9 MB 11.7 MB/s eta 0:00:03\n",
      "   -------------------------- ------------- 44.3/65.9 MB 11.6 MB/s eta 0:00:02\n",
      "   ---------------------------- ----------- 46.9/65.9 MB 11.6 MB/s eta 0:00:02\n",
      "   ------------------------------ --------- 49.5/65.9 MB 11.7 MB/s eta 0:00:02\n",
      "   ------------------------------- -------- 51.9/65.9 MB 11.6 MB/s eta 0:00:02\n",
      "   --------------------------------- ------ 54.5/65.9 MB 11.7 MB/s eta 0:00:01\n",
      "   ---------------------------------- ----- 57.1/65.9 MB 11.7 MB/s eta 0:00:01\n",
      "   ------------------------------------ --- 59.5/65.9 MB 11.6 MB/s eta 0:00:01\n",
      "   ------------------------------------- -- 62.1/65.9 MB 11.7 MB/s eta 0:00:01\n",
      "   ---------------------------------------  64.5/65.9 MB 11.7 MB/s eta 0:00:01\n",
      "   ---------------------------------------  65.8/65.9 MB 11.7 MB/s eta 0:00:01\n",
      "   ---------------------------------------- 65.9/65.9 MB 11.4 MB/s eta 0:00:00\n",
      "Downloading motor-3.5.3-py3-none-any.whl (74 kB)\n",
      "Downloading plotly-5.24.1-py3-none-any.whl (19.1 MB)\n",
      "   ---------------------------------------- 0.0/19.1 MB ? eta -:--:--\n",
      "   ---- ----------------------------------- 2.4/19.1 MB 12.2 MB/s eta 0:00:02\n",
      "   --------- ------------------------------ 4.7/19.1 MB 11.9 MB/s eta 0:00:02\n",
      "   --------------- ------------------------ 7.3/19.1 MB 11.9 MB/s eta 0:00:01\n",
      "   -------------------- ------------------- 9.7/19.1 MB 11.6 MB/s eta 0:00:01\n",
      "   ------------------------- -------------- 12.3/19.1 MB 11.7 MB/s eta 0:00:01\n",
      "   ------------------------------ --------- 14.7/19.1 MB 11.7 MB/s eta 0:00:01\n",
      "   ------------------------------------ --- 17.3/19.1 MB 11.7 MB/s eta 0:00:01\n",
      "   ---------------------------------------- 19.1/19.1 MB 11.5 MB/s eta 0:00:00\n",
      "Downloading pymongo-4.8.0-cp39-cp39-win_amd64.whl (533 kB)\n",
      "   ---------------------------------------- 0.0/533.1 kB ? eta -:--:--\n",
      "   --------------------------------------- 533.1/533.1 kB 18.1 MB/s eta 0:00:00\n",
      "Downloading sse_starlette-0.10.3-py3-none-any.whl (8.0 kB)\n",
      "Downloading sseclient_py-1.8.0-py2.py3-none-any.whl (8.8 kB)\n",
      "Downloading starlette-0.41.3-py3-none-any.whl (73 kB)\n",
      "Downloading universal_analytics_python3-1.1.1-py3-none-any.whl (10 kB)\n",
      "Downloading voxel51_eta-0.13.0-py2.py3-none-any.whl (943 kB)\n",
      "   ---------------------------------------- 0.0/943.1 kB ? eta -:--:--\n",
      "   --------------------------------------- 943.1/943.1 kB 11.0 MB/s eta 0:00:00\n",
      "Downloading opencv_python_headless-4.10.0.84-cp37-abi3-win_amd64.whl (38.8 MB)\n",
      "   ---------------------------------------- 0.0/38.8 MB ? eta -:--:--\n",
      "   -- ------------------------------------- 2.4/38.8 MB 11.2 MB/s eta 0:00:04\n",
      "   ----- ---------------------------------- 5.0/38.8 MB 11.6 MB/s eta 0:00:03\n",
      "   ------- -------------------------------- 7.3/38.8 MB 11.6 MB/s eta 0:00:03\n",
      "   ---------- ----------------------------- 10.0/38.8 MB 11.7 MB/s eta 0:00:03\n",
      "   ------------ --------------------------- 12.3/38.8 MB 11.7 MB/s eta 0:00:03\n",
      "   --------------- ------------------------ 14.9/38.8 MB 11.7 MB/s eta 0:00:03\n",
      "   ----------------- ---------------------- 17.3/38.8 MB 11.6 MB/s eta 0:00:02\n",
      "   -------------------- ------------------- 19.9/38.8 MB 11.7 MB/s eta 0:00:02\n",
      "   ---------------------- ----------------- 22.3/38.8 MB 11.6 MB/s eta 0:00:02\n",
      "   ------------------------- -------------- 24.9/38.8 MB 11.7 MB/s eta 0:00:02\n",
      "   ---------------------------- ----------- 27.3/38.8 MB 11.6 MB/s eta 0:00:01\n",
      "   ------------------------------ --------- 29.9/38.8 MB 11.7 MB/s eta 0:00:01\n",
      "   --------------------------------- ------ 32.2/38.8 MB 11.6 MB/s eta 0:00:01\n",
      "   ----------------------------------- ---- 34.6/38.8 MB 11.6 MB/s eta 0:00:01\n",
      "   -------------------------------------- - 37.2/38.8 MB 11.7 MB/s eta 0:00:01\n",
      "   ---------------------------------------- 38.8/38.8 MB 11.4 MB/s eta 0:00:00\n",
      "Downloading aiofiles-24.1.0-py3-none-any.whl (15 kB)\n",
      "Downloading argcomplete-3.5.1-py3-none-any.whl (43 kB)\n",
      "Downloading boto3-1.35.76-py3-none-any.whl (139 kB)\n",
      "Downloading cachetools-5.5.0-py3-none-any.whl (9.5 kB)\n",
      "Downloading Deprecated-1.2.15-py2.py3-none-any.whl (9.9 kB)\n",
      "Downloading ftfy-6.3.1-py3-none-any.whl (44 kB)\n",
      "Downloading humanize-4.11.0-py3-none-any.whl (128 kB)\n",
      "Downloading pandas-2.2.3-cp39-cp39-win_amd64.whl (11.6 MB)\n",
      "   ---------------------------------------- 0.0/11.6 MB ? eta -:--:--\n",
      "   -------- ------------------------------- 2.4/11.6 MB 12.2 MB/s eta 0:00:01\n",
      "   ---------------- ----------------------- 4.7/11.6 MB 11.9 MB/s eta 0:00:01\n",
      "   ------------------------- -------------- 7.3/11.6 MB 11.9 MB/s eta 0:00:01\n",
      "   ---------------------------------- ----- 10.0/11.6 MB 11.7 MB/s eta 0:00:01\n",
      "   ---------------------------------------- 11.6/11.6 MB 11.5 MB/s eta 0:00:00\n",
      "Downloading pytz-2024.2-py2.py3-none-any.whl (508 kB)\n",
      "Downloading pprintpp-0.4.0-py2.py3-none-any.whl (16 kB)\n",
      "Downloading pydash-8.0.4-py3-none-any.whl (101 kB)\n",
      "Downloading regex-2024.11.6-cp39-cp39-win_amd64.whl (274 kB)\n",
      "Downloading retrying-1.3.4-py3-none-any.whl (11 kB)\n",
      "Downloading scikit_image-0.24.0-cp39-cp39-win_amd64.whl (12.9 MB)\n",
      "   ---------------------------------------- 0.0/12.9 MB ? eta -:--:--\n",
      "   ------- -------------------------------- 2.4/12.9 MB 12.2 MB/s eta 0:00:01\n",
      "   -------------- ------------------------- 4.7/12.9 MB 11.4 MB/s eta 0:00:01\n",
      "   ---------------------- ----------------- 7.3/12.9 MB 11.9 MB/s eta 0:00:01\n",
      "   ------------------------------ --------- 9.7/12.9 MB 11.8 MB/s eta 0:00:01\n",
      "   -------------------------------------- - 12.3/12.9 MB 11.7 MB/s eta 0:00:01\n",
      "   ---------------------------------------- 12.9/12.9 MB 11.4 MB/s eta 0:00:00\n",
      "Downloading strawberry_graphql-0.253.1-py3-none-any.whl (295 kB)\n",
      "Downloading tabulate-0.9.0-py3-none-any.whl (35 kB)\n",
      "Downloading xmltodict-0.14.2-py2.py3-none-any.whl (10.0 kB)\n",
      "Downloading botocore-1.35.76-py3-none-any.whl (13.2 MB)\n",
      "   ---------------------------------------- 0.0/13.2 MB ? eta -:--:--\n",
      "   -------- ------------------------------- 2.9/13.2 MB 12.9 MB/s eta 0:00:01\n",
      "   --------------- ------------------------ 5.2/13.2 MB 12.3 MB/s eta 0:00:01\n",
      "   ---------------------- ----------------- 7.6/13.2 MB 12.1 MB/s eta 0:00:01\n",
      "   ------------------------------ --------- 10.2/13.2 MB 12.0 MB/s eta 0:00:01\n",
      "   -------------------------------------- - 12.6/13.2 MB 11.8 MB/s eta 0:00:01\n",
      "   ---------------------------------------- 13.2/13.2 MB 11.5 MB/s eta 0:00:00\n",
      "Downloading dnspython-2.7.0-py3-none-any.whl (313 kB)\n",
      "Downloading graphql_core-3.2.5-py3-none-any.whl (203 kB)\n",
      "Downloading h2-4.1.0-py3-none-any.whl (57 kB)\n",
      "Downloading httpx-0.28.0-py3-none-any.whl (73 kB)\n",
      "Downloading httpcore-1.0.7-py3-none-any.whl (78 kB)\n",
      "Downloading h11-0.14.0-py3-none-any.whl (58 kB)\n",
      "Downloading imageio-2.36.1-py3-none-any.whl (315 kB)\n",
      "Downloading jmespath-1.0.1-py3-none-any.whl (20 kB)\n",
      "Downloading lazy_loader-0.4-py3-none-any.whl (12 kB)\n",
      "Downloading s3transfer-0.10.4-py3-none-any.whl (83 kB)\n",
      "Downloading tenacity-9.0.0-py3-none-any.whl (28 kB)\n",
      "Downloading tifffile-2024.8.30-py3-none-any.whl (227 kB)\n",
      "Downloading tzdata-2024.2-py2.py3-none-any.whl (346 kB)\n",
      "Downloading urllib3-1.26.20-py2.py3-none-any.whl (144 kB)\n",
      "Downloading wrapt-1.17.0-cp39-cp39-win_amd64.whl (38 kB)\n",
      "Downloading wsproto-1.2.0-py3-none-any.whl (24 kB)\n",
      "Downloading dill-0.3.9-py3-none-any.whl (119 kB)\n",
      "Downloading future-1.0.0-py3-none-any.whl (491 kB)\n",
      "Downloading jsonlines-4.0.0-py3-none-any.whl (8.7 kB)\n",
      "Downloading priority-2.0.0-py3-none-any.whl (8.9 kB)\n",
      "Downloading py7zr-0.22.0-py3-none-any.whl (67 kB)\n",
      "Downloading rarfile-4.2-py3-none-any.whl (29 kB)\n",
      "Downloading sortedcontainers-2.4.0-py2.py3-none-any.whl (29 kB)\n",
      "Downloading taskgroup-0.0.0a4-py2.py3-none-any.whl (9.1 kB)\n",
      "Downloading tzlocal-5.2-py3-none-any.whl (17 kB)\n",
      "Downloading Brotli-1.1.0-cp39-cp39-win_amd64.whl (357 kB)\n",
      "Downloading hpack-4.0.0-py3-none-any.whl (32 kB)\n",
      "Downloading hyperframe-6.0.1-py3-none-any.whl (12 kB)\n",
      "Downloading inflate64-1.0.0-cp39-cp39-win_amd64.whl (35 kB)\n",
      "Downloading multivolumefile-0.2.3-py3-none-any.whl (17 kB)\n",
      "Downloading pybcj-1.0.2-cp39-cp39-win_amd64.whl (24 kB)\n",
      "Downloading pycryptodomex-3.21.0-cp36-abi3-win_amd64.whl (1.8 MB)\n",
      "   ---------------------------------------- 0.0/1.8 MB ? eta -:--:--\n",
      "   ---------------------------------------- 1.8/1.8 MB 11.1 MB/s eta 0:00:00\n",
      "Downloading pyppmd-1.1.0-cp39-cp39-win_amd64.whl (46 kB)\n",
      "Downloading pyzstd-0.16.2-cp39-cp39-win_amd64.whl (245 kB)\n",
      "Downloading texttable-1.7.0-py2.py3-none-any.whl (10 kB)\n",
      "Building wheels for collected packages: glob2\n",
      "  Building wheel for glob2 (pyproject.toml): started\n",
      "  Building wheel for glob2 (pyproject.toml): finished with status 'done'\n",
      "  Created wheel for glob2: filename=glob2-0.7-py2.py3-none-any.whl size=9309 sha256=c9f5cebf5a358f9bdffcf7810094138bac6b2e316c9198e4af4dd829476bf6a7\n",
      "  Stored in directory: c:\\users\\fedor\\appdata\\local\\pip\\cache\\wheels\\c0\\dd\\ee\\ba6164807de7570971e8f160dbe6a4178ff4e5922f48c093be\n",
      "Successfully built glob2\n",
      "Installing collected packages: texttable, sseclient-py, sortedcontainers, pytz, pprintpp, kaleido, glob2, brotli, xmltodict, wrapt, urllib3, tzdata, tifffile, tenacity, taskgroup, tabulate, retrying, regex, rarfile, pyzstd, pyppmd, pydash, pycryptodomex, pybcj, priority, opencv-python-headless, multivolumefile, lazy-loader, jsonlines, jmespath, inflate64, imageio, hyperframe, humanize, hpack, h11, graphql-core, future, ftfy, fiftyone-db, dnspython, dill, dacite, cachetools, argcomplete, aiofiles, wsproto, tzlocal, strawberry-graphql, starlette, scikit-image, pymongo, py7zr, plotly, pandas, httpcore, h2, Deprecated, botocore, voxel51-eta, sse-starlette, s3transfer, motor, mongoengine, hypercorn, httpx, fiftyone-brain, universal-analytics-python3, boto3, fiftyone\n",
      "  Attempting uninstall: urllib3\n",
      "    Found existing installation: urllib3 2.0.7\n",
      "    Uninstalling urllib3-2.0.7:\n",
      "      Successfully uninstalled urllib3-2.0.7\n",
      "Successfully installed Deprecated-1.2.15 aiofiles-24.1.0 argcomplete-3.5.1 boto3-1.35.76 botocore-1.35.76 brotli-1.1.0 cachetools-5.5.0 dacite-1.7.0 dill-0.3.9 dnspython-2.7.0 fiftyone-1.0.2 fiftyone-brain-0.17.0 fiftyone-db-1.1.7 ftfy-6.3.1 future-1.0.0 glob2-0.7 graphql-core-3.2.5 h11-0.14.0 h2-4.1.0 hpack-4.0.0 httpcore-1.0.7 httpx-0.28.0 humanize-4.11.0 hypercorn-0.17.3 hyperframe-6.0.1 imageio-2.36.1 inflate64-1.0.0 jmespath-1.0.1 jsonlines-4.0.0 kaleido-0.2.1 lazy-loader-0.4 mongoengine-0.24.2 motor-3.5.3 multivolumefile-0.2.3 opencv-python-headless-4.10.0.84 pandas-2.2.3 plotly-5.24.1 pprintpp-0.4.0 priority-2.0.0 py7zr-0.22.0 pybcj-1.0.2 pycryptodomex-3.21.0 pydash-8.0.4 pymongo-4.8.0 pyppmd-1.1.0 pytz-2024.2 pyzstd-0.16.2 rarfile-4.2 regex-2024.11.6 retrying-1.3.4 s3transfer-0.10.4 scikit-image-0.24.0 sortedcontainers-2.4.0 sse-starlette-0.10.3 sseclient-py-1.8.0 starlette-0.41.3 strawberry-graphql-0.253.1 tabulate-0.9.0 taskgroup-0.0.0a4 tenacity-9.0.0 texttable-1.7.0 tifffile-2024.8.30 tzdata-2024.2 tzlocal-5.2 universal-analytics-python3-1.1.1 urllib3-1.26.20 voxel51-eta-0.13.0 wrapt-1.17.0 wsproto-1.2.0 xmltodict-0.14.2\n"
     ]
    }
   ],
   "execution_count": 1
  },
  {
   "cell_type": "markdown",
   "source": [
    "см. использование https://docs.voxel51.com/user_guide/basics.html\n",
    "Также см. загрузку видео https://docs.voxel51.com/user_guide/dataset_creation/samples.html"
   ],
   "metadata": {
    "id": "62TN1sr-tnBp"
   }
  },
  {
   "cell_type": "code",
   "source": [
    "import fiftyone as fo\n",
    "dataset = fo.Dataset(\"test-dataset-4\")\n",
    "dataset.add_videos_dir('/content/')"
   ],
   "metadata": {
    "colab": {
     "base_uri": "https://localhost:8080/"
    },
    "id": "Wkq6W_sEm4X_",
    "outputId": "607ec4cc-9d63-4525-bbf9-85339f2a78d3"
   },
   "execution_count": 19,
   "outputs": [
    {
     "output_type": "stream",
     "name": "stdout",
     "text": [
      " 100% |█████████████████████| 1/1 [40.8ms elapsed, 0s remaining, 36.6 samples/s] \n"
     ]
    },
    {
     "output_type": "stream",
     "name": "stderr",
     "text": [
      "INFO:eta.core.utils: 100% |█████████████████████| 1/1 [40.8ms elapsed, 0s remaining, 36.6 samples/s] \n"
     ]
    },
    {
     "output_type": "execute_result",
     "data": {
      "text/plain": [
       "['63dea88e5361d3a107b8b25a']"
      ]
     },
     "metadata": {},
     "execution_count": 19
    }
   ]
  },
  {
   "cell_type": "code",
   "source": [
    "dataset"
   ],
   "metadata": {
    "colab": {
     "base_uri": "https://localhost:8080/"
    },
    "id": "6SowD9w6wHgd",
    "outputId": "4492875b-026d-4ea1-9130-fc85018f3297"
   },
   "execution_count": 20,
   "outputs": [
    {
     "output_type": "execute_result",
     "data": {
      "text/plain": [
       "Name:        test-dataset-4\n",
       "Media type:  video\n",
       "Num samples: 1\n",
       "Persistent:  False\n",
       "Tags:        []\n",
       "Sample fields:\n",
       "    id:       fiftyone.core.fields.ObjectIdField\n",
       "    filepath: fiftyone.core.fields.StringField\n",
       "    tags:     fiftyone.core.fields.ListField(fiftyone.core.fields.StringField)\n",
       "    metadata: fiftyone.core.fields.EmbeddedDocumentField(fiftyone.core.metadata.VideoMetadata)\n",
       "Frame fields:\n",
       "    id:           fiftyone.core.fields.ObjectIdField\n",
       "    frame_number: fiftyone.core.fields.FrameNumberField"
      ]
     },
     "metadata": {},
     "execution_count": 20
    }
   ]
  },
  {
   "cell_type": "code",
   "source": [
    "session = fo.launch_app(dataset)"
   ],
   "metadata": {
    "colab": {
     "base_uri": "https://localhost:8080/",
     "height": 821
    },
    "id": "6mO4ww4hmtCV",
    "outputId": "1e19ce0b-b4d8-499f-f129-1c82b5dd3c2f"
   },
   "execution_count": 21,
   "outputs": [
    {
     "output_type": "display_data",
     "data": {
      "text/plain": [
       "<IPython.core.display.HTML object>"
      ],
      "text/html": [
       "\n",
       "<style>\n",
       "\n",
       "@import url(\"https://fonts.googleapis.com/css2?family=Palanquin&display=swap\");\n",
       "\n",
       "#focontainer-4bce9a3e-3dc3-4202-a152-04716289e158 {\n",
       "  position: relative;\n",
       "  height: px;\n",
       "  display: block !important;\n",
       "}\n",
       "#foactivate-4bce9a3e-3dc3-4202-a152-04716289e158 {\n",
       "  font-weight: bold;\n",
       "  cursor: pointer;\n",
       "  font-size: 24px;\n",
       "  border-radius: 3px;\n",
       "  text-align: center;\n",
       "  padding: 0.5em;\n",
       "  color: rgb(255, 255, 255);\n",
       "  font-family: \"Palanquin\", sans-serif;\n",
       "  position: absolute;\n",
       "  left: 50%;\n",
       "  top: 50%;\n",
       "  width: 160px;\n",
       "  margin-left: -80px;\n",
       "  margin-top: -23px;\n",
       "  background: hsla(210,11%,15%, 0.8);\n",
       "  border: none;\n",
       "}\n",
       "#foactivate-4bce9a3e-3dc3-4202-a152-04716289e158:focus {\n",
       "  outline: none;\n",
       "}\n",
       "#fooverlay-4bce9a3e-3dc3-4202-a152-04716289e158 {\n",
       "  width: 100%;\n",
       "  height: 100%;\n",
       "  background: hsla(208, 7%, 46%, 0.7);\n",
       "  position: absolute;\n",
       "  top: 0;\n",
       "  left: 0;\n",
       "  display: none;\n",
       "  cursor: pointer;\n",
       "}\n",
       "</style>\n",
       "<div id=\"focontainer-4bce9a3e-3dc3-4202-a152-04716289e158\" style=\"display: none;\">\n",
       "   <div id=\"fooverlay-4bce9a3e-3dc3-4202-a152-04716289e158\">\n",
       "      <button id=\"foactivate-4bce9a3e-3dc3-4202-a152-04716289e158\" >Activate</button>\n",
       "   </div>\n",
       "</div>"
      ]
     },
     "metadata": {}
    }
   ]
  },
  {
   "cell_type": "markdown",
   "source": [
    "Ниже запуск CVAT (можно настроить на свой сервер)."
   ],
   "metadata": {
    "id": "cABDNT43uShs"
   }
  },
  {
   "cell_type": "markdown",
   "source": [],
   "metadata": {
    "id": "SILzQ54xuYBp"
   }
  },
  {
   "cell_type": "code",
   "source": [
    "x = dataset.take(5)\n",
    "x.annotate(\n",
    "    \"anno_key\",\n",
    "    classes=[\"person\", \"vehicle\", \"animal\"],\n",
    "    launch_editor=True,\n",
    ")"
   ],
   "metadata": {
    "colab": {
     "base_uri": "https://localhost:8080/",
     "height": 465
    },
    "id": "0T3wpEOSmyq2",
    "outputId": "083f0c4d-768c-44be-f56e-e174e262e003"
   },
   "execution_count": 8,
   "outputs": [
    {
     "output_type": "stream",
     "name": "stdout",
     "text": [
      "Please enter your login credentials.\n",
      "You can avoid this in the future by setting your `FIFTYONE_CVAT_USERNAME` and `FIFTYONE_CVAT_PASSWORD` environment variables\n"
     ]
    },
    {
     "output_type": "stream",
     "name": "stderr",
     "text": [
      "INFO:fiftyone.utils.annotations:Please enter your login credentials.\n",
      "You can avoid this in the future by setting your `FIFTYONE_CVAT_USERNAME` and `FIFTYONE_CVAT_PASSWORD` environment variables\n"
     ]
    },
    {
     "output_type": "error",
     "ename": "KeyboardInterrupt",
     "evalue": "ignored",
     "traceback": [
      "\u001B[0;31m---------------------------------------------------------------------------\u001B[0m",
      "\u001B[0;31mKeyboardInterrupt\u001B[0m                         Traceback (most recent call last)",
      "\u001B[0;32m<ipython-input-8-92689f12d777>\u001B[0m in \u001B[0;36m<module>\u001B[0;34m\u001B[0m\n\u001B[1;32m      1\u001B[0m \u001B[0mx\u001B[0m \u001B[0;34m=\u001B[0m \u001B[0mdataset\u001B[0m\u001B[0;34m.\u001B[0m\u001B[0mtake\u001B[0m\u001B[0;34m(\u001B[0m\u001B[0;36m5\u001B[0m\u001B[0;34m)\u001B[0m\u001B[0;34m\u001B[0m\u001B[0;34m\u001B[0m\u001B[0m\n\u001B[0;32m----> 2\u001B[0;31m x.annotate(\n\u001B[0m\u001B[1;32m      3\u001B[0m     \u001B[0;34m\"anno_key\"\u001B[0m\u001B[0;34m,\u001B[0m\u001B[0;34m\u001B[0m\u001B[0;34m\u001B[0m\u001B[0m\n\u001B[1;32m      4\u001B[0m     \u001B[0mclasses\u001B[0m\u001B[0;34m=\u001B[0m\u001B[0;34m[\u001B[0m\u001B[0;34m\"person\"\u001B[0m\u001B[0;34m,\u001B[0m \u001B[0;34m\"vehicle\"\u001B[0m\u001B[0;34m,\u001B[0m \u001B[0;34m\"animal\"\u001B[0m\u001B[0;34m]\u001B[0m\u001B[0;34m,\u001B[0m\u001B[0;34m\u001B[0m\u001B[0;34m\u001B[0m\u001B[0m\n\u001B[1;32m      5\u001B[0m     \u001B[0mlaunch_editor\u001B[0m\u001B[0;34m=\u001B[0m\u001B[0;32mTrue\u001B[0m\u001B[0;34m,\u001B[0m\u001B[0;34m\u001B[0m\u001B[0;34m\u001B[0m\u001B[0m\n",
      "\u001B[0;32m/usr/local/lib/python3.8/dist-packages/fiftyone/core/collections.py\u001B[0m in \u001B[0;36mannotate\u001B[0;34m(self, anno_key, label_schema, label_field, label_type, classes, attributes, mask_targets, allow_additions, allow_deletions, allow_label_edits, allow_index_edits, allow_spatial_edits, media_field, backend, launch_editor, **kwargs)\u001B[0m\n\u001B[1;32m   7460\u001B[0m             \u001B[0man\u001B[0m \u001B[0;34m:\u001B[0m\u001B[0;32mclass\u001B[0m\u001B[0;34m:\u001B[0m\u001B[0;31m`\u001B[0m\u001B[0mfiftyone\u001B[0m\u001B[0;34m.\u001B[0m\u001B[0mutils\u001B[0m\u001B[0;34m.\u001B[0m\u001B[0mannotations\u001B[0m\u001B[0;34m.\u001B[0m\u001B[0mAnnnotationResults\u001B[0m\u001B[0;31m`\u001B[0m\u001B[0;34m\u001B[0m\u001B[0;34m\u001B[0m\u001B[0m\n\u001B[1;32m   7461\u001B[0m         \"\"\"\n\u001B[0;32m-> 7462\u001B[0;31m         return foua.annotate(\n\u001B[0m\u001B[1;32m   7463\u001B[0m             \u001B[0mself\u001B[0m\u001B[0;34m,\u001B[0m\u001B[0;34m\u001B[0m\u001B[0;34m\u001B[0m\u001B[0m\n\u001B[1;32m   7464\u001B[0m             \u001B[0manno_key\u001B[0m\u001B[0;34m,\u001B[0m\u001B[0;34m\u001B[0m\u001B[0;34m\u001B[0m\u001B[0m\n",
      "\u001B[0;32m/usr/local/lib/python3.8/dist-packages/fiftyone/utils/annotations.py\u001B[0m in \u001B[0;36mannotate\u001B[0;34m(samples, anno_key, label_schema, label_field, label_type, classes, attributes, mask_targets, allow_additions, allow_deletions, allow_label_edits, allow_index_edits, allow_spatial_edits, media_field, backend, launch_editor, **kwargs)\u001B[0m\n\u001B[1;32m    247\u001B[0m     \u001B[0manno_backend\u001B[0m\u001B[0;34m.\u001B[0m\u001B[0mregister_run\u001B[0m\u001B[0;34m(\u001B[0m\u001B[0msamples\u001B[0m\u001B[0;34m,\u001B[0m \u001B[0manno_key\u001B[0m\u001B[0;34m,\u001B[0m \u001B[0moverwrite\u001B[0m\u001B[0;34m=\u001B[0m\u001B[0;32mFalse\u001B[0m\u001B[0;34m)\u001B[0m\u001B[0;34m\u001B[0m\u001B[0;34m\u001B[0m\u001B[0m\n\u001B[1;32m    248\u001B[0m \u001B[0;34m\u001B[0m\u001B[0m\n\u001B[0;32m--> 249\u001B[0;31m     results = anno_backend.upload_annotations(\n\u001B[0m\u001B[1;32m    250\u001B[0m         \u001B[0msamples\u001B[0m\u001B[0;34m,\u001B[0m \u001B[0mlaunch_editor\u001B[0m\u001B[0;34m=\u001B[0m\u001B[0mlaunch_editor\u001B[0m\u001B[0;34m\u001B[0m\u001B[0;34m\u001B[0m\u001B[0m\n\u001B[1;32m    251\u001B[0m     )\n",
      "\u001B[0;32m/usr/local/lib/python3.8/dist-packages/fiftyone/utils/cvat.py\u001B[0m in \u001B[0;36mupload_annotations\u001B[0;34m(self, samples, launch_editor)\u001B[0m\n\u001B[1;32m   3228\u001B[0m \u001B[0;34m\u001B[0m\u001B[0m\n\u001B[1;32m   3229\u001B[0m     \u001B[0;32mdef\u001B[0m \u001B[0mupload_annotations\u001B[0m\u001B[0;34m(\u001B[0m\u001B[0mself\u001B[0m\u001B[0;34m,\u001B[0m \u001B[0msamples\u001B[0m\u001B[0;34m,\u001B[0m \u001B[0mlaunch_editor\u001B[0m\u001B[0;34m=\u001B[0m\u001B[0;32mFalse\u001B[0m\u001B[0;34m)\u001B[0m\u001B[0;34m:\u001B[0m\u001B[0;34m\u001B[0m\u001B[0;34m\u001B[0m\u001B[0m\n\u001B[0;32m-> 3230\u001B[0;31m         \u001B[0mapi\u001B[0m \u001B[0;34m=\u001B[0m \u001B[0mself\u001B[0m\u001B[0;34m.\u001B[0m\u001B[0mconnect_to_api\u001B[0m\u001B[0;34m(\u001B[0m\u001B[0;34m)\u001B[0m\u001B[0;34m\u001B[0m\u001B[0;34m\u001B[0m\u001B[0m\n\u001B[0m\u001B[1;32m   3231\u001B[0m         \u001B[0mresults\u001B[0m \u001B[0;34m=\u001B[0m \u001B[0mapi\u001B[0m\u001B[0;34m.\u001B[0m\u001B[0mupload_samples\u001B[0m\u001B[0;34m(\u001B[0m\u001B[0msamples\u001B[0m\u001B[0;34m,\u001B[0m \u001B[0mself\u001B[0m\u001B[0;34m)\u001B[0m\u001B[0;34m\u001B[0m\u001B[0;34m\u001B[0m\u001B[0m\n\u001B[1;32m   3232\u001B[0m \u001B[0;34m\u001B[0m\u001B[0m\n",
      "\u001B[0;32m/usr/local/lib/python3.8/dist-packages/fiftyone/utils/annotations.py\u001B[0m in \u001B[0;36mconnect_to_api\u001B[0;34m(self)\u001B[0m\n\u001B[1;32m   1948\u001B[0m         \u001B[0;32mif\u001B[0m \u001B[0mself\u001B[0m\u001B[0;34m.\u001B[0m\u001B[0m_api\u001B[0m \u001B[0;32mis\u001B[0m \u001B[0;32mNone\u001B[0m\u001B[0;34m:\u001B[0m\u001B[0;34m\u001B[0m\u001B[0;34m\u001B[0m\u001B[0m\n\u001B[1;32m   1949\u001B[0m             \u001B[0;31m# pylint: disable=assignment-from-none\u001B[0m\u001B[0;34m\u001B[0m\u001B[0;34m\u001B[0m\u001B[0;34m\u001B[0m\u001B[0m\n\u001B[0;32m-> 1950\u001B[0;31m             \u001B[0mself\u001B[0m\u001B[0;34m.\u001B[0m\u001B[0m_api\u001B[0m \u001B[0;34m=\u001B[0m \u001B[0mself\u001B[0m\u001B[0;34m.\u001B[0m\u001B[0m_connect_to_api\u001B[0m\u001B[0;34m(\u001B[0m\u001B[0;34m)\u001B[0m\u001B[0;34m\u001B[0m\u001B[0;34m\u001B[0m\u001B[0m\n\u001B[0m\u001B[1;32m   1951\u001B[0m \u001B[0;34m\u001B[0m\u001B[0m\n\u001B[1;32m   1952\u001B[0m         \u001B[0;32mreturn\u001B[0m \u001B[0mself\u001B[0m\u001B[0;34m.\u001B[0m\u001B[0m_api\u001B[0m\u001B[0;34m\u001B[0m\u001B[0;34m\u001B[0m\u001B[0m\n",
      "\u001B[0;32m/usr/local/lib/python3.8/dist-packages/fiftyone/utils/cvat.py\u001B[0m in \u001B[0;36m_connect_to_api\u001B[0;34m(self)\u001B[0m\n\u001B[1;32m   3219\u001B[0m \u001B[0;34m\u001B[0m\u001B[0m\n\u001B[1;32m   3220\u001B[0m     \u001B[0;32mdef\u001B[0m \u001B[0m_connect_to_api\u001B[0m\u001B[0;34m(\u001B[0m\u001B[0mself\u001B[0m\u001B[0;34m)\u001B[0m\u001B[0;34m:\u001B[0m\u001B[0;34m\u001B[0m\u001B[0;34m\u001B[0m\u001B[0m\n\u001B[0;32m-> 3221\u001B[0;31m         return CVATAnnotationAPI(\n\u001B[0m\u001B[1;32m   3222\u001B[0m             \u001B[0mself\u001B[0m\u001B[0;34m.\u001B[0m\u001B[0mconfig\u001B[0m\u001B[0;34m.\u001B[0m\u001B[0mname\u001B[0m\u001B[0;34m,\u001B[0m\u001B[0;34m\u001B[0m\u001B[0;34m\u001B[0m\u001B[0m\n\u001B[1;32m   3223\u001B[0m             \u001B[0mself\u001B[0m\u001B[0;34m.\u001B[0m\u001B[0mconfig\u001B[0m\u001B[0;34m.\u001B[0m\u001B[0murl\u001B[0m\u001B[0;34m,\u001B[0m\u001B[0;34m\u001B[0m\u001B[0;34m\u001B[0m\u001B[0m\n",
      "\u001B[0;32m/usr/local/lib/python3.8/dist-packages/fiftyone/utils/cvat.py\u001B[0m in \u001B[0;36m__init__\u001B[0;34m(self, name, url, username, password, headers)\u001B[0m\n\u001B[1;32m   3500\u001B[0m         \u001B[0mself\u001B[0m\u001B[0;34m.\u001B[0m\u001B[0m_project_id_map\u001B[0m \u001B[0;34m=\u001B[0m \u001B[0;34m{\u001B[0m\u001B[0;34m}\u001B[0m\u001B[0;34m\u001B[0m\u001B[0;34m\u001B[0m\u001B[0m\n\u001B[1;32m   3501\u001B[0m \u001B[0;34m\u001B[0m\u001B[0m\n\u001B[0;32m-> 3502\u001B[0;31m         \u001B[0mself\u001B[0m\u001B[0;34m.\u001B[0m\u001B[0m_setup\u001B[0m\u001B[0;34m(\u001B[0m\u001B[0;34m)\u001B[0m\u001B[0;34m\u001B[0m\u001B[0;34m\u001B[0m\u001B[0m\n\u001B[0m\u001B[1;32m   3503\u001B[0m \u001B[0;34m\u001B[0m\u001B[0m\n\u001B[1;32m   3504\u001B[0m     \u001B[0;34m@\u001B[0m\u001B[0mproperty\u001B[0m\u001B[0;34m\u001B[0m\u001B[0;34m\u001B[0m\u001B[0m\n",
      "\u001B[0;32m/usr/local/lib/python3.8/dist-packages/fiftyone/utils/cvat.py\u001B[0m in \u001B[0;36m_setup\u001B[0;34m(self)\u001B[0m\n\u001B[1;32m   3630\u001B[0m \u001B[0;34m\u001B[0m\u001B[0m\n\u001B[1;32m   3631\u001B[0m         \u001B[0;32mif\u001B[0m \u001B[0musername\u001B[0m \u001B[0;32mis\u001B[0m \u001B[0;32mNone\u001B[0m \u001B[0;32mor\u001B[0m \u001B[0mpassword\u001B[0m \u001B[0;32mis\u001B[0m \u001B[0;32mNone\u001B[0m\u001B[0;34m:\u001B[0m\u001B[0;34m\u001B[0m\u001B[0;34m\u001B[0m\u001B[0m\n\u001B[0;32m-> 3632\u001B[0;31m             username, password = self._prompt_username_password(\n\u001B[0m\u001B[1;32m   3633\u001B[0m                 \u001B[0mself\u001B[0m\u001B[0;34m.\u001B[0m\u001B[0m_name\u001B[0m\u001B[0;34m,\u001B[0m \u001B[0musername\u001B[0m\u001B[0;34m=\u001B[0m\u001B[0musername\u001B[0m\u001B[0;34m,\u001B[0m \u001B[0mpassword\u001B[0m\u001B[0;34m=\u001B[0m\u001B[0mpassword\u001B[0m\u001B[0;34m\u001B[0m\u001B[0;34m\u001B[0m\u001B[0m\n\u001B[1;32m   3634\u001B[0m             )\n",
      "\u001B[0;32m/usr/local/lib/python3.8/dist-packages/fiftyone/utils/annotations.py\u001B[0m in \u001B[0;36m_prompt_username_password\u001B[0;34m(self, backend, username, password)\u001B[0m\n\u001B[1;32m   2256\u001B[0m \u001B[0;34m\u001B[0m\u001B[0m\n\u001B[1;32m   2257\u001B[0m         \u001B[0;32mif\u001B[0m \u001B[0musername\u001B[0m \u001B[0;32mis\u001B[0m \u001B[0;32mNone\u001B[0m\u001B[0;34m:\u001B[0m\u001B[0;34m\u001B[0m\u001B[0;34m\u001B[0m\u001B[0m\n\u001B[0;32m-> 2258\u001B[0;31m             \u001B[0musername\u001B[0m \u001B[0;34m=\u001B[0m \u001B[0minput\u001B[0m\u001B[0;34m(\u001B[0m\u001B[0;34m\"Username: \"\u001B[0m\u001B[0;34m)\u001B[0m\u001B[0;34m\u001B[0m\u001B[0;34m\u001B[0m\u001B[0m\n\u001B[0m\u001B[1;32m   2259\u001B[0m \u001B[0;34m\u001B[0m\u001B[0m\n\u001B[1;32m   2260\u001B[0m         \u001B[0;32mif\u001B[0m \u001B[0mpassword\u001B[0m \u001B[0;32mis\u001B[0m \u001B[0;32mNone\u001B[0m\u001B[0;34m:\u001B[0m\u001B[0;34m\u001B[0m\u001B[0;34m\u001B[0m\u001B[0m\n",
      "\u001B[0;32m/usr/local/lib/python3.8/dist-packages/ipykernel/kernelbase.py\u001B[0m in \u001B[0;36mraw_input\u001B[0;34m(self, prompt)\u001B[0m\n\u001B[1;32m    858\u001B[0m                 \u001B[0;34m\"raw_input was called, but this frontend does not support input requests.\"\u001B[0m\u001B[0;34m\u001B[0m\u001B[0;34m\u001B[0m\u001B[0m\n\u001B[1;32m    859\u001B[0m             )\n\u001B[0;32m--> 860\u001B[0;31m         return self._input_request(str(prompt),\n\u001B[0m\u001B[1;32m    861\u001B[0m             \u001B[0mself\u001B[0m\u001B[0;34m.\u001B[0m\u001B[0m_parent_ident\u001B[0m\u001B[0;34m,\u001B[0m\u001B[0;34m\u001B[0m\u001B[0;34m\u001B[0m\u001B[0m\n\u001B[1;32m    862\u001B[0m             \u001B[0mself\u001B[0m\u001B[0;34m.\u001B[0m\u001B[0m_parent_header\u001B[0m\u001B[0;34m,\u001B[0m\u001B[0;34m\u001B[0m\u001B[0;34m\u001B[0m\u001B[0m\n",
      "\u001B[0;32m/usr/local/lib/python3.8/dist-packages/ipykernel/kernelbase.py\u001B[0m in \u001B[0;36m_input_request\u001B[0;34m(self, prompt, ident, parent, password)\u001B[0m\n\u001B[1;32m    902\u001B[0m             \u001B[0;32mexcept\u001B[0m \u001B[0mKeyboardInterrupt\u001B[0m\u001B[0;34m:\u001B[0m\u001B[0;34m\u001B[0m\u001B[0;34m\u001B[0m\u001B[0m\n\u001B[1;32m    903\u001B[0m                 \u001B[0;31m# re-raise KeyboardInterrupt, to truncate traceback\u001B[0m\u001B[0;34m\u001B[0m\u001B[0;34m\u001B[0m\u001B[0;34m\u001B[0m\u001B[0m\n\u001B[0;32m--> 904\u001B[0;31m                 \u001B[0;32mraise\u001B[0m \u001B[0mKeyboardInterrupt\u001B[0m\u001B[0;34m(\u001B[0m\u001B[0;34m\"Interrupted by user\"\u001B[0m\u001B[0;34m)\u001B[0m \u001B[0;32mfrom\u001B[0m \u001B[0;32mNone\u001B[0m\u001B[0;34m\u001B[0m\u001B[0;34m\u001B[0m\u001B[0m\n\u001B[0m\u001B[1;32m    905\u001B[0m             \u001B[0;32mexcept\u001B[0m \u001B[0mException\u001B[0m \u001B[0;32mas\u001B[0m \u001B[0me\u001B[0m\u001B[0;34m:\u001B[0m\u001B[0;34m\u001B[0m\u001B[0;34m\u001B[0m\u001B[0m\n\u001B[1;32m    906\u001B[0m                 \u001B[0mself\u001B[0m\u001B[0;34m.\u001B[0m\u001B[0mlog\u001B[0m\u001B[0;34m.\u001B[0m\u001B[0mwarning\u001B[0m\u001B[0;34m(\u001B[0m\u001B[0;34m\"Invalid Message:\"\u001B[0m\u001B[0;34m,\u001B[0m \u001B[0mexc_info\u001B[0m\u001B[0;34m=\u001B[0m\u001B[0;32mTrue\u001B[0m\u001B[0;34m)\u001B[0m\u001B[0;34m\u001B[0m\u001B[0;34m\u001B[0m\u001B[0m\n",
      "\u001B[0;31mKeyboardInterrupt\u001B[0m: Interrupted by user"
     ]
    }
   ]
  },
  {
   "cell_type": "markdown",
   "source": [],
   "metadata": {
    "id": "0WkaSYgZuQW3"
   }
  },
  {
   "cell_type": "code",
   "source": [],
   "metadata": {
    "id": "PC-F3vu0sLGz"
   },
   "execution_count": null,
   "outputs": []
  }
 ]
}
